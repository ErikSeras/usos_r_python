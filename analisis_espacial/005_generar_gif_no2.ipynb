{
  "nbformat": 4,
  "nbformat_minor": 0,
  "metadata": {
    "colab": {
      "name": "005_generar_gif_no2.ipynb",
      "provenance": [],
      "authorship_tag": "ABX9TyNQysAJ6A8Brxpk1nWcGioZ",
      "include_colab_link": true
    },
    "kernelspec": {
      "display_name": "Python 3",
      "name": "python3"
    }
  },
  "cells": [
    {
      "cell_type": "markdown",
      "metadata": {
        "id": "view-in-github",
        "colab_type": "text"
      },
      "source": [
        "<a href=\"https://colab.research.google.com/github/ErikSeras/usos_r_python/blob/main/analisis_espacial/005_generar_gif_no2.ipynb\" target=\"_parent\"><img src=\"https://colab.research.google.com/assets/colab-badge.svg\" alt=\"Open In Colab\"/></a>"
      ]
    },
    {
      "cell_type": "markdown",
      "metadata": {
        "id": "PKw2wEgB6f1p"
      },
      "source": [
        "# ¿Cómo observar la variación de $NO_2$ en Lima Metropolitana?"
      ]
    },
    {
      "cell_type": "markdown",
      "metadata": {
        "id": "Dd6voDKPdoG0"
      },
      "source": [
        "Elaborado por: __Erik Seras__ (_er.seras.perez@gmail.com_)\n",
        "\n",
        "Fecha: __2020-11-09__"
      ]
    },
    {
      "cell_type": "markdown",
      "metadata": {
        "id": "aymWi1FhqoN5"
      },
      "source": [
        "Como ejemplo, se quiere ver el desarrollo de las concentraciones de $NO_2$ en Lima Metropolitana. Una de las formas de alcanzar ese objetivo es mediante la creación de un GIF que permita visualizar tales concentraciones.\n",
        "\n",
        "Los insumos necesarios serán:\n",
        "- `earthengine-api`: vinculaciones de Python y JavaScript para llamar a la API de Earth Engine.\n",
        "- `geemap`: un paquete de Python para mapeo interactivo con Google Earth Engine, ipyleaflet e ipywidgets)\n",
        "- `Sentinel-5P NRTI NO2: Near Real-Time Nitrogen Dioxide`: este dataset proporciona imágenes de alta resolución casi en tiempo real de las concentraciones de $NO_2$."
      ]
    },
    {
      "cell_type": "markdown",
      "metadata": {
        "id": "NVLDJhoZdEuA"
      },
      "source": [
        "# 1 Acciones previas"
      ]
    },
    {
      "cell_type": "markdown",
      "metadata": {
        "id": "Bnb5cjrfdHXN"
      },
      "source": [
        "## 1.1 Instalar el paquete `geemap`"
      ]
    },
    {
      "cell_type": "code",
      "metadata": {
        "id": "6YW6tYpW7bsO"
      },
      "source": [
        "## Instalar geemap\n",
        "! pip install geemap"
      ],
      "execution_count": null,
      "outputs": []
    },
    {
      "cell_type": "markdown",
      "metadata": {
        "id": "Ph_S7f4cdQID"
      },
      "source": [
        "## 1.2 Importar paquetes"
      ]
    },
    {
      "cell_type": "code",
      "metadata": {
        "id": "B8SzA2fg-uLP"
      },
      "source": [
        "import ee\n",
        "import geemap.eefolium as geemap\n",
        "import datetime\n",
        "import pandas as pd"
      ],
      "execution_count": 51,
      "outputs": []
    },
    {
      "cell_type": "markdown",
      "metadata": {
        "id": "db_zqQlbdV38"
      },
      "source": [
        "## 1.3 Iniciar sesión de Google Earth Engine"
      ]
    },
    {
      "cell_type": "code",
      "metadata": {
        "id": "HX0K4G4--uJL"
      },
      "source": [
        "# Iniciar sesión de GEE\n",
        "try:\n",
        "    ee.Initialize()\n",
        "except Exception as e:\n",
        "    ee.Authenticate()\n",
        "    ee.Initialize()"
      ],
      "execution_count": null,
      "outputs": []
    },
    {
      "cell_type": "markdown",
      "metadata": {
        "id": "aEwLw4u96yD4"
      },
      "source": [
        "# 2 Crear el GIF con imágenes promedio mensuales de valores de $NO_2$ en Lima Metropolitana"
      ]
    },
    {
      "cell_type": "markdown",
      "metadata": {
        "id": "nYdqTE37iCCl"
      },
      "source": [
        "## 2.1 Función que permite obtener imágenes mensuales"
      ]
    },
    {
      "cell_type": "code",
      "metadata": {
        "id": "lnak2idj93Bn"
      },
      "source": [
        "\"\"\"\n",
        "Elaborado por Erik Seras (2020-09-11)\n",
        "\n",
        "La función monthly_images permite generar una imagen por cada mes\n",
        "de un ImageCollection.\n",
        "\n",
        "Los argumentos son:\n",
        "coleccion: ee.ImageCollection que se quiere procesar\n",
        "roi: región de interés, se usará para cortas la imagen final mediante clip()\n",
        "banda: seleccionar las bandas a analizar ['B1'] o ['B1', 'B2', ...]\n",
        "start_date: fecha de inicio del análisis\n",
        "end_date: fecha de fin del análisis\n",
        "\"\"\"\n",
        "\n",
        "def monthly_images(coleccion, roi, banda, start_date = '2018-09-01', end_date = '2020-09-01'):\n",
        "    \"\"\"\n",
        "    La función generar_no2_mensual genera una imagen promediando los valores\n",
        "    de los pixeles disponibles en un roi dado\n",
        "    \"\"\"\n",
        "    def generar_imagen_mensual(date):\n",
        "        \"\"\"\n",
        "        La función cortar_imagen corta los las imágenes disponibles\n",
        "        basada en un roi dado\n",
        "        \"\"\"\n",
        "        def cortar_imagen(image):\n",
        "            return image.clip(roi)\n",
        "        # Fecha de inicio del mes a analizar\n",
        "        start = ee.Date(date)\n",
        "        # Fecha de fin del mes a analizar\n",
        "        end = ee.Date(date).advance(1, 'month')\n",
        "        # Creación de un rango de datos\n",
        "        date_range = ee.DateRange(start, end)\n",
        "        # Generar una imagen mensual de no2 usando la media\n",
        "        image_no2_mensual = coleccion.select(banda) \\\n",
        "        .filterDate(date_range).filterBounds(roi) \\\n",
        "        .map(cortar_imagen).mean()\n",
        "\n",
        "        return image_no2_mensual\n",
        "\n",
        "    \"\"\"\n",
        "    La función make_datelist crea una lista de fechas en la que se aumenta\n",
        "    n meses a la fecha de inicio\n",
        "    \"\"\"\n",
        "    def make_datelist(n):\n",
        "        return Date_Start.advance(n,'month')\n",
        "\n",
        "    # Fecha de inicio del análisis\n",
        "    Date_Start = ee.Date(start_date)\n",
        "    # Fecha de fin del análisis\n",
        "    Date_End = ee.Date(end_date)\n",
        "    # Diferencia de meses entre la fecha de inicio y fin\n",
        "    n_months = Date_End.difference(Date_Start,'month').round()\n",
        "    # Crear una lista que número enteros\n",
        "    dates = ee.List.sequence(0,n_months,1)\n",
        "    # Usar la función make_datelist para generar imagenes mensuales\n",
        "    dates = dates.map(make_datelist)\n",
        "\n",
        "    # Usar la función generar_imagen_mensual\n",
        "    list_images = dates.map(generar_imagen_mensual)\n",
        "\n",
        "    # Retornoa un ImageCollection con las imagenes mensuales creadas\n",
        "    return ee.ImageCollection(list_images)"
      ],
      "execution_count": 53,
      "outputs": []
    },
    {
      "cell_type": "markdown",
      "metadata": {
        "id": "B7_iY6Z_iIow"
      },
      "source": [
        "## 2.2 Generación y descarga del GIF"
      ]
    },
    {
      "cell_type": "code",
      "metadata": {
        "id": "y5VLXKkqR0jV"
      },
      "source": [
        "# Contorno del GIF\n",
        "aoi = ee.Geometry.Polygon(\n",
        "    [[[-77.430, -11.400],\n",
        "    [-77.430, -12.700],\n",
        "    [-76.450, -12.700],\n",
        "    [-76.450, -11.400]]], None, False\n",
        ")\n",
        "\n",
        "# Lima Metropolitana\n",
        "lima_metropolitana = ee.FeatureCollection(\"FAO/GAUL/2015/level2\") \\\n",
        "    .filterMetadata(\"ADM2_NAME\", \"equals\", \"Lima\")\n",
        "\n",
        "# Dataset Sentinel 5P TROPOMI NO2\n",
        "S5P_no2 = ee.ImageCollection('COPERNICUS/S5P/NRTI/L3_NO2')\n",
        "\n",
        "# Imagenes mensuales promedio de NO2 en Lima Metropolitana\n",
        "lima_metropolitana_no2 = monthly_images(\n",
        "    coleccion = S5P_no2,\n",
        "    roi = lima_metropolitana,\n",
        "    banda = ['NO2_column_number_density'],\n",
        "    start_date = '2018-09-01', end_date = '2020-09-01'\n",
        ")\n",
        "\n",
        "# Argumentos para el GIF\n",
        "videoArgs = {\n",
        "    'dimensions': 1024,\n",
        "    'region': aoi,\n",
        "    'framesPerSecond': 5,\n",
        "    'crs': 'EPSG:3857',\n",
        "    'min': 0,\n",
        "    'max': 0.0003,\n",
        "    # Paleta de inferno de matplotlib\n",
        "    'palette': ['black', 'blue', 'purple', 'cyan', 'green', 'yellow', 'red']\n",
        "}\n",
        "\n",
        "# Dirección del GIF a generar\n",
        "saved_gif = \"no2_mensual.gif\"\n",
        "\n",
        "# Descargar el GIF\n",
        "geemap.download_ee_video(lima_metropolitana_no2, videoArgs, saved_gif)"
      ],
      "execution_count": null,
      "outputs": []
    },
    {
      "cell_type": "markdown",
      "metadata": {
        "id": "cKln-huGh9O1"
      },
      "source": [
        "# 3 Diseño del GIF final"
      ]
    },
    {
      "cell_type": "markdown",
      "metadata": {
        "id": "95u_m_rKiYpm"
      },
      "source": [
        "## 3.1 Contenido a agregar al GIF"
      ]
    },
    {
      "cell_type": "code",
      "metadata": {
        "id": "Rk-176fFlwx9"
      },
      "source": [
        "# Argumentos para geemap.add_text_to_gif()\n",
        "\n",
        "# Fecha de mes para añadir al GIF\n",
        "list_mes_no2 = (\n",
        "    pd.date_range('2018-09-01','2020-10-01' , freq='1M')-pd.offsets.MonthBegin(1)\n",
        ").strftime(\"%Y-%B\").tolist()\n",
        "\n",
        "# Título general del GIF\n",
        "titulo = []\n",
        "\n",
        "for i in range(0, len(list_mes_no2)):\n",
        "    titulo_fecha = \"Dióxido de nitrógeno en Lima Metropolitana \" +list_mes_no2[i]\n",
        "    titulo.append(titulo_fecha)\n",
        "\n",
        "# Nombre del autor del GIF\n",
        "autor = \"Elaborado por: Erik Seras\" # Poner su nombre\n",
        "\n",
        "# Color del texto\n",
        "color_texto = '#9ef0ff' # Formato hex\n",
        "\n",
        "# Tamaño de la fuente\n",
        "tamano_texto = 24\n",
        "\n",
        "# Tener en cuenta el argumente framesPerSecond para crear el GIF en la\n",
        "# sección 2.2, se debe hacer un arreglo para que la el flujo de fotogramas\n",
        "# base del GIF no se altere al usar la función geemap.add_text_to_gif()\n",
        "fps_original = 5 # fps\n",
        "mantener_fps = 100/fps_original*10"
      ],
      "execution_count": 47,
      "outputs": []
    },
    {
      "cell_type": "markdown",
      "metadata": {
        "id": "TIsnYL2JibxB"
      },
      "source": [
        "## 3.2 Maquetación final del GIF"
      ]
    },
    {
      "cell_type": "markdown",
      "metadata": {
        "id": "7HgPQo1LZY0O"
      },
      "source": [
        "Generar los nombres de los GIF a usar."
      ]
    },
    {
      "cell_type": "code",
      "metadata": {
        "id": "uhcCm_JWnpdT"
      },
      "source": [
        "# GIF descargado\n",
        "in_gif = 'no2_mensual.gif'\n",
        "# GIF modificado\n",
        "out_gif = 'no2_mensual_final.gif'"
      ],
      "execution_count": 48,
      "outputs": []
    },
    {
      "cell_type": "markdown",
      "metadata": {
        "id": "1jzQ-dSTZgZO"
      },
      "source": [
        "Añadir el texto necesario para dar un mejor entendimiento al GIF."
      ]
    },
    {
      "cell_type": "code",
      "metadata": {
        "id": "aFV48Tf2oGex"
      },
      "source": [
        "# Función para añadir texto a un GIF\n",
        "geemap.add_text_to_gif(\n",
        "    # Dirección del gif inicial y saliente\n",
        "    in_gif, out_gif,\n",
        "    # Texto que se desea agregar al GIF\n",
        "    text_sequence = titulo,\n",
        "    # Ubicación del texto en el GIF\n",
        "    xy = ('10%', '5%'),\n",
        "    # Color y tamaño del texto\n",
        "    font_color = color_texto, font_size = tamano_texto,\n",
        "    # Velocidad de cada fotograma en milisegundos\n",
        "    duration = mantener_fps\n",
        ")\n",
        "\n",
        "# Función para añadir texto a un GIF\n",
        "geemap.add_text_to_gif(\n",
        "    # Dirección del gif inicial y saliente\n",
        "    out_gif, out_gif,\n",
        "    # Ubicación del texto en el GIF\n",
        "    xy=('55%', '92%'),\n",
        "    text_sequence = autor,\n",
        "    # Color y tamaño del texto\n",
        "    font_color = color_texto, font_size = tamano_texto,\n",
        "    # Velocidad de cada fotograma en milisegundos\n",
        "    duration = mantener_fps\n",
        ")"
      ],
      "execution_count": 49,
      "outputs": []
    },
    {
      "cell_type": "code",
      "metadata": {
        "id": "rovmnSWmNv2S"
      },
      "source": [
        "# Mostrar el GIF final\n",
        "geemap.show_image(out_gif)"
      ],
      "execution_count": null,
      "outputs": []
    },
    {
      "cell_type": "markdown",
      "metadata": {
        "id": "0NEGLE9Aijzd"
      },
      "source": [
        "# Bibliografía"
      ]
    },
    {
      "cell_type": "markdown",
      "metadata": {
        "id": "dCXhhDXxirb7"
      },
      "source": [
        "> Copernicus Sentinel-5P (processed by ESA), 2018, TROPOMI Level 2 Nitrogen Dioxide total column products. Version 01. European Space Agency. https://doi.org/10.5270/S5P-s4ljg54\n",
        "\n",
        "> Gorelick, N., Hancher, M., Dixon, M., Ilyushchenko, S., Thau, D., & Moore, R. (2017). Google Earth Engine: Planetary-scale geospatial analysis for everyone. Remote sensing of Environment, 202, 18-27. https://doi.org/10.1016/j.rse.2017.06.031\n",
        "\n",
        "> Wu, Q., Lane, C. R., Li, X., Zhao, K., Zhou, Y., Clinton, N., DeVries, B., Golden, H. E., & Lang, M. W. (2019). Integrating LiDAR data and multi-temporal aerial imagery to map wetland inundation dynamics using Google Earth Engine. Remote Sensing of Environment, 228, 1-13. https://doi.org/10.1016/j.rse.2019.04.015 ([pdf](https://gishub.org/2019_rse) | [source code](https://doi.org/10.6084/m9.figshare.8864921))\n",
        "\n",
        "> Wu, Q., (2020). geemap: A Python package for interactive mapping with Google Earth Engine. The Journal of Open Source Software, 5(51), 2305. https://doi.org/10.21105/joss.02305"
      ]
    }
  ]
}