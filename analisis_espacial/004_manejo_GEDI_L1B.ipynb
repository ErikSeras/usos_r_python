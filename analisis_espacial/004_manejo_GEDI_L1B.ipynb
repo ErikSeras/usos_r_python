{
  "nbformat": 4,
  "nbformat_minor": 0,
  "metadata": {
    "colab": {
      "name": "004_manejo_GEDI_L1B.ipynb",
      "provenance": [],
      "collapsed_sections": [],
      "toc_visible": true,
      "authorship_tag": "ABX9TyPtXzsyuWF0qL77qBTQB8PK",
      "include_colab_link": true
    },
    "kernelspec": {
      "display_name": "Python 3",
      "name": "python3"
    }
  },
  "cells": [
    {
      "cell_type": "markdown",
      "metadata": {
        "id": "view-in-github",
        "colab_type": "text"
      },
      "source": [
        "<a href=\"https://colab.research.google.com/github/ErikSeras/usos_r_python/blob/main/analisis_espacial/004_manejo_GEDI_L1B.ipynb\" target=\"_parent\"><img src=\"https://colab.research.google.com/assets/colab-badge.svg\" alt=\"Open In Colab\"/></a>"
      ]
    },
    {
      "cell_type": "markdown",
      "metadata": {
        "id": "8venexfSmclO"
      },
      "source": [
        "# __Introducción a los datos GEDI L1B en Python__"
      ]
    },
    {
      "cell_type": "markdown",
      "metadata": {
        "id": "BEkFNyhYwb-d"
      },
      "source": [
        "Elaborado por: __Erik Seras__ (_er.seras.perez@gmail.com_)\n",
        "\n",
        "Fecha: 06-11-2020\n"
      ]
    },
    {
      "cell_type": "markdown",
      "metadata": {
        "id": "0UZOMTZ8wmQ0"
      },
      "source": [
        "---\n",
        "\n",
        "> Este notebook se pudo elaborar gracias a los siguientes tutoriales:\n",
        "- [Getting Started with NASA Global Ecosystems Dynamics Investigation (GEDI) Lidar Data\n",
        "](https://www.youtube.com/watch?v=UlrCC1Xp-wk&t=1954s)\n",
        "- [LP DAAC Data User Resources\n",
        "GEDI-tutorials](https://git.earthdata.nasa.gov/projects/LPDUR/repos/gedi-tutorials/browse)"
      ]
    },
    {
      "cell_type": "markdown",
      "metadata": {
        "id": "F32Rx81xmkqY"
      },
      "source": [
        "---\n",
        "\n",
        "<p align='justify'>Este tutorial demuestra cómo trabajar con el producto de datos de forma de onda geolocalizada  (<a href='https://doi.org/10.5067/GEDI/GEDI01_B.001'>GEDI01_B.001</a>).</p>\n",
        "\n",
        "<p align='justify'>La misión de Investigación de la Dinámica de los Ecosistemas Globales (<a href='https://lpdaac.usgs.gov/data/get-started-data/collection-overview/missions/gedi-overview/'>GEDI</a>) tiene como objetivo caracterizar la estructura y la dinámica de los ecosistemas para permitir una cuantificación y una comprensión radicalmente mejoradas del ciclo del carbono y la biodiversidad de la Tierra. El instrumento GEDI produce observaciones de alcance láser de alta resolución de la estructura tridimensional de la Tierra. GEDI está adjunto a la Estación Espacial Internacional y recopila datos a nivel mundial entre latitudes 51.6 $ ^ {o} $ N y 51.6 $ ^ {o} $ S con la resolución más alta y el muestreo más denso de cualquier instrumento de detección de luz y rango (lidar) en órbita hasta la fecha. Land Processes Distributed Active Archive Center (LP DAAC) distribuye los productos GEDI Nivel 1 y Nivel 2. Los productos L1B y L2 GEDI se archivan y distribuyen en el formato de archivo HDF-EOS5.</p>\n",
        "\n",
        "---\n",
        "\n",
        "__Ejemplo de caso de uso__:\n",
        "\n",
        "<p align='justify'>Este tutorial se desarrolló utilizando un caso de uso de ejemplo para un proyecto que está completando el Servicio de Parques Nacionales. __El objetivo del proyecto es utilizar datos GEDI L1B para observar formas de onda GEDI sobre el Parque Nacional Redwood en el norte de California__.</p>\n",
        "\n",
        "<p align='justify'>Este tutorial mostrará cómo usar Python para abrir archivos GEDI L1B, visualizar la órbita completa de puntos GEDI (tomas), subconjunto a una región de interés, visualizar formas de onda completas GEDI y exportar subconjuntos de capas de conjuntos de datos científicos (SDS) GEDI como GeoJSON archivos que se pueden cargar en programas de software GIS y / o de detección remota.</p>\n",
        "\n",
        "---\n",
        "\n",
        "__Datos utilizados en el ejemplo__:\n",
        "\n",
        "- **GEDI L1B Geolocated Waveform Data Global Footprint Level - [GEDI01_B.001](https://doi.org/10.5067/GEDI/GEDI01_B.001)**\n",
        "    - _El propósito del conjunto de datos L1B es proporcionar formas de onda geolocalizadas y conjuntos de datos de soporte para cada disparo de láser para los ocho rayos GEDI. Esto incluye formas de onda corregidas y suavizadas, parámetros de geolocalización y correcciones geofísicas.._  \n",
        "     - **Science Dataset (SDS) layers:**  \n",
        "        - /geolocation/latitude_bin0  \n",
        "        - /geolocation/longitude_bin0  \n",
        "        - /shot_number  \n",
        "        - /stale_return_flag  \n",
        "        - /geolocation/degrade  \n",
        "        - /rx_sample_count  \n",
        "        - /rx_sample_start_index  \n",
        "        - /rxwaveform  \n",
        "        - /geolocation/elevation_bin0  \n",
        "        - /geolocation/elevation_lastbin  \n",
        "        - /geolocation/digital_elevation_model  \n",
        "\n",
        "---\n",
        "\n",
        "__Tópicos cubiertos__:\n",
        "\n",
        "1. **Comenzar** <br>\n",
        "    1.1 Importar paquetes <br>\n",
        "    1.2 Configurar el entorno de trabajo y recuperar archivos <br>\n",
        "2. **Importar e interpretar datos** <br>\n",
        "    2.1 Abra un archivo GEDI HDF5 y lea los metadatos del archivo <br>\n",
        "    2.2 Leer metadatos SDS y subconjuntos por haz <br>\n",
        "3. **Visualizar una órbita GEDI** <br>\n",
        "    3.1 Subconjunto por capa y creación de un geodataframe <br>\n",
        "    3.2 Visualizar un Geodataframe <br>\n",
        "4. **Subconjunto y visualización de formas de onda** <br>\n",
        "    4.1 Importar y extraer formas de onda <br>\n",
        "    4.2 Visualizar formas de onda <br>\n",
        "5. **Filtro de calidad** <br>\n",
        "6. **Trayectos de perfil de trama** <br>\n",
        "    6.1 Subconjuntos de vigas transversales <br>\n",
        "    6.2 Trazar transectos de forma de onda <br>\n",
        "7. **Visualización espacial** <br>\n",
        "    7.1 Importación, subconjunto y filtro de calidad de todas las vigas <br>\n",
        "    7.2 Subconjunto espacial <br>\n",
        "    7.3 Visualizar todas las vigas: elevación <br>\n",
        "8. **Exportar subconjuntos como archivos GeoJSON** <br>\n",
        "\n",
        "---\n",
        "\n",
        "__Datos de ejemplo__:\n",
        "\n",
        "Este tutorial utiliza la observación GEDI L1B del 19 de junio de 2019 (órbita 02932). Utilice el enlace a continuación para descargar el archivo directamente desde LP DAAC Data Pool:\n",
        "  - https://e4ftl01.cr.usgs.gov/GEDI/GEDI01_B.001/2019.06.19/GEDI01_B_2019170155833_O02932_T02267_02_003_01.h5 (7.87 GB)\n",
        "\n",
        "Se requiere una cuenta de [NASA Earthdata Login](https://urs.earthdata.nasa.gov/) para descargar los datos utilizados en este tutorial. Puede crear una cuenta en el enlace proporcionado. Y también es requerido obtener autorización a su cuenta para poder usar datos GEDI.\n",
        "\n",
        "Necesitará descargar el archivo anterior en el mismo directorio que este Jupyter Notebook para ejecutar correctamente el código siguiente.\n",
        "\n",
        "---\n",
        "\n",
        "__Código fuente utilizado para generar este tutorial__:\n",
        "\n",
        "El repositorio que contiene todos los archivos requeridos se encuentra en: https://git.earthdata.nasa.gov/projects/LPDUR/repos/gedi-tutorials/browse\n",
        "- [Cuaderno Jupyter](https://git.earthdata.nasa.gov/projects/LPDUR/repos/gedi-tutorials/browse/GEDI_L1B_Tutorial.ipynb)\n",
        "- [Parque Nacional Redwood GeoJSON](https://git.earthdata.nasa.gov/projects/LPDUR/repos/gedi-tutorials/browse/RedwoodNP.geojson)\n",
        "     - Contiene el límite administrativo del Parque Nacional Redwood, disponible en: [Límites administrativos de las unidades del sistema de parques nacionales 31/12/2017 - Conjunto de datos de parques nacionales de NPS del activo de datos geoespaciales nacionales (NGDA)](https://irma.nps.gov/DataStore/DownloadFile/594958)\n",
        "\n",
        "<div class = \"alerta alerta-bloque alerta-advertencia\">\n",
        "<b> NOTA: </b> Este tutorial fue desarrollado para archivos GEDI L1B HDF-EOS5 y solo debe usarse para ese producto. </div>"
      ]
    },
    {
      "cell_type": "markdown",
      "metadata": {
        "id": "RPhBzlLtwF-5"
      },
      "source": [
        "---\n",
        "# 1 Comenzar <a id=\"getstarted\"></a>"
      ]
    },
    {
      "cell_type": "markdown",
      "metadata": {
        "id": "2pG-GpDJ2bei"
      },
      "source": [
        "## 1.1 Instalar archivos y paquetes necesarios"
      ]
    },
    {
      "cell_type": "code",
      "metadata": {
        "id": "xUZb2_BdmAeE"
      },
      "source": [
        "# Archivos para análisis espacial\n",
        "! sudo add-apt-repository -y ppa:ubuntugis/ubuntugis-unstable\n",
        "! sudo apt-get update\n",
        "! sudo apt-get install libudunits2-dev libgdal-dev libgeos-dev libproj-dev\n",
        "! sudo apt-get install libprotobuf-dev protobuf-compiler libv8-dev libjq-dev"
      ],
      "execution_count": null,
      "outputs": []
    },
    {
      "cell_type": "code",
      "metadata": {
        "id": "MpZKPXZU2oFy"
      },
      "source": [
        "! pip install geopandas\n",
        "! pip install Shapely\n",
        "! pip install geoviews\n",
        "! pip install bokeh"
      ],
      "execution_count": null,
      "outputs": []
    },
    {
      "cell_type": "code",
      "metadata": {
        "id": "WE1P-8aY2oIW"
      },
      "source": [
        "import os\n",
        "import h5py\n",
        "import numpy as np\n",
        "import pandas as pd\n",
        "import geopandas as gp\n",
        "from shapely.geometry import Point\n",
        "import geoviews as gv\n",
        "from geoviews import opts, tile_sources as gvts\n",
        "import holoviews as hv\n",
        "gv.extension('bokeh', 'matplotlib')"
      ],
      "execution_count": null,
      "outputs": []
    },
    {
      "cell_type": "markdown",
      "metadata": {
        "id": "IWqZlVopi3OC"
      },
      "source": [
        "Directorios para guardar los elementos a trabajar."
      ]
    },
    {
      "cell_type": "code",
      "metadata": {
        "id": "rEjG5kP42oK6"
      },
      "source": [
        "# Directorio para guardar la data cruda\n",
        "! mkdir input\n",
        "# Directorio para guardar lo generado por el código\n",
        "! mkdir output"
      ],
      "execution_count": null,
      "outputs": []
    },
    {
      "cell_type": "markdown",
      "metadata": {
        "id": "P89TaSfbih1y"
      },
      "source": [
        "Pasos necesarios para descargar directamente los datos de Nasa Earthdata."
      ]
    },
    {
      "cell_type": "markdown",
      "metadata": {
        "id": "sJA5fmFnMyR_"
      },
      "source": [
        "## 1.2 Acceder directamente a los archivos de GEDI"
      ]
    },
    {
      "cell_type": "markdown",
      "metadata": {
        "id": "lfJCQkUaQYh3"
      },
      "source": [
        "Para poder descargar directamente datos GEDI L1B deberá iniciar sesión en el entorno de Google Colab con su cuenta de usuario de Nasa EarthData."
      ]
    },
    {
      "cell_type": "markdown",
      "metadata": {
        "id": "dVX9JF7QP2BK"
      },
      "source": [
        "https://git.earthdata.nasa.gov/projects/LPDUR/repos/daac_data_download_python/browse/EarthdataLoginSetup.py#13"
      ]
    },
    {
      "cell_type": "code",
      "metadata": {
        "id": "GuaQksaGPEu0"
      },
      "source": [
        "from netrc import netrc\n",
        "from subprocess import Popen\n",
        "from getpass import getpass\n",
        "import os"
      ],
      "execution_count": null,
      "outputs": []
    },
    {
      "cell_type": "code",
      "metadata": {
        "id": "3Xqg2UIKjlfE"
      },
      "source": [
        "urs = 'urs.earthdata.nasa.gov'\n",
        "prompts = [\n",
        "    'Ingrese el nombre de usuario de inicio de sesión de NASA Earthdata \\n(o cree una cuenta en urs.earthdata.nasa.gov): ',\n",
        "    'Ingrese la contraseña de inicio de sesión de NASA Earthdata'\n",
        "]"
      ],
      "execution_count": null,
      "outputs": []
    },
    {
      "cell_type": "markdown",
      "metadata": {
        "id": "j_vE-Z7UP4xP"
      },
      "source": [
        "https://stackoverflow.com/questions/14460189/python-try-except-not-working"
      ]
    },
    {
      "cell_type": "code",
      "metadata": {
        "id": "9q1XAPQzjliF"
      },
      "source": [
        "# Determine si el archivo netrc existe y, de ser así, si incluye credenciales de inicio de sesión de NASA Earthdata\n",
        "\n",
        "# Determine if netrc file exists, and if so, if it includes NASA Earthdata Login Credentials\n",
        "try:\n",
        "    netrcDir = os.path.expanduser(\"~/.netrc\")\n",
        "    netrc(netrcDir).authenticators(urs)[0]\n",
        "\n",
        "# Below, create a netrc file and prompt user for NASA Earthdata Login Username and Password\n",
        "except Exception:\n",
        "    homeDir = os.path.expanduser(\"~\")\n",
        "    Popen('touch {0}.netrc | chmod og-rw {0}.netrc | echo machine {1} >> {0}.netrc'.format(homeDir + os.sep, urs), shell=True)\n",
        "    Popen('echo login {} >> {}.netrc'.format(getpass(prompt=prompts[0]), homeDir + os.sep), shell=True)\n",
        "    Popen('echo password {} >> {}.netrc'.format(getpass(prompt=prompts[1]), homeDir + os.sep), shell=True)"
      ],
      "execution_count": null,
      "outputs": []
    },
    {
      "cell_type": "markdown",
      "metadata": {
        "id": "Z7FK4vX4Qad4"
      },
      "source": [
        "Descargar la data directamente con `wget`."
      ]
    },
    {
      "cell_type": "markdown",
      "metadata": {
        "id": "3n_p3ULyXQ9C"
      },
      "source": [
        "https://lpdaac.usgs.gov/resources/e-learning/how-access-lp-daac-data-command-line/"
      ]
    },
    {
      "cell_type": "code",
      "metadata": {
        "id": "4rLHRB2lQcz3"
      },
      "source": [
        "# Son casi 8 GB, asi que esto tomará un buen tiempo, todo dependerá de su internet\n",
        "! wget https://e4ftl01.cr.usgs.gov/GEDI/GEDI01_B.001/2019.06.19/GEDI01_B_2019170155833_O02932_T02267_02_003_01.h5 -P input"
      ],
      "execution_count": null,
      "outputs": []
    },
    {
      "cell_type": "markdown",
      "metadata": {
        "id": "fxN1LzQ9XTLk"
      },
      "source": [
        "Como el archivo a trabajar pesa casi 8GB, puede guardar en su Google Drive para no perder la info descargada."
      ]
    },
    {
      "cell_type": "code",
      "metadata": {
        "id": "1yzDd3tlPwpy",
        "outputId": "0a5156af-54d6-4d3d-ee4d-9c6c27fa9d11",
        "colab": {
          "base_uri": "https://localhost:8080/"
        }
      },
      "source": [
        "from google.colab import drive\n",
        "drive.mount('/content/drive/', force_remount=True)"
      ],
      "execution_count": null,
      "outputs": [
        {
          "output_type": "stream",
          "text": [
            "Mounted at /content/drive/\n"
          ],
          "name": "stdout"
        }
      ]
    },
    {
      "cell_type": "code",
      "metadata": {
        "id": "hLQZd1OKNQUD",
        "outputId": "544edc6d-c708-4516-83d8-1d78f4cfa646",
        "colab": {
          "base_uri": "https://localhost:8080/"
        }
      },
      "source": [
        "# Guardar a una carpeta de Google Drive (puede demorar unos minutos)\n",
        "! cp /content/input/GEDI01_B_2019170155833_O02932_T02267_02_003_01.h5 \"/content/drive/My Drive/Colab Notebooks/python_r_gis/data\""
      ],
      "execution_count": null,
      "outputs": [
        {
          "output_type": "stream",
          "text": [
            "cp: cannot stat '/content/input/GEDI01_B_2019170155833_O02932_T02267_02_003_01.h5': No such file or directory\n"
          ],
          "name": "stdout"
        }
      ]
    },
    {
      "cell_type": "markdown",
      "metadata": {
        "id": "hf-yTifIhA6p"
      },
      "source": [
        "En caso ya se tenga el archivo en Google Drive y quiera practicar posteriormente con el notebook."
      ]
    },
    {
      "cell_type": "code",
      "metadata": {
        "id": "g34LNncChEl3"
      },
      "source": [
        "! cp \"/content/drive/My Drive/Colab Notebooks/python_r_gis/data/GEDI01_B_2019170155833_O02932_T02267_02_003_01.h5\" /content/input"
      ],
      "execution_count": null,
      "outputs": []
    },
    {
      "cell_type": "code",
      "metadata": {
        "id": "FYcKeZvYXZln",
        "outputId": "e9bcfc1b-d278-42e5-a0a9-8bb6bda46ff9",
        "colab": {
          "base_uri": "https://localhost:8080/"
        }
      },
      "source": [
        "# Obtener los nombres de los archivos\n",
        "gediFiles = [g for g in os.listdir('input') if g.startswith('GEDI01_B') and g.endswith('.h5')]  # List all GEDI L1B .h5 files in inDir\n",
        "gediFiles"
      ],
      "execution_count": null,
      "outputs": [
        {
          "output_type": "execute_result",
          "data": {
            "text/plain": [
              "['GEDI01_B_2019170155833_O02932_T02267_02_003_01.h5']"
            ]
          },
          "metadata": {
            "tags": []
          },
          "execution_count": 5
        }
      ]
    },
    {
      "cell_type": "markdown",
      "metadata": {
        "id": "Lo0ys-UsoAql"
      },
      "source": [
        "# 2 Importar e interpretar datos"
      ]
    },
    {
      "cell_type": "markdown",
      "metadata": {
        "id": "5xrW5L5IoGvP"
      },
      "source": [
        "## 2.1 Abrir un archivo GEDI HDF5 y lea los metadatos del archivo"
      ]
    },
    {
      "cell_type": "markdown",
      "metadata": {
        "id": "ja2hJg_7oKaA"
      },
      "source": [
        "Leer el archivo usando `h5py`."
      ]
    },
    {
      "cell_type": "code",
      "metadata": {
        "id": "7iNti1ivXZqy",
        "outputId": "f371f07a-3883-4292-c6f8-0b01d0e9e61d",
        "colab": {
          "base_uri": "https://localhost:8080/",
          "height": 35
        }
      },
      "source": [
        "L1B = 'GEDI01_B_2019170155833_O02932_T02267_02_003_01.h5'\n",
        "L1B"
      ],
      "execution_count": null,
      "outputs": [
        {
          "output_type": "execute_result",
          "data": {
            "application/vnd.google.colaboratory.intrinsic+json": {
              "type": "string"
            },
            "text/plain": [
              "'GEDI01_B_2019170155833_O02932_T02267_02_003_01.h5'"
            ]
          },
          "metadata": {
            "tags": []
          },
          "execution_count": 6
        }
      ]
    },
    {
      "cell_type": "markdown",
      "metadata": {
        "id": "bLmd5ptzooSA"
      },
      "source": [
        "El formato estándar para los nombres de archivo GEDI es el siguiente:\n",
        "\n",
        "> __GEDI01_B__: Nombre corto del producto <br>\n",
        "__2019170155833__: Fecha y hora juliana de adquisición (YYYYDDDHHMMSS) <br>\n",
        "__O02932__: Número de órbita <br>\n",
        "__T02267__: Número de pista <br>\n",
        "__02__: Tipo de sistema de determinación de posicionamiento y señalamiento  (PPDS) (00 es predecible, 01 rápido, 02 y superior es final) <br>\n",
        "__003__: Número de versión de GOC SDS (software) <br>\n",
        "__01__: Versión de producción de gránulos <br>"
      ]
    },
    {
      "cell_type": "markdown",
      "metadata": {
        "id": "Suqbh-Z7pbcO"
      },
      "source": [
        "Leer un archivo GEDI HDF5 usando el paquete `h5py`."
      ]
    },
    {
      "cell_type": "code",
      "metadata": {
        "id": "rE50mnHtXZoy"
      },
      "source": [
        "gediL1B = h5py.File('input/'+ L1B, 'r')"
      ],
      "execution_count": null,
      "outputs": []
    },
    {
      "cell_type": "markdown",
      "metadata": {
        "id": "QcyjMjyhqUZE"
      },
      "source": [
        "Navegue por el archivo HDF5 a continuación."
      ]
    },
    {
      "cell_type": "code",
      "metadata": {
        "id": "94spZ7FK4Ehk",
        "outputId": "5484472b-577a-4df9-a0d1-821a1c12b856",
        "colab": {
          "base_uri": "https://localhost:8080/"
        }
      },
      "source": [
        "list(gediL1B.keys())"
      ],
      "execution_count": null,
      "outputs": [
        {
          "output_type": "execute_result",
          "data": {
            "text/plain": [
              "['BEAM0000',\n",
              " 'BEAM0001',\n",
              " 'BEAM0010',\n",
              " 'BEAM0011',\n",
              " 'BEAM0101',\n",
              " 'BEAM0110',\n",
              " 'BEAM1000',\n",
              " 'BEAM1011',\n",
              " 'METADATA']"
            ]
          },
          "metadata": {
            "tags": []
          },
          "execution_count": 8
        }
      ]
    },
    {
      "cell_type": "markdown",
      "metadata": {
        "id": "uo3atj1rqaGa"
      },
      "source": [
        "El archivo GEDI HDF5 contiene grupos en los que se almacenan datos y metadatos.\n",
        "Primero, el grupo `METADATA` contiene los metadatos a nivel de archivo."
      ]
    },
    {
      "cell_type": "code",
      "metadata": {
        "id": "CpyfsP53nV4k",
        "outputId": "c69b68e8-e7c1-4033-8f3c-20bb520a06f0",
        "colab": {
          "base_uri": "https://localhost:8080/"
        }
      },
      "source": [
        "list(gediL1B['METADATA'])"
      ],
      "execution_count": null,
      "outputs": [
        {
          "output_type": "execute_result",
          "data": {
            "text/plain": [
              "['DatasetIdentification']"
            ]
          },
          "metadata": {
            "tags": []
          },
          "execution_count": 9
        }
      ]
    },
    {
      "cell_type": "markdown",
      "metadata": {
        "id": "ETM_nH9wrTzQ"
      },
      "source": [
        "Contiene información útil como la fecha de creación, PGEVersion y VersionID. A continuación, imprima los atributos de metadatos a nivel de archivo."
      ]
    },
    {
      "cell_type": "code",
      "metadata": {
        "id": "KtsDk57OnVyW",
        "outputId": "325c9c04-e823-4552-a038-a0dceb025093",
        "colab": {
          "base_uri": "https://localhost:8080/"
        }
      },
      "source": [
        "for g in gediL1B['METADATA']['DatasetIdentification'].attrs: print(g) "
      ],
      "execution_count": null,
      "outputs": [
        {
          "output_type": "stream",
          "text": [
            "PGEVersion\n",
            "VersionID\n",
            "abstract\n",
            "characterSet\n",
            "creationDate\n",
            "credit\n",
            "fileName\n",
            "language\n",
            "originatorOrganizationName\n",
            "purpose\n",
            "shortName\n",
            "spatialRepresentationType\n",
            "status\n",
            "topicCategory\n",
            "uuid\n"
          ],
          "name": "stdout"
        }
      ]
    },
    {
      "cell_type": "code",
      "metadata": {
        "id": "dLkKlePkmNxK",
        "outputId": "704ba2aa-1c45-4ce8-e6ac-867fdd3dbf2b",
        "colab": {
          "base_uri": "https://localhost:8080/"
        }
      },
      "source": [
        "print(gediL1B['METADATA']['DatasetIdentification'].attrs['purpose'])"
      ],
      "execution_count": null,
      "outputs": [
        {
          "output_type": "stream",
          "text": [
            "The purpose of the L1B dataset is to provide geolocated waveforms and supporting datasets for each laser shot for all eight GEDI beams.  This includes corrected and smoothed waveforms, geolocation parameters, and geophysical corrections.\n"
          ],
          "name": "stdout"
        }
      ]
    },
    {
      "cell_type": "markdown",
      "metadata": {
        "id": "KTtRt_SzrtoV"
      },
      "source": [
        "## 2.2 Leer metadatos SDS y subconjuntos por haz"
      ]
    },
    {
      "cell_type": "markdown",
      "metadata": {
        "id": "Q9FMGhVmr9LL"
      },
      "source": [
        "El instrumento GEDI consta de 3 láseres que producen un total de 8 transectos de tierra de haz. Los ocho grupos restantes contienen datos para cada uno de los ocho transectos de haces GEDI. Para obtener información adicional, asegúrese de consultar: https://gedi.umd.edu/instrument/specifications/."
      ]
    },
    {
      "cell_type": "code",
      "metadata": {
        "id": "gsVhbD7lnXI3",
        "outputId": "29b26ca1-6a36-4b44-da26-1577a4a0505e",
        "colab": {
          "base_uri": "https://localhost:8080/"
        }
      },
      "source": [
        "beamNames = [g for g in gediL1B.keys() if g.startswith('BEAM')]\n",
        "beamNames"
      ],
      "execution_count": null,
      "outputs": [
        {
          "output_type": "execute_result",
          "data": {
            "text/plain": [
              "['BEAM0000',\n",
              " 'BEAM0001',\n",
              " 'BEAM0010',\n",
              " 'BEAM0011',\n",
              " 'BEAM0101',\n",
              " 'BEAM0110',\n",
              " 'BEAM1000',\n",
              " 'BEAM1011']"
            ]
          },
          "metadata": {
            "tags": []
          },
          "execution_count": 12
        }
      ]
    },
    {
      "cell_type": "markdown",
      "metadata": {
        "id": "1PDgG-5KsJej"
      },
      "source": [
        "Una pieza útil de metadatos para recuperar de cada transecto de haz es si se trata de un haz de máxima potencia o de cobertura."
      ]
    },
    {
      "cell_type": "code",
      "metadata": {
        "id": "ztfvDMSdrkw7",
        "outputId": "0c1d7ee5-5a00-48f3-e51c-2e2d051c7232",
        "colab": {
          "base_uri": "https://localhost:8080/"
        }
      },
      "source": [
        "for g in gediL1B['BEAM0000'].attrs: print(g)"
      ],
      "execution_count": null,
      "outputs": [
        {
          "output_type": "stream",
          "text": [
            "description\n",
            "wp-l1a-to-l1b_githash\n",
            "wp-l1a-to-l1b_version\n"
          ],
          "name": "stdout"
        }
      ]
    },
    {
      "cell_type": "code",
      "metadata": {
        "id": "ccp2VzYvrk6l",
        "outputId": "0f1578ba-8a2e-49c5-a6db-ff95340bea41",
        "colab": {
          "base_uri": "https://localhost:8080/"
        }
      },
      "source": [
        "for b in beamNames: \n",
        "    print(f\"{b} is a {gediL1B[b].attrs['description']}\")"
      ],
      "execution_count": null,
      "outputs": [
        {
          "output_type": "stream",
          "text": [
            "BEAM0000 is a Coverage beam\n",
            "BEAM0001 is a Coverage beam\n",
            "BEAM0010 is a Coverage beam\n",
            "BEAM0011 is a Coverage beam\n",
            "BEAM0101 is a Full power beam\n",
            "BEAM0110 is a Full power beam\n",
            "BEAM1000 is a Full power beam\n",
            "BEAM1011 is a Full power beam\n"
          ],
          "name": "stdout"
        }
      ]
    },
    {
      "cell_type": "markdown",
      "metadata": {
        "id": "OO8akv1_sWV_"
      },
      "source": [
        "A continuación, elija uno de los haces de máxima potencia que se utilizarán para recuperar formas de onda GEDI L1B en la Sección 3."
      ]
    },
    {
      "cell_type": "code",
      "metadata": {
        "id": "g-SC4TWrrk3U"
      },
      "source": [
        "beamNames = ['BEAM0110']"
      ],
      "execution_count": null,
      "outputs": []
    },
    {
      "cell_type": "markdown",
      "metadata": {
        "id": "nLCo-gQOsgeN"
      },
      "source": [
        "Identifique todos los objetos en el archivo GEDI HDF5 a continuación."
      ]
    },
    {
      "cell_type": "code",
      "metadata": {
        "id": "0arfW6lCrk1J",
        "outputId": "a0559a29-1681-475d-9552-53900a57268b",
        "colab": {
          "base_uri": "https://localhost:8080/"
        }
      },
      "source": [
        "gediL1B_objs = []\n",
        "gediL1B.visit(gediL1B_objs.append)                                           # Recuperar lista de conjuntos de datos\n",
        "gediSDS = [o for o in gediL1B_objs if isinstance(gediL1B[o], h5py.Dataset)]  # Busque SDS relevante dentro del archivo de datos\n",
        "[i for i in gediSDS if beamNames[0] in i][0:10]                              # Imprima los primeros 10 conjuntos de datos para la viga seleccionada"
      ],
      "execution_count": null,
      "outputs": [
        {
          "output_type": "execute_result",
          "data": {
            "text/plain": [
              "['BEAM0110/all_samples_sum',\n",
              " 'BEAM0110/ancillary/master_time_epoch',\n",
              " 'BEAM0110/ancillary/mean_samples',\n",
              " 'BEAM0110/ancillary/smoothing_width',\n",
              " 'BEAM0110/beam',\n",
              " 'BEAM0110/channel',\n",
              " 'BEAM0110/geolocation/altitude_instrument',\n",
              " 'BEAM0110/geolocation/altitude_instrument_error',\n",
              " 'BEAM0110/geolocation/bounce_time_offset_bin0',\n",
              " 'BEAM0110/geolocation/bounce_time_offset_bin0_error']"
            ]
          },
          "metadata": {
            "tags": []
          },
          "execution_count": 16
        }
      ]
    },
    {
      "cell_type": "markdown",
      "metadata": {
        "id": "7IfRxTLisxHa"
      },
      "source": [
        "# 3 Visualizar una órbita GEDI\n",
        "En la siguiente sección, importe las capas SDS de GEDI L1B en un GeoDataFrame de GeoPandas para la viga especificada anteriormente.\n",
        "Utilice `latitude_bin0` y `longitude_bin0` para crear un punto `shapely` para cada ubicación de disparo GEDI."
      ]
    },
    {
      "cell_type": "markdown",
      "metadata": {
        "id": "NfSxV_R1v5ZZ"
      },
      "source": [
        "## 3.1 Subconjunto por capa y crear un geodataframe\n",
        "\n",
        "Leer la SDS y tome una muestra representativa (cada toma 100) y añádala a las listas, luego use las listas para generar un data frame de `pandas`."
      ]
    },
    {
      "cell_type": "code",
      "metadata": {
        "id": "aD2YFnXcsacI",
        "outputId": "17d17c4c-450c-419e-940f-eb6b6ddd6da7",
        "colab": {
          "base_uri": "https://localhost:8080/",
          "height": 419
        }
      },
      "source": [
        "lonSample, latSample, shotSample, srfSample, degradeSample, beamSample = [], [], [], [], [], []  # Set up lists to store data\n",
        "\n",
        "# Open the SDS\n",
        "lats = gediL1B[f'{beamNames[0]}/geolocation/latitude_bin0'][()]\n",
        "lons = gediL1B[f'{beamNames[0]}/geolocation/longitude_bin0'][()]\n",
        "shots = gediL1B[f'{beamNames[0]}/shot_number'][()]\n",
        "srf = gediL1B[f'{beamNames[0]}/stale_return_flag'][()]\n",
        "degrade = gediL1B[f'{beamNames[0]}/geolocation/degrade'][()]\n",
        "\n",
        "# Take every 100th shot and append to list\n",
        "for i in range(len(shots)):\n",
        "    if i % 100 == 0:\n",
        "        shotSample.append(str(shots[i]))\n",
        "        lonSample.append(lons[i])\n",
        "        latSample.append(lats[i])\n",
        "        srfSample.append(srf[i])\n",
        "        degradeSample.append(degrade[i])\n",
        "        beamSample.append(beamNames[0])\n",
        "            \n",
        "# Write all of the sample shots to a dataframe\n",
        "latslons = pd.DataFrame({'Beam': beamSample, 'Shot Number': shotSample, 'Longitude': lonSample, 'Latitude': latSample,\n",
        "                         'Stale Return Flag': srfSample, 'Degrade': degradeSample})\n",
        "latslons"
      ],
      "execution_count": null,
      "outputs": [
        {
          "output_type": "execute_result",
          "data": {
            "text/html": [
              "<div>\n",
              "<style scoped>\n",
              "    .dataframe tbody tr th:only-of-type {\n",
              "        vertical-align: middle;\n",
              "    }\n",
              "\n",
              "    .dataframe tbody tr th {\n",
              "        vertical-align: top;\n",
              "    }\n",
              "\n",
              "    .dataframe thead th {\n",
              "        text-align: right;\n",
              "    }\n",
              "</style>\n",
              "<table border=\"1\" class=\"dataframe\">\n",
              "  <thead>\n",
              "    <tr style=\"text-align: right;\">\n",
              "      <th></th>\n",
              "      <th>Beam</th>\n",
              "      <th>Shot Number</th>\n",
              "      <th>Longitude</th>\n",
              "      <th>Latitude</th>\n",
              "      <th>Stale Return Flag</th>\n",
              "      <th>Degrade</th>\n",
              "    </tr>\n",
              "  </thead>\n",
              "  <tbody>\n",
              "    <tr>\n",
              "      <th>0</th>\n",
              "      <td>BEAM0110</td>\n",
              "      <td>29320618800000001</td>\n",
              "      <td>111.996300</td>\n",
              "      <td>-51.803868</td>\n",
              "      <td>1</td>\n",
              "      <td>0</td>\n",
              "    </tr>\n",
              "    <tr>\n",
              "      <th>1</th>\n",
              "      <td>BEAM0110</td>\n",
              "      <td>29320604600000101</td>\n",
              "      <td>112.039132</td>\n",
              "      <td>-51.803905</td>\n",
              "      <td>1</td>\n",
              "      <td>0</td>\n",
              "    </tr>\n",
              "    <tr>\n",
              "      <th>2</th>\n",
              "      <td>BEAM0110</td>\n",
              "      <td>29320614600000201</td>\n",
              "      <td>112.080271</td>\n",
              "      <td>-51.803836</td>\n",
              "      <td>1</td>\n",
              "      <td>0</td>\n",
              "    </tr>\n",
              "    <tr>\n",
              "      <th>3</th>\n",
              "      <td>BEAM0110</td>\n",
              "      <td>29320600400000301</td>\n",
              "      <td>112.121445</td>\n",
              "      <td>-51.803737</td>\n",
              "      <td>1</td>\n",
              "      <td>0</td>\n",
              "    </tr>\n",
              "    <tr>\n",
              "      <th>4</th>\n",
              "      <td>BEAM0110</td>\n",
              "      <td>29320610400000401</td>\n",
              "      <td>112.162622</td>\n",
              "      <td>-51.803621</td>\n",
              "      <td>1</td>\n",
              "      <td>0</td>\n",
              "    </tr>\n",
              "    <tr>\n",
              "      <th>...</th>\n",
              "      <td>...</td>\n",
              "      <td>...</td>\n",
              "      <td>...</td>\n",
              "      <td>...</td>\n",
              "      <td>...</td>\n",
              "      <td>...</td>\n",
              "    </tr>\n",
              "    <tr>\n",
              "      <th>9792</th>\n",
              "      <td>BEAM0110</td>\n",
              "      <td>29320617400979201</td>\n",
              "      <td>88.208452</td>\n",
              "      <td>-51.803578</td>\n",
              "      <td>1</td>\n",
              "      <td>0</td>\n",
              "    </tr>\n",
              "    <tr>\n",
              "      <th>9793</th>\n",
              "      <td>BEAM0110</td>\n",
              "      <td>29320603200979301</td>\n",
              "      <td>88.249610</td>\n",
              "      <td>-51.803614</td>\n",
              "      <td>1</td>\n",
              "      <td>0</td>\n",
              "    </tr>\n",
              "    <tr>\n",
              "      <th>9794</th>\n",
              "      <td>BEAM0110</td>\n",
              "      <td>29320613200979401</td>\n",
              "      <td>88.290753</td>\n",
              "      <td>-51.803581</td>\n",
              "      <td>1</td>\n",
              "      <td>0</td>\n",
              "    </tr>\n",
              "    <tr>\n",
              "      <th>9795</th>\n",
              "      <td>BEAM0110</td>\n",
              "      <td>29320623200979501</td>\n",
              "      <td>88.331913</td>\n",
              "      <td>-51.803548</td>\n",
              "      <td>1</td>\n",
              "      <td>0</td>\n",
              "    </tr>\n",
              "    <tr>\n",
              "      <th>9796</th>\n",
              "      <td>BEAM0110</td>\n",
              "      <td>29320609000979601</td>\n",
              "      <td>88.373089</td>\n",
              "      <td>-51.803506</td>\n",
              "      <td>1</td>\n",
              "      <td>0</td>\n",
              "    </tr>\n",
              "  </tbody>\n",
              "</table>\n",
              "<p>9797 rows × 6 columns</p>\n",
              "</div>"
            ],
            "text/plain": [
              "          Beam        Shot Number  ...  Stale Return Flag  Degrade\n",
              "0     BEAM0110  29320618800000001  ...                  1        0\n",
              "1     BEAM0110  29320604600000101  ...                  1        0\n",
              "2     BEAM0110  29320614600000201  ...                  1        0\n",
              "3     BEAM0110  29320600400000301  ...                  1        0\n",
              "4     BEAM0110  29320610400000401  ...                  1        0\n",
              "...        ...                ...  ...                ...      ...\n",
              "9792  BEAM0110  29320617400979201  ...                  1        0\n",
              "9793  BEAM0110  29320603200979301  ...                  1        0\n",
              "9794  BEAM0110  29320613200979401  ...                  1        0\n",
              "9795  BEAM0110  29320623200979501  ...                  1        0\n",
              "9796  BEAM0110  29320609000979601  ...                  1        0\n",
              "\n",
              "[9797 rows x 6 columns]"
            ]
          },
          "metadata": {
            "tags": []
          },
          "execution_count": 17
        }
      ]
    },
    {
      "cell_type": "markdown",
      "metadata": {
        "id": "FCVAwgyPuWZN"
      },
      "source": [
        "Arriba hay un marco de datos que contiene columnas que describen el haz, el número de disparos, la ubicación lat / lon e información de calidad sobre cada disparo."
      ]
    },
    {
      "cell_type": "code",
      "metadata": {
        "id": "iDCHWJDNsav9"
      },
      "source": [
        "# Limpiar variables que ya no serán necesarias\n",
        "del beamSample, degrade, degradeSample, gediL1B_objs, latSample, lats, lonSample, lons, shotSample, shots, srf, srfSample "
      ],
      "execution_count": null,
      "outputs": []
    },
    {
      "cell_type": "markdown",
      "metadata": {
        "id": "Cs0KIUmhun_a"
      },
      "source": [
        "A continuación, cree una columna adicional llamada \"geometría\" que contenga un punto `shapely` generado a partir de cada ubicación lat / lon de la toma"
      ]
    },
    {
      "cell_type": "code",
      "metadata": {
        "id": "LqhWW69ysat5"
      },
      "source": [
        "# Take the lat/lon dataframe and convert each lat/lon to a shapely point\n",
        "latslons['geometry'] = latslons.apply(lambda row: Point(row.Longitude, row.Latitude), axis=1)"
      ],
      "execution_count": null,
      "outputs": []
    },
    {
      "cell_type": "markdown",
      "metadata": {
        "id": "aIUI_HRcuzuf"
      },
      "source": [
        "A continuación, conviértalo en un GeoDataFrame de `Geopandas`."
      ]
    },
    {
      "cell_type": "code",
      "metadata": {
        "id": "C_7jmKZesasP",
        "outputId": "f5a98e88-e24e-435f-c3c3-77e326c9e177",
        "colab": {
          "base_uri": "https://localhost:8080/"
        }
      },
      "source": [
        "# Convert to a Geodataframe\n",
        "latslons = gp.GeoDataFrame(latslons)\n",
        "latslons = latslons.drop(columns=['Latitude','Longitude'])\n",
        "latslons['geometry']"
      ],
      "execution_count": null,
      "outputs": [
        {
          "output_type": "execute_result",
          "data": {
            "text/plain": [
              "0       POINT (111.99630 -51.80387)\n",
              "1       POINT (112.03913 -51.80391)\n",
              "2       POINT (112.08027 -51.80384)\n",
              "3       POINT (112.12145 -51.80374)\n",
              "4       POINT (112.16262 -51.80362)\n",
              "                   ...             \n",
              "9792     POINT (88.20845 -51.80358)\n",
              "9793     POINT (88.24961 -51.80361)\n",
              "9794     POINT (88.29075 -51.80358)\n",
              "9795     POINT (88.33191 -51.80355)\n",
              "9796     POINT (88.37309 -51.80351)\n",
              "Name: geometry, Length: 9797, dtype: geometry"
            ]
          },
          "metadata": {
            "tags": []
          },
          "execution_count": 20
        }
      ]
    },
    {
      "cell_type": "markdown",
      "metadata": {
        "id": "6oDycnxcvbZ5"
      },
      "source": [
        "Saque y trace un ejemplo de punto `shapely` a continuación."
      ]
    },
    {
      "cell_type": "code",
      "metadata": {
        "id": "ZuYS3YdEsaqh"
      },
      "source": [
        "latslons['geometry'][0]"
      ],
      "execution_count": null,
      "outputs": []
    },
    {
      "cell_type": "markdown",
      "metadata": {
        "id": "574pVav4wKti"
      },
      "source": [
        "## 3.2 Visualizar un GeoDataFrame"
      ]
    },
    {
      "cell_type": "markdown",
      "metadata": {
        "id": "J_z1ej1HwPvp"
      },
      "source": [
        "En esta sección, utilice GeoDataFrame y el paquete python `geoviews` para visualizar espacialmente la ubicación de las tomas GEDI en un mapa base e importar un archivo geojson de la región espacial de interés para el ejemplo de caso de uso: Parque Nacional Redwood."
      ]
    },
    {
      "cell_type": "code",
      "metadata": {
        "id": "D7TLuDD0saoe"
      },
      "source": [
        "# Define a function for visualizing GEDI points\n",
        "def pointVisual(features, vdims):\n",
        "    return (gvts.EsriImagery * gv.Points(features, vdims=vdims).options(\n",
        "        tools=['hover'], height=500, width=900, size=5,\n",
        "        color='yellow', fontsize={'xticks': 10, 'yticks': 10,'xlabel':16, 'ylabel': 16}\n",
        "    ))"
      ],
      "execution_count": null,
      "outputs": []
    },
    {
      "cell_type": "markdown",
      "metadata": {
        "id": "F_Bhh8MryD6d"
      },
      "source": [
        "Importe un [geojson](https://git.earthdata.nasa.gov/projects/LPDUR/repos/gedi-tutorials/browse/RedwoodNP.geojson) de Redwood National Park como un GeoDataFrame adicional."
      ]
    },
    {
      "cell_type": "code",
      "metadata": {
        "id": "d6V-b9Prsal8"
      },
      "source": [
        "# Descargar el archivo .geojson\n",
        "! wget -O RedwoodNP.geojson https://git.earthdata.nasa.gov/projects/LPDUR/repos/gedi-tutorials/raw/RedwoodNP.geojson?at=refs%2Fheads%2Fmaster"
      ],
      "execution_count": null,
      "outputs": []
    },
    {
      "cell_type": "code",
      "metadata": {
        "id": "EDqhYQSxsaj5"
      },
      "source": [
        "# Importar geojson como GeoDataFrame\n",
        "redwoodNP = gp.GeoDataFrame.from_file('RedwoodNP.geojson')"
      ],
      "execution_count": null,
      "outputs": []
    },
    {
      "cell_type": "code",
      "metadata": {
        "id": "QbNiqXWMsag0",
        "outputId": "39e6b14b-371b-4b39-c20d-09c7af4ee398",
        "colab": {
          "base_uri": "https://localhost:8080/",
          "height": 131
        }
      },
      "source": [
        "redwoodNP"
      ],
      "execution_count": null,
      "outputs": [
        {
          "output_type": "execute_result",
          "data": {
            "text/html": [
              "<div>\n",
              "<style scoped>\n",
              "    .dataframe tbody tr th:only-of-type {\n",
              "        vertical-align: middle;\n",
              "    }\n",
              "\n",
              "    .dataframe tbody tr th {\n",
              "        vertical-align: top;\n",
              "    }\n",
              "\n",
              "    .dataframe thead th {\n",
              "        text-align: right;\n",
              "    }\n",
              "</style>\n",
              "<table border=\"1\" class=\"dataframe\">\n",
              "  <thead>\n",
              "    <tr style=\"text-align: right;\">\n",
              "      <th></th>\n",
              "      <th>GIS_LOC_ID</th>\n",
              "      <th>UNIT_CODE</th>\n",
              "      <th>GROUP_CODE</th>\n",
              "      <th>UNIT_NAME</th>\n",
              "      <th>UNIT_TYPE</th>\n",
              "      <th>META_MIDF</th>\n",
              "      <th>LANDS_CODE</th>\n",
              "      <th>DATE_EDIT</th>\n",
              "      <th>GIS_NOTES</th>\n",
              "      <th>geometry</th>\n",
              "    </tr>\n",
              "  </thead>\n",
              "  <tbody>\n",
              "    <tr>\n",
              "      <th>0</th>\n",
              "      <td>None</td>\n",
              "      <td>REDW</td>\n",
              "      <td>None</td>\n",
              "      <td>Redwood</td>\n",
              "      <td>National Park</td>\n",
              "      <td>None</td>\n",
              "      <td>None</td>\n",
              "      <td>None</td>\n",
              "      <td>Shifted 0.06 miles</td>\n",
              "      <td>MULTIPOLYGON (((-124.01829 41.44539, -124.0184...</td>\n",
              "    </tr>\n",
              "  </tbody>\n",
              "</table>\n",
              "</div>"
            ],
            "text/plain": [
              "  GIS_LOC_ID  ...                                           geometry\n",
              "0       None  ...  MULTIPOLYGON (((-124.01829 41.44539, -124.0184...\n",
              "\n",
              "[1 rows x 10 columns]"
            ]
          },
          "metadata": {
            "tags": []
          },
          "execution_count": 25
        }
      ]
    },
    {
      "cell_type": "code",
      "metadata": {
        "id": "cpWHRtrzrkuZ"
      },
      "source": [
        "redwoodNP['geometry'][0]"
      ],
      "execution_count": null,
      "outputs": []
    },
    {
      "cell_type": "markdown",
      "metadata": {
        "id": "AyzMH3-50WeM"
      },
      "source": [
        "Definir los vdims a continuación que permitirá desplazarse sobre tomas específicas y ver información sobre ellas."
      ]
    },
    {
      "cell_type": "code",
      "metadata": {
        "id": "8KOloYIBnXOP",
        "outputId": "f29d3e95-4e1c-43fb-bc8a-5e9142201ab4",
        "colab": {
          "base_uri": "https://localhost:8080/"
        }
      },
      "source": [
        "# Create a list of geodataframe columns to be included as attributes in the output map\n",
        "vdims = []\n",
        "for f in latslons:\n",
        "    if f not in ['geometry']:\n",
        "        vdims.append(f)\n",
        "vdims"
      ],
      "execution_count": null,
      "outputs": [
        {
          "output_type": "execute_result",
          "data": {
            "text/plain": [
              "['Beam', 'Shot Number', 'Stale Return Flag', 'Degrade']"
            ]
          },
          "metadata": {
            "tags": []
          },
          "execution_count": 27
        }
      ]
    },
    {
      "cell_type": "markdown",
      "metadata": {
        "id": "5FJmtdB30hSU"
      },
      "source": [
        "A continuación, combine una parcela del límite del Parque Nacional Redwood (combine dos parcelas de `geoviews` usando `*`) con la función de mapeo visual de puntos definida anteriormente para trazar: <br>\n",
        "(1) las tomas GEDI representativas, <br>\n",
        "(2) la región de interés y <br>\n",
        "(3) una capa de mapa base. <br>"
      ]
    },
    {
      "cell_type": "code",
      "metadata": {
        "id": "l0AIyHmj0bEA"
      },
      "source": [
        "import holoviews as hv\n",
        "from bokeh.plotting import figure, output_file, show\n",
        "from bokeh.io import output_notebook\n",
        "hv.extension('bokeh')\n",
        "output_notebook()\n",
        "\n",
        "# Call the function for plotting the GEDI points\n",
        "gv.Polygons(redwoodNP).opts(line_color='red', color=None) * pointVisual(latslons, vdims = vdims)"
      ],
      "execution_count": null,
      "outputs": []
    },
    {
      "cell_type": "markdown",
      "metadata": {
        "id": "1o-h5DJx3IpN"
      },
      "source": [
        "Arriba hay una buena ilustración de la órbita GEDI completa (los archivos GEDI se almacenan como una órbita ISS). Uno de los beneficios de utilizar las vistas geográficas es la naturaleza interactiva de los gráficos de salida. Use las herramientas a la derecha del mapa de arriba para acercar y encontrar las tomas que se cruzan con el Parque Nacional Redwood.\n",
        "> (SUGERENCIA: encuentre dónde la órbita se cruza con la costa oeste de los Estados Unidos)"
      ]
    },
    {
      "cell_type": "markdown",
      "metadata": {
        "id": "0jWzFGoi2v-L"
      },
      "source": [
        "A continuación se muestra una captura de pantalla de la región de interés:\n",
        "![alt text](https://git.earthdata.nasa.gov/projects/LPDUR/repos/gedi-tutorials/raw/GEDI_L1B_Tutorial_1.png?at=refs%2Fheads%2Fmaster \"Sample of GEDI L1B shots in yellow (orbit 2932) plotted over Redwood National Park, USA.\")"
      ]
    },
    {
      "cell_type": "markdown",
      "metadata": {
        "id": "pj_JFh1k3dOk"
      },
      "source": [
        "> Nota al margen: ¿Se pregunta qué significan los 0 y los 1 de stale_return_flag y degrade?"
      ]
    },
    {
      "cell_type": "code",
      "metadata": {
        "id": "Ec8FzPVj01PE",
        "outputId": "014c987e-d31e-4a12-b387-7335c69c7df1",
        "colab": {
          "base_uri": "https://localhost:8080/"
        }
      },
      "source": [
        "print(f\"stale_return_flag: {gediL1B[b]['stale_return_flag'].attrs['description']}\")\n",
        "print(f\"degrade: {gediL1B[b]['geolocation']['degrade'].attrs['description']}\")"
      ],
      "execution_count": null,
      "outputs": [
        {
          "output_type": "stream",
          "text": [
            "stale_return_flag: Indicates that a \"stale\" cue point from the coarse search algorithm is being used.\n",
            "degrade: Greater than zero if the shot occurs during a degrade period, zero otherwise.\n"
          ],
          "name": "stdout"
        }
      ]
    },
    {
      "cell_type": "markdown",
      "metadata": {
        "id": "Y9YxH-2s3o11"
      },
      "source": [
        "Mostraremos un ejemplo de cómo filtrar la calidad de los datos GEDI en la sección 5.\n",
        "\n",
        "Después de encontrar uno de los disparos dentro de Redwood NP, busque el índice de ese número de disparos para que podamos encontrar la forma de onda correcta para visualizar en la Sección 4.\n",
        "\n",
        "Cada disparo GEDI tiene un identificador de disparo único (número de disparo) que está disponible dentro de cada grupo de datos del producto. Es importante conservar el número de disparo en cualquier subconjunto de datos, ya que permitirá al usuario vincular cualquier registro de disparo con los datos de la órbita original y vincular cualquier disparo y sus datos entre los productos L1 y L2. El formato estándar para los disparos GEDI es el siguiente:"
      ]
    },
    {
      "cell_type": "markdown",
      "metadata": {
        "id": "znFaNaVX3wpr"
      },
      "source": [
        "Disparo: 29320619900465601\n",
        "> 2932: número de órbita <br>\n",
        "06: Número de haz <br>\n",
        "199: Número de fotograma menor (0-241) <br>\n",
        "00465601: número de disparo dentro de la órbita <br>"
      ]
    },
    {
      "cell_type": "code",
      "metadata": {
        "id": "WWuPpTxn01ED"
      },
      "source": [
        "shot = 29320619900465601"
      ],
      "execution_count": null,
      "outputs": []
    },
    {
      "cell_type": "code",
      "metadata": {
        "id": "_ZRe70NZ01Bj",
        "outputId": "e90ba079-f7e2-43dc-b623-d1749d619b5c",
        "colab": {
          "base_uri": "https://localhost:8080/"
        }
      },
      "source": [
        "index = np.where(gediL1B[f'{beamNames[0]}/shot_number'][()]==shot)[0][0]  # Set the index for the shot identified above\n",
        "index"
      ],
      "execution_count": null,
      "outputs": [
        {
          "output_type": "execute_result",
          "data": {
            "text/plain": [
              "465600"
            ]
          },
          "metadata": {
            "tags": []
          },
          "execution_count": 33
        }
      ]
    },
    {
      "cell_type": "code",
      "metadata": {
        "id": "kiuQR2-g0bJy"
      },
      "source": [
        "del latslons  # No longer need the geodataframe used to visualize the full GEDI orbit"
      ],
      "execution_count": null,
      "outputs": []
    },
    {
      "cell_type": "markdown",
      "metadata": {
        "id": "ObD7y9AE4t8P"
      },
      "source": [
        "# 4 Crear subconjuntos y visualizar formas de onda"
      ]
    },
    {
      "cell_type": "markdown",
      "metadata": {
        "id": "UhaTEKbh4zUw"
      },
      "source": [
        "En esta sección, aprenderá a extraer y crear subconjuntos de formas de onda específicas y trazarlas mediante `holoviews`."
      ]
    },
    {
      "cell_type": "markdown",
      "metadata": {
        "id": "eph0IqPx47lS"
      },
      "source": [
        "## 4.1 Importar y extraer formas de onda"
      ]
    },
    {
      "cell_type": "markdown",
      "metadata": {
        "id": "POPJNEVV5AT1"
      },
      "source": [
        "Para encontrar y extraer la forma de onda completa para el índice exacto que nos interesa, en lugar de importar el conjunto de datos de forma de onda completo (¡más de mil millones de valores!), Usaremos `rx_sample_count` y `rx_sample_start_index` para identificar la ubicación de la forma de onda en la que estamos interesado en visualizar y simplemente extraer esos valores."
      ]
    },
    {
      "cell_type": "code",
      "metadata": {
        "id": "zSn96Qvt4jmN"
      },
      "source": [
        "# From the SDS list, use list comprehension to find sample_count, sample_start_index, and rxwaveform\n",
        "sdsCount = gediL1B[[g for g in gediSDS if g.endswith('/rx_sample_count') and beamNames[0] in g][0]]\n",
        "sdsStart = gediL1B[[g for g in gediSDS if g.endswith('/rx_sample_start_index') and beamNames[0] in g][0]]\n",
        "sdsWaveform = [g for g in gediSDS if g.endswith('/rxwaveform') and beamNames[0] in g][0]"
      ],
      "execution_count": null,
      "outputs": []
    },
    {
      "cell_type": "markdown",
      "metadata": {
        "id": "ArHsHyDF5Ow_"
      },
      "source": [
        "Imprima la descripción de cada uno de estos conjuntos de datos para comprender mejor cómo los usaremos para extraer formas de onda específicas."
      ]
    },
    {
      "cell_type": "code",
      "metadata": {
        "id": "28BzXbfj4jjx",
        "outputId": "46c7d9e4-d3c7-4f06-e820-f1bfa09baceb",
        "colab": {
          "base_uri": "https://localhost:8080/"
        }
      },
      "source": [
        "print(f\"rxwaveform is {gediL1B[sdsWaveform].attrs['description']}\")"
      ],
      "execution_count": null,
      "outputs": [
        {
          "output_type": "stream",
          "text": [
            "rxwaveform is The corrected receive (RX) waveforms.  Use rx_sample_count and rx_sample_start_index to identify the location of each waveform.\n"
          ],
          "name": "stdout"
        }
      ]
    },
    {
      "cell_type": "markdown",
      "metadata": {
        "id": "DETe8DSg5j-K"
      },
      "source": [
        "A continuación, lea cómo usar las capas `rx_sample_count` y `rx_sample_start_index`:"
      ]
    },
    {
      "cell_type": "code",
      "metadata": {
        "id": "h520aqck4jgh",
        "outputId": "64e0694b-8e1b-43a6-c02f-5420e3ee1933",
        "colab": {
          "base_uri": "https://localhost:8080/"
        }
      },
      "source": [
        "print(f\"rx_sample_count is {sdsCount.attrs['description']}\")\n",
        "print(f\"rx_sample_start_index is {sdsStart.attrs['description']}\")"
      ],
      "execution_count": null,
      "outputs": [
        {
          "output_type": "stream",
          "text": [
            "rx_sample_count is The number of sample intervals (elements) in each RX waveform.\n",
            "rx_sample_start_index is The index in the rxwaveform dataset of the first element of each RX waveform.  The indices start at 1.\n"
          ],
          "name": "stdout"
        }
      ]
    },
    {
      "cell_type": "markdown",
      "metadata": {
        "id": "FO4NTXlK5xks"
      },
      "source": [
        "Utilice `rx_sample_count` y `rx_sample_start_index` para identificar la ubicación de cada forma de onda en `rxwaveform`."
      ]
    },
    {
      "cell_type": "code",
      "metadata": {
        "id": "E4G5cMGi5qid"
      },
      "source": [
        "wfCount = sdsCount[index]           # Number of samples in the waveform\n",
        "wfStart = int(sdsStart[index] - 1)  # Subtract one because python array indexing starts at 0 not 1"
      ],
      "execution_count": null,
      "outputs": []
    },
    {
      "cell_type": "markdown",
      "metadata": {
        "id": "es93teMy6TyE"
      },
      "source": [
        "A continuación, obtenga información adicional sobre la toma, incluido el único `shot_number` y la ubicación lat / lon."
      ]
    },
    {
      "cell_type": "code",
      "metadata": {
        "id": "SsSA0qTz4jcs"
      },
      "source": [
        "wfShot = gediL1B[f'{beamNames[0]}/shot_number'][index]\n",
        "wfLat = gediL1B[f'{beamNames[0]}/geolocation/latitude_bin0'][index]\n",
        "wfLon = gediL1B[f'{beamNames[0]}/geolocation/longitude_bin0'][index]"
      ],
      "execution_count": null,
      "outputs": []
    },
    {
      "cell_type": "markdown",
      "metadata": {
        "id": "2b4rLHTo6f87"
      },
      "source": [
        "Ponga todo junto para identificar la forma de onda que queremos extraer:"
      ]
    },
    {
      "cell_type": "code",
      "metadata": {
        "id": "WuZY3_i44jZP",
        "outputId": "e816b25e-dedd-4454-e3fc-0b4a4649afbc",
        "colab": {
          "base_uri": "https://localhost:8080/"
        }
      },
      "source": [
        "print(f\"The waveform located at: {str(wfLat)}, {str(wfLon)} (shot ID: {wfShot}, index {index}) is from beam {beamNames[0]} \\\n",
        "      and is stored in rxwaveform beginning at index {wfStart} and ending at index {wfStart + wfCount}\")"
      ],
      "execution_count": null,
      "outputs": [
        {
          "output_type": "stream",
          "text": [
            "The waveform located at: 41.28533109208681, -124.0300090357876 (shot ID: 29320619900465601, index 465600) is from beam BEAM0110       and is stored in rxwaveform beginning at index 661152000 and ending at index 661152812\n"
          ],
          "name": "stdout"
        }
      ]
    },
    {
      "cell_type": "markdown",
      "metadata": {
        "id": "2xroLJ2A6nJq"
      },
      "source": [
        "Para trazar una forma de onda completa, también necesita importar la elevación registrada en `bin0` (la primera elevación registrada) y `lastbin` o la última elevación registrada para esa forma de onda."
      ]
    },
    {
      "cell_type": "code",
      "metadata": {
        "id": "7FhtOkbv0bCD"
      },
      "source": [
        "# Grab the elevation recorded at the start and end of the full waveform capture\n",
        "zStart = gediL1B[f'{beamNames[0]}/geolocation/elevation_bin0'][index]   # Height of the start of the rx window\n",
        "zEnd = gediL1B[f'{beamNames[0]}/geolocation/elevation_lastbin'][index]  # Height of the end of the rx window"
      ],
      "execution_count": null,
      "outputs": []
    },
    {
      "cell_type": "markdown",
      "metadata": {
        "id": "pyacfnFN66uO"
      },
      "source": [
        "Extraiga la forma de onda completa usando el índice de inicio y recuento:\n",
        "\n",
        "A continuación, puede ver por qué es importante extraer la forma de onda específica que le interesa: ¡casi 1.4 mil millones de valores están almacenados en el conjunto de datos rxwaveform!"
      ]
    },
    {
      "cell_type": "code",
      "metadata": {
        "id": "bx_rrlgZ6i9q",
        "outputId": "84165365-c4d4-4746-edf0-2e950606c841",
        "colab": {
          "base_uri": "https://localhost:8080/"
        }
      },
      "source": [
        "print(\"{:,}\".format(gediL1B[sdsWaveform].shape[0]))"
      ],
      "execution_count": null,
      "outputs": [
        {
          "output_type": "stream",
          "text": [
            "1,391,172,580\n"
          ],
          "name": "stdout"
        }
      ]
    },
    {
      "cell_type": "code",
      "metadata": {
        "id": "WIYMQHe16i6z"
      },
      "source": [
        "# Retrieve the waveform sds layer using the sample start index and sample count information to slice the correct dimensions\n",
        "waveform = gediL1B[sdsWaveform][wfStart: wfStart + wfCount]"
      ],
      "execution_count": null,
      "outputs": []
    },
    {
      "cell_type": "markdown",
      "metadata": {
        "id": "zbUfKcPV7QUW"
      },
      "source": [
        "## 4.2 Visualizar formas de onda\n",
        "\n",
        "A continuación, traza la forma de onda extraída usando la diferencia de elevación desde bin0 hasta last_bin en el eje y, y la energía de forma de onda devuelta o amplitud (número digital = dn) en el eje x."
      ]
    },
    {
      "cell_type": "code",
      "metadata": {
        "id": "hMG0C05a6i3d"
      },
      "source": [
        "# Find elevation difference from start to finish and divide into equal intervals based on sample_count\n",
        "zStretch = np.add(zEnd, np.multiply(range(wfCount, 0, -1), ((zStart - zEnd) / int(wfCount))))"
      ],
      "execution_count": null,
      "outputs": []
    },
    {
      "cell_type": "code",
      "metadata": {
        "id": "7_3XfBSr6isr",
        "outputId": "c4c2ad43-a41a-4caa-8ed9-5038867ed157",
        "colab": {
          "base_uri": "https://localhost:8080/",
          "height": 419
        }
      },
      "source": [
        "# match the waveform amplitude values with the elevation and convert to Pandas df\n",
        "wvDF = pd.DataFrame({'Amplitude (DN)': waveform, 'Elevation (m)': zStretch})\n",
        "wvDF"
      ],
      "execution_count": null,
      "outputs": [
        {
          "output_type": "execute_result",
          "data": {
            "text/html": [
              "<div>\n",
              "<style scoped>\n",
              "    .dataframe tbody tr th:only-of-type {\n",
              "        vertical-align: middle;\n",
              "    }\n",
              "\n",
              "    .dataframe tbody tr th {\n",
              "        vertical-align: top;\n",
              "    }\n",
              "\n",
              "    .dataframe thead th {\n",
              "        text-align: right;\n",
              "    }\n",
              "</style>\n",
              "<table border=\"1\" class=\"dataframe\">\n",
              "  <thead>\n",
              "    <tr style=\"text-align: right;\">\n",
              "      <th></th>\n",
              "      <th>Amplitude (DN)</th>\n",
              "      <th>Elevation (m)</th>\n",
              "    </tr>\n",
              "  </thead>\n",
              "  <tbody>\n",
              "    <tr>\n",
              "      <th>0</th>\n",
              "      <td>226.009323</td>\n",
              "      <td>37.228645</td>\n",
              "    </tr>\n",
              "    <tr>\n",
              "      <th>1</th>\n",
              "      <td>225.360245</td>\n",
              "      <td>37.078965</td>\n",
              "    </tr>\n",
              "    <tr>\n",
              "      <th>2</th>\n",
              "      <td>225.373764</td>\n",
              "      <td>36.929286</td>\n",
              "    </tr>\n",
              "    <tr>\n",
              "      <th>3</th>\n",
              "      <td>226.165710</td>\n",
              "      <td>36.779607</td>\n",
              "    </tr>\n",
              "    <tr>\n",
              "      <th>4</th>\n",
              "      <td>227.480103</td>\n",
              "      <td>36.629927</td>\n",
              "    </tr>\n",
              "    <tr>\n",
              "      <th>...</th>\n",
              "      <td>...</td>\n",
              "      <td>...</td>\n",
              "    </tr>\n",
              "    <tr>\n",
              "      <th>807</th>\n",
              "      <td>231.473923</td>\n",
              "      <td>-83.562517</td>\n",
              "    </tr>\n",
              "    <tr>\n",
              "      <th>808</th>\n",
              "      <td>230.386932</td>\n",
              "      <td>-83.712196</td>\n",
              "    </tr>\n",
              "    <tr>\n",
              "      <th>809</th>\n",
              "      <td>228.637512</td>\n",
              "      <td>-83.861876</td>\n",
              "    </tr>\n",
              "    <tr>\n",
              "      <th>810</th>\n",
              "      <td>226.949661</td>\n",
              "      <td>-84.011555</td>\n",
              "    </tr>\n",
              "    <tr>\n",
              "      <th>811</th>\n",
              "      <td>226.125153</td>\n",
              "      <td>-84.161234</td>\n",
              "    </tr>\n",
              "  </tbody>\n",
              "</table>\n",
              "<p>812 rows × 2 columns</p>\n",
              "</div>"
            ],
            "text/plain": [
              "     Amplitude (DN)  Elevation (m)\n",
              "0        226.009323      37.228645\n",
              "1        225.360245      37.078965\n",
              "2        225.373764      36.929286\n",
              "3        226.165710      36.779607\n",
              "4        227.480103      36.629927\n",
              "..              ...            ...\n",
              "807      231.473923     -83.562517\n",
              "808      230.386932     -83.712196\n",
              "809      228.637512     -83.861876\n",
              "810      226.949661     -84.011555\n",
              "811      226.125153     -84.161234\n",
              "\n",
              "[812 rows x 2 columns]"
            ]
          },
          "metadata": {
            "tags": []
          },
          "execution_count": 45
        }
      ]
    },
    {
      "cell_type": "markdown",
      "metadata": {
        "id": "AG135JeG8E36"
      },
      "source": [
        "A continuación, use el paquete de Python `Holoviews` (hv) para trazar la forma de onda."
      ]
    },
    {
      "cell_type": "markdown",
      "metadata": {
        "id": "Fe78Dv81QjVE"
      },
      "source": [
        "https://stackoverflow.com/questions/48295229/bokeh-inside-google-colab"
      ]
    },
    {
      "cell_type": "code",
      "metadata": {
        "id": "WkvZiCAN6io7"
      },
      "source": [
        "import holoviews as hv\n",
        "from bokeh.plotting import figure, output_file, show\n",
        "from bokeh.io import output_notebook\n",
        "hv.extension('bokeh')\n",
        "output_notebook()\n",
        "\n",
        "hv.Curve(wvDF) # Basic line graph plotting the waveform"
      ],
      "execution_count": null,
      "outputs": []
    },
    {
      "cell_type": "markdown",
      "metadata": {
        "id": "0glJRAQr8QY9"
      },
      "source": [
        "¡Felicidades! Ha trazado su primera forma de onda.\n",
        "\n",
        "Arriba hay una gráfica de línea básica que muestra la amplitud (DN) en función de la elevación de la forma de onda rx para el disparo específico seleccionado. A continuación, agregue elementos de gráfico adicionales y haga que el gráfico sea interactivo."
      ]
    },
    {
      "cell_type": "code",
      "metadata": {
        "id": "tZXl3BTR6ik8"
      },
      "source": [
        "# Necesario para mostrarlo en Google Colab\n",
        "hv.extension('bokeh')\n",
        "output_notebook()\n",
        "\n",
        "\n",
        "# Create a holoviews interactive Curve plot with additional parameters defining the plot aesthetics \n",
        "wfVis = hv.Curve(wvDF).opts(color='darkgreen', tools=['hover'], height=500, width=400,\n",
        "           xlim=(np.min(waveform) - 10, np.max(waveform) + 10), ylim=(np.min(zStretch), np.max(zStretch)),\n",
        "           fontsize={'xticks':10, 'yticks':10,'xlabel':16, 'ylabel': 16, 'title':13}, line_width=2.5, title=f'{str(wfShot)}')\n",
        "wfVis"
      ],
      "execution_count": null,
      "outputs": []
    },
    {
      "cell_type": "markdown",
      "metadata": {
        "id": "nKxaMiMKSDX8"
      },
      "source": [
        "Como puede ver, la toma seleccionada no parece tan interesante: esta forma de onda parece más característica de algún tipo de copa baja / suelo desnudo que la copa de un árbol. Si hace zoom en la toma GEDI, parece estar sobre el río o posiblemente una barra de arena:"
      ]
    },
    {
      "cell_type": "markdown",
      "metadata": {
        "id": "huPWTVWJSMEm"
      },
      "source": [
        "![texto alternativo](https://git.earthdata.nasa.gov/projects/LPDUR/repos/gedi-tutorials/raw/GEDI_L1B_Tutorial_2.png?at=refs%2Fheads%2Fmaster \"GEDI L1B Disparo sobre un río en el Parque Nacional Redwood, EE. UU.\")\n",
        "Luego, traza un par de formas de onda más y mira si puedes capturar una toma sobre el bosque."
      ]
    },
    {
      "cell_type": "code",
      "metadata": {
        "id": "ek9u8EXc8L5I"
      },
      "source": [
        "latlons = {}                          # Set up a dictionary to hold multiple waveforms\n",
        "latlons[wfShot] = Point(wfLon,wfLat)  # Create shapely point and add to dictionary\n",
        "\n",
        "# Retain waveform and quality layers to be exported later\n",
        "latlonsWF = [waveform]\n",
        "latlonsEL = [zStretch]\n",
        "latlonsSRF = [gediL1B[f'{beamNames[0]}/stale_return_flag'][index]]\n",
        "latlonsD = [gediL1B[f'{beamNames[0]}/geolocation/degrade'][index]]"
      ],
      "execution_count": null,
      "outputs": []
    },
    {
      "cell_type": "code",
      "metadata": {
        "id": "rB6tpXmP8L2o"
      },
      "source": [
        "# Define which observation to examine by selecting the three indexes prior to the one used above\n",
        "index = 465597"
      ],
      "execution_count": null,
      "outputs": []
    },
    {
      "cell_type": "code",
      "metadata": {
        "id": "kyNqQk44Sf-h"
      },
      "source": [
        "# Use rx_sample_count and rx_sample_start_index to identify the location of each waveform\n",
        "wfCount = sdsCount[index]                                             # Number of samples in the waveform\n",
        "wfStart = int(sdsStart[index] - 1)                                    # Subtract 1, index starts at 0 not 1\n",
        "wfShot = gediL1B[f'{beamNames[0]}/shot_number'][index]                # Unique Shot Number\n",
        "wfLat = gediL1B[f'{beamNames[0]}/geolocation/latitude_bin0'][index]   # Latitude\n",
        "wfLon = gediL1B[f'{beamNames[0]}/geolocation/longitude_bin0'][index]  # Longitude\n",
        "latlons[wfShot] = Point(wfLon,wfLat)                                  # Create shapely point and add to dictionary\n",
        "\n",
        "# Grab the elevation recorded at the start and end of the full waveform capture\n",
        "zStart = gediL1B[f'{beamNames[0]}/geolocation/elevation_bin0'][index]   # Height of the start of the rx window\n",
        "zEnd = gediL1B[f'{beamNames[0]}/geolocation/elevation_lastbin'][index]  # Height of the end of the rx window\n",
        "\n",
        "# Retrieve the waveform sds layer using the sample start index and sample count information to slice the correct dimensions\n",
        "waveform = gediL1B[sdsWaveform][wfStart: wfStart + wfCount]"
      ],
      "execution_count": null,
      "outputs": []
    },
    {
      "cell_type": "code",
      "metadata": {
        "id": "qtHksspWSf6g"
      },
      "source": [
        "# Find elevation difference from start to finish, divide into equal intervals\n",
        "zStretch = np.add(zEnd, np.multiply(range(wfCount, 0, -1), ((zStart - zEnd) / int(wfCount))))\n",
        "\n",
        "# match the waveform amplitude values with the elevation and convert to Pandas df\n",
        "wvDF = pd.DataFrame({'Amplitude (DN)': waveform, 'Elevation (m)': zStretch})"
      ],
      "execution_count": null,
      "outputs": []
    },
    {
      "cell_type": "code",
      "metadata": {
        "id": "Ia8TNTQ4Sf28"
      },
      "source": [
        "# Append waveform and quality layers to be exported later\n",
        "latlonsWF.append(waveform)\n",
        "latlonsEL.append(zStretch)\n",
        "latlonsSRF.append(gediL1B[f'{beamNames[0]}/stale_return_flag'][index])\n",
        "latlonsD.append(gediL1B[f'{beamNames[0]}/geolocation/degrade'][index])"
      ],
      "execution_count": null,
      "outputs": []
    },
    {
      "cell_type": "code",
      "metadata": {
        "id": "zxOX1Rpb8Lx5"
      },
      "source": [
        "# Necesario para mostrarlo en Google Colab\n",
        "hv.extension('bokeh')\n",
        "output_notebook()\n",
        "\n",
        "# Create a holoviews interactive Curve plot with additional parameters defining the plot aesthetics \n",
        "visL1B1 = hv.Curve(wvDF).opts(color='darkgreen', tools=['hover'], height=500, width=400,\n",
        "           xlim=(np.min(waveform) - 10, np.max(waveform) + 10), ylim=(np.min(zStretch), np.max(zStretch)),\n",
        "           fontsize={'xticks':10, 'yticks':10,'xlabel':16, 'ylabel': 16, 'title':13}, line_width=2.5, title=f'{str(wfShot)}')\n",
        "visL1B1"
      ],
      "execution_count": null,
      "outputs": []
    },
    {
      "cell_type": "markdown",
      "metadata": {
        "id": "3XIFT-wDTisS"
      },
      "source": [
        "¡Ahora eso está comenzando a parecerse más a un dosel de árbol muy alto y de varias capas! Continúe con la siguiente toma:"
      ]
    },
    {
      "cell_type": "code",
      "metadata": {
        "id": "OK_9IN3z8LuV"
      },
      "source": [
        "# Define which observation to examine by selecting the three indexes prior to the one used above\n",
        "index = 465598"
      ],
      "execution_count": null,
      "outputs": []
    },
    {
      "cell_type": "code",
      "metadata": {
        "id": "vJRGGJhNTXC_"
      },
      "source": [
        "# Use rx_sample_count and rx_sample_start_index to identify the location of each waveform\n",
        "wfCount = sdsCount[index]                                             # Number of samples in the waveform\n",
        "wfStart = int(sdsStart[index] - 1)                                    # Subtract 1, index starts at 0 not 1\n",
        "wfShot = gediL1B[f'{beamNames[0]}/shot_number'][index]                # Unique Shot Number\n",
        "wfLat = gediL1B[f'{beamNames[0]}/geolocation/latitude_bin0'][index]   # Latitude\n",
        "wfLon = gediL1B[f'{beamNames[0]}/geolocation/longitude_bin0'][index]  # Longitude\n",
        "latlons[wfShot] = Point(wfLon,wfLat)                                  # Create shapely point and add to dictionary\n",
        "\n",
        "# Grab the elevation recorded at the start and end of the full waveform capture\n",
        "zStart = gediL1B[f'{beamNames[0]}/geolocation/elevation_bin0'][index]   # Height of the start of the rx window\n",
        "zEnd = gediL1B[f'{beamNames[0]}/geolocation/elevation_lastbin'][index]  # Height of the end of the rx window\n",
        "\n",
        "# Retrieve the waveform sds layer using the sample start index and sample count information to slice the correct dimensions\n",
        "waveform = gediL1B[sdsWaveform][wfStart: wfStart + wfCount]"
      ],
      "execution_count": null,
      "outputs": []
    },
    {
      "cell_type": "code",
      "metadata": {
        "id": "BxATbwxZTXRW"
      },
      "source": [
        "# Find elevation difference from start to finish, divide into equal intervals\n",
        "zStretch = np.add(zEnd, np.multiply(range(wfCount, 0, -1), ((zStart - zEnd) / int(wfCount))))\n",
        "\n",
        "# match the waveform amplitude values with the elevation and convert to Pandas df\n",
        "wvDF = pd.DataFrame({'Amplitude (DN)': waveform, 'Elevation (m)': zStretch})"
      ],
      "execution_count": null,
      "outputs": []
    },
    {
      "cell_type": "code",
      "metadata": {
        "id": "OJ3MVwAZTW__"
      },
      "source": [
        "# Append waveform and quality layers to be exported later\n",
        "latlonsWF.append(waveform)\n",
        "latlonsEL.append(zStretch)\n",
        "latlonsSRF.append(gediL1B[f'{beamNames[0]}/stale_return_flag'][index])\n",
        "latlonsD.append(gediL1B[f'{beamNames[0]}/geolocation/degrade'][index])"
      ],
      "execution_count": null,
      "outputs": []
    },
    {
      "cell_type": "code",
      "metadata": {
        "id": "M4hINFpmTW8b"
      },
      "source": [
        "# Necesario para mostrarlo en Google Colab\n",
        "hv.extension('bokeh')\n",
        "output_notebook()\n",
        "\n",
        "# Create a holoviews interactive Curve plot with additional parameters defining the plot aesthetics \n",
        "visL1B2 = hv.Curve(wvDF).opts(color='darkgreen', tools=['hover'], height=500, width=400,\n",
        "           xlim=(np.min(waveform) - 10, np.max(waveform) + 10), ylim=(np.min(zStretch), np.max(zStretch)),\n",
        "           fontsize={'xticks':10, 'yticks':10,'xlabel':16, 'ylabel': 16, 'title':13}, line_width=2.5, title=f'{str(wfShot)}')\n",
        "visL1B2"
      ],
      "execution_count": null,
      "outputs": []
    },
    {
      "cell_type": "code",
      "metadata": {
        "id": "X8uboa8YTxhs"
      },
      "source": [
        "# Define which observation to examine by selecting the three indexes prior to the one used above\n",
        "index = 465599"
      ],
      "execution_count": null,
      "outputs": []
    },
    {
      "cell_type": "code",
      "metadata": {
        "id": "loxpsC8ATyEa"
      },
      "source": [
        "# Use rx_sample_count and rx_sample_start_index to identify the location of each waveform\n",
        "wfCount = sdsCount[index]                                             # Number of samples in the waveform\n",
        "wfStart = int(sdsStart[index] - 1)                                    # Subtract 1, index starts at 0 not 1\n",
        "wfShot = gediL1B[f'{beamNames[0]}/shot_number'][index]                # Unique Shot Number\n",
        "wfLat = gediL1B[f'{beamNames[0]}/geolocation/latitude_bin0'][index]   # Latitude\n",
        "wfLon = gediL1B[f'{beamNames[0]}/geolocation/longitude_bin0'][index]  # Longitude\n",
        "latlons[wfShot] = Point(wfLon,wfLat)                                  # Create shapely point and add to dictionary\n",
        "\n",
        "# Grab the elevation recorded at the start and end of the full waveform capture\n",
        "zStart = gediL1B[f'{beamNames[0]}/geolocation/elevation_bin0'][index]   # Height of the start of the rx window\n",
        "zEnd = gediL1B[f'{beamNames[0]}/geolocation/elevation_lastbin'][index]  # Height of the end of the rx window\n",
        "\n",
        "# Retrieve the waveform sds layer using the sample start index and sample count information to slice the correct dimensions\n",
        "waveform = gediL1B[sdsWaveform][wfStart: wfStart + wfCount]"
      ],
      "execution_count": null,
      "outputs": []
    },
    {
      "cell_type": "code",
      "metadata": {
        "id": "78rtpiYhTyBb"
      },
      "source": [
        "# Find elevation difference from start to finish, divide into equal intervals\n",
        "zStretch = np.add(zEnd, np.multiply(range(wfCount, 0, -1), ((zStart - zEnd) / int(wfCount))))\n",
        "\n",
        "# match the waveform amplitude values with the elevation and convert to Pandas df\n",
        "wvDF = pd.DataFrame({'Amplitude (DN)': waveform, 'Elevation (m)': zStretch})"
      ],
      "execution_count": null,
      "outputs": []
    },
    {
      "cell_type": "code",
      "metadata": {
        "id": "hZeCVe-wTxdK"
      },
      "source": [
        "# Append waveform and quality layers to be exported later\n",
        "latlonsWF.append(waveform)\n",
        "latlonsEL.append(zStretch)\n",
        "latlonsSRF.append(gediL1B[f'{beamNames[0]}/stale_return_flag'][index])\n",
        "latlonsD.append(gediL1B[f'{beamNames[0]}/geolocation/degrade'][index])"
      ],
      "execution_count": null,
      "outputs": []
    },
    {
      "cell_type": "code",
      "metadata": {
        "id": "x5Dc7nOrTxZo"
      },
      "source": [
        "# Necesario para mostrarlo en Google Colab\n",
        "hv.extension('bokeh')\n",
        "output_notebook()\n",
        "\n",
        "# Create a holoviews interactive Curve plot with additional parameters defining the plot aesthetics \n",
        "visL1B3 = hv.Curve(wvDF).opts(color='darkgreen', tools=['hover'], height=500, width=400,\n",
        "           xlim=(np.min(waveform) - 10, np.max(waveform) + 10), ylim=(np.min(zStretch), np.max(zStretch)),\n",
        "           fontsize={'xticks':10, 'yticks':10,'xlabel':16, 'ylabel': 16, 'title':13}, line_width=2.5, title=f'{str(wfShot)}')\n",
        "visL1B3"
      ],
      "execution_count": null,
      "outputs": []
    },
    {
      "cell_type": "markdown",
      "metadata": {
        "id": "Fs4Fl7z9UPG4"
      },
      "source": [
        "Por último, trace el transecto de cuatro formas de onda consecutivas:"
      ]
    },
    {
      "cell_type": "code",
      "metadata": {
        "id": "TpctYPXmUIqC"
      },
      "source": [
        "# Necesario para mostrarlo en Google Colab\n",
        "hv.extension('bokeh')\n",
        "output_notebook()\n",
        "\n",
        "# The \"+\" symbol will plot multiple saved holoviews plots together\n",
        "visL1B1.opts(width=240) + visL1B2.opts(width=240, labelled=[]) + visL1B3.opts(width=240, labelled=[]) + \\\n",
        "wfVis.opts(width=240, labelled=[])"
      ],
      "execution_count": null,
      "outputs": []
    },
    {
      "cell_type": "markdown",
      "metadata": {
        "id": "fEnRaA6bUmjB"
      },
      "source": [
        "Observe que se mueve de oeste a este (de izquierda a derecha) a lo largo del transecto; puede ver que la elevación desciende y el dosel de los árboles disminuye a medida que se encuentra con el banco de arena / río."
      ]
    },
    {
      "cell_type": "markdown",
      "metadata": {
        "id": "UbZuBNdeU1Is"
      },
      "source": [
        "A continuación, use las vistas geográficas para trazar la ubicación de los cuatro puntos y verificar lo que se ve arriba."
      ]
    },
    {
      "cell_type": "code",
      "metadata": {
        "id": "CNxZDRltUIjt"
      },
      "source": [
        "# Convert dict to geodataframe\n",
        "latlons_gp = gp.GeoDataFrame({\n",
        "    'Shot Number': list(latlons.keys()),'rxwaveform Amplitude (DN)': latlonsWF,\n",
        "    'rxwaveform Elevation (m)': latlonsEL, 'Stale Return Flag': latlonsSRF, 'Degrade': latlonsD,\n",
        "    'geometry': list(latlons.values())\n",
        "})"
      ],
      "execution_count": null,
      "outputs": []
    },
    {
      "cell_type": "code",
      "metadata": {
        "id": "36YEt7ffUIVv"
      },
      "source": [
        "latlons_gp['Shot Number'] = latlons_gp['Shot Number'].astype(str)  # Convert shot number from integer to string"
      ],
      "execution_count": null,
      "outputs": []
    },
    {
      "cell_type": "code",
      "metadata": {
        "id": "BfJ3HSJWYPTO",
        "outputId": "5e855878-4e51-43a0-ff99-9c6b1ee097db",
        "colab": {
          "base_uri": "https://localhost:8080/"
        }
      },
      "source": [
        "vdims"
      ],
      "execution_count": null,
      "outputs": [
        {
          "output_type": "execute_result",
          "data": {
            "text/plain": [
              "['Beam', 'Shot Number', 'Stale Return Flag', 'Degrade']"
            ]
          },
          "metadata": {
            "tags": []
          },
          "execution_count": 67
        }
      ]
    },
    {
      "cell_type": "code",
      "metadata": {
        "id": "q2lW6NNDYPY6"
      },
      "source": [
        "# Necesario para mostrarlo en Google Colab\n",
        "hv.extension('bokeh')\n",
        "output_notebook()\n",
        "\n",
        "# Create a list of geodataframe columns to be included as attributes in the output map\n",
        "vdims = []\n",
        "for f in latlons_gp:\n",
        "    if f not in ['geometry']:\n",
        "        if 'rxwaveform' not in f:\n",
        "            vdims.append(f)\n",
        "\n",
        "# Plot the geodataframe\n",
        "gv.Polygons(redwoodNP).opts(line_color='#6de3e1', color=None) * pointVisual(latlons_gp, vdims=vdims)"
      ],
      "execution_count": null,
      "outputs": []
    },
    {
      "cell_type": "markdown",
      "metadata": {
        "id": "KG6LPrGdlgG8"
      },
      "source": [
        "Arriba, amplíe los puntos amarillos hasta que pueda obtener una vista más clara de las cuatro tomas.\n",
        "\n",
        "En las capturas de pantalla a continuación, podemos hacer coincidir la ubicación de cada punto con la forma de onda asociada. Parece confirmar la hipótesis de que la elevación está disminuyendo a medida que los disparos se acercan al río, y el dosel del bosque disminuye hasta que detecta la barra de arena / río por la forma de onda final en la secuencia."
      ]
    },
    {
      "cell_type": "markdown",
      "metadata": {
        "id": "AGA1MMCQlmaw"
      },
      "source": [
        "![alt text](https://git.earthdata.nasa.gov/projects/LPDUR/repos/gedi-tutorials/raw/GEDI_L1B_Tutorial_3.png?at=refs%2Fheads%2Fmaster \"Plots of Four GEDI L1B Waveforms\")\n",
        "![alt text](https://git.earthdata.nasa.gov/projects/LPDUR/repos/gedi-tutorials/raw/GEDI_L1B_Tutorial_4.png?at=refs%2Fheads%2Fmaster \"Map showing sequence of four GEDI L1B Waveforms in Redwood National Park, USA.\")"
      ]
    },
    {
      "cell_type": "code",
      "metadata": {
        "id": "iYmrbZDEYPQx"
      },
      "source": [
        "del wfVis, visL1B1, visL1B2, visL1B3, waveform, wvDF, zStretch, latlonsWF, latlonsEL, latlonsSRF, latlonsD"
      ],
      "execution_count": null,
      "outputs": []
    },
    {
      "cell_type": "markdown",
      "metadata": {
        "id": "AYs_dVZPl9yp"
      },
      "source": [
        "# 5 Filtrado de calidad"
      ]
    },
    {
      "cell_type": "markdown",
      "metadata": {
        "id": "B-GMInL_mEmo"
      },
      "source": [
        "Ahora que tiene las capas deseadas importadas como un marco de datos para las tomas seleccionadas, realicemos un filtrado de calidad.\n",
        "\n",
        "A continuación, elimine todas las tomas en las que `stale_return_flag` esté establecido en 1 (indica que se está utilizando un punto de referencia \"obsoleto\" del algoritmo de búsqueda aproximada) definiendo esas tomas como `nan`.\n",
        "\n",
        "La sintaxis de la línea a continuación se puede leer como: en el marco de datos, busque las filas \"donde\" el indicador de retorno obsoleto no es igual (ne) a 0. Si una fila (toma) no cumple la condición, establezca todos los valores iguales a `nan` para esa fila."
      ]
    },
    {
      "cell_type": "code",
      "metadata": {
        "id": "Aeq-haqEYPOT"
      },
      "source": [
        "latlons_gp = latlons_gp.where(latlons_gp['Stale Return Flag'].ne(1))  # Set any stale returns to NaN"
      ],
      "execution_count": null,
      "outputs": []
    },
    {
      "cell_type": "markdown",
      "metadata": {
        "id": "Q5oAoG48mb0U"
      },
      "source": [
        "A continuación, filtre la calidad aún más usando la bandera de `degrade` (mayor que cero si el disparo ocurre durante un período de degradación, cero en caso contrario)."
      ]
    },
    {
      "cell_type": "code",
      "metadata": {
        "id": "SaJ8xt7YYPLn"
      },
      "source": [
        "latlons_gp = latlons_gp.where(latlons_gp['Degrade'].ne(1))"
      ],
      "execution_count": null,
      "outputs": []
    },
    {
      "cell_type": "markdown",
      "metadata": {
        "id": "GNzXpHbImszU"
      },
      "source": [
        "A continuación, elimine todas las tomas que no pasaron los estándares de filtrado de calidad descritos anteriormente del `transectDF`."
      ]
    },
    {
      "cell_type": "code",
      "metadata": {
        "id": "N6YquFXuYPIv"
      },
      "source": [
        "latlons_gp = latlons_gp.dropna()  # Drop all of the rows (shots) that did not pass the quality filtering above"
      ],
      "execution_count": null,
      "outputs": []
    },
    {
      "cell_type": "code",
      "metadata": {
        "id": "-UNuCKjTYPGV",
        "outputId": "703a8495-8fa9-40f3-d958-fe033578140d",
        "colab": {
          "base_uri": "https://localhost:8080/"
        }
      },
      "source": [
        "print(f\"Quality filtering complete, {len(latlons_gp)} high quality shots remaining.\")"
      ],
      "execution_count": null,
      "outputs": [
        {
          "output_type": "stream",
          "text": [
            "Quality filtering complete, 4 high quality shots remaining.\n"
          ],
          "name": "stdout"
        }
      ]
    },
    {
      "cell_type": "markdown",
      "metadata": {
        "id": "GhJidZ9WsdQU"
      },
      "source": [
        "¡Buenas noticias! Parece que las cuatro formas de onda de ejemplo pasaron las pruebas iniciales de filtrado de calidad. Para obtener información adicional sobre el filtrado de calidad de los datos GEDI, asegúrese de consultar: https://lpdaac.usgs.gov/resources/faqs/#how-should-i-quality-filter-gedi-l1b-l2b-data."
      ]
    },
    {
      "cell_type": "code",
      "metadata": {
        "id": "LnuyP39uYPEC"
      },
      "source": [
        "del latlons_gp"
      ],
      "execution_count": null,
      "outputs": []
    },
    {
      "cell_type": "markdown",
      "metadata": {
        "id": "2ObNybMKsu14"
      },
      "source": [
        "# 6 Trayectos de perfil de parcela"
      ]
    },
    {
      "cell_type": "markdown",
      "metadata": {
        "id": "vrn5bt--s0YK"
      },
      "source": [
        "En esta sección, trace un subconjunto de transectos utilizando formas de onda."
      ]
    },
    {
      "cell_type": "markdown",
      "metadata": {
        "id": "TbiPoy_Cs5Q4"
      },
      "source": [
        "## 6.1 Subconjuntos de haces de haz\n",
        "\n",
        "Subconjunto hasta un transecto más pequeño centrado en las formas de onda analizadas en las secciones anteriores."
      ]
    },
    {
      "cell_type": "code",
      "metadata": {
        "id": "94by--krYPAt",
        "outputId": "7736de6c-b5c0-4763-8565-516da3b14ce1",
        "colab": {
          "base_uri": "https://localhost:8080/"
        }
      },
      "source": [
        "print(index)"
      ],
      "execution_count": null,
      "outputs": [
        {
          "output_type": "stream",
          "text": [
            "465599\n"
          ],
          "name": "stdout"
        }
      ]
    },
    {
      "cell_type": "code",
      "metadata": {
        "id": "xH7edbecUIQ8"
      },
      "source": [
        "# Grab 50 points before and after the shot visualized above\n",
        "start = index - 50\n",
        "end = index + 50 \n",
        "transectIndex = np.arange(start, end, 1)"
      ],
      "execution_count": null,
      "outputs": []
    },
    {
      "cell_type": "markdown",
      "metadata": {
        "id": "359F5AoEtHMp"
      },
      "source": [
        "# 6.2 Trazar transectos de forma de onda"
      ]
    },
    {
      "cell_type": "markdown",
      "metadata": {
        "id": "OIK8K9-mtLej"
      },
      "source": [
        "Para tener una idea de la longitud del transecto de la viga que está trazando, puede trazar el eje x como distancia, que se calcula a continuación."
      ]
    },
    {
      "cell_type": "code",
      "metadata": {
        "id": "O3fqOzurUIMC"
      },
      "source": [
        "# Calculate along-track distance\n",
        "distance = np.arange(0.0, len(transectIndex) * 60, 60)  # GEDI Shots are spaced 60 m apart"
      ],
      "execution_count": null,
      "outputs": []
    },
    {
      "cell_type": "markdown",
      "metadata": {
        "id": "0QxydCUCtTcQ"
      },
      "source": [
        "Para trazar cada valor vertical para cada forma de onda, deberá reformatear la estructura de datos para que coincida con lo que necesitan las capacidades de `holoviews` Path ()."
      ]
    },
    {
      "cell_type": "code",
      "metadata": {
        "id": "IRP6z2nlTW4i"
      },
      "source": [
        "# Create a list of tuples containing Shot number, and each waveform value at height (z)\n",
        "wfList = []\n",
        "for s, i in enumerate(transectIndex):\n",
        "    # Basic quality filtering from section 5\n",
        "    if gediL1B['BEAM0110/geolocation/degrade'][i] == 0 and gediL1B['BEAM0110/stale_return_flag'][i] == 0:\n",
        "        zStart = gediL1B['BEAM0110/geolocation/elevation_bin0'][i]\n",
        "        zEnd = gediL1B['BEAM0110/geolocation/elevation_lastbin'][i]\n",
        "        zCount = sdsCount[i]\n",
        "        zStretch = np.add(zEnd, np.multiply(range(zCount, 0, -1), ((zStart - zEnd) / int(zCount))))\n",
        "        waveform = gediL1B[sdsWaveform][sdsStart[i]: sdsStart[i] + zCount]\n",
        "        waves = []\n",
        "        for z, w in enumerate(waveform):\n",
        "            waves.append((distance[s], zStretch[z],w))  # Append Distance (x), waveform elevation (y) and waveform amplitude (z)\n",
        "        wfList.append(waves)\n",
        "    else:\n",
        "        print(f\"Shot {s} did not pass quality filtering and will be excluded.\")"
      ],
      "execution_count": null,
      "outputs": []
    },
    {
      "cell_type": "markdown",
      "metadata": {
        "id": "8MetLDGft0S2"
      },
      "source": [
        "Buenas noticias de nuevo, parece que todas las formas de onda de nuestro transecto pasaron la prueba de filtrado de calidad.\n",
        "A continuación, trace cada forma de onda utilizando la función Path () de `holoviews`. Esto trazará cada valor de forma de onda individual por distancia, con la amplitud trazada en la tercera dimensión en tonos de verde."
      ]
    },
    {
      "cell_type": "code",
      "metadata": {
        "id": "XW69Onh_tPXf"
      },
      "source": [
        "# Necesario para mostrarlo en Google Colab\n",
        "hv.extension('bokeh')\n",
        "output_notebook()\n",
        "\n",
        "# Plot the waveform values for the transect with the waveform amplitude being plotted as the 'c' or colormap\n",
        "l1bVis = hv.Path(wfList, vdims='Amplitude').options(\n",
        "    color='Amplitude', clim=(200,405), cmap='Greens', line_width=20, width=950,\n",
        "    height=500, clabel='Amplitude',colorbar=True,\n",
        "    xlabel='Distance Along Transect (m)', ylabel='Elevation (m)',\n",
        "    fontsize={\n",
        "        'title':16, 'xlabel':16, 'ylabel': 16, 'xticks':12, 'yticks':12,\n",
        "        'clabel':12, 'cticks':10\n",
        "    },\n",
        "    colorbar_position='right',\n",
        "    title='GEDI L1B Waveforms across Redwood National Park: June 19, 2019'\n",
        ")\n",
        "l1bVis"
      ],
      "execution_count": null,
      "outputs": []
    },
    {
      "cell_type": "markdown",
      "metadata": {
        "id": "_Usp0RFvppFr"
      },
      "source": [
        "Si hace zoom en un subconjunto del transecto, puede obtener aún mejores detalles que muestran la estructura del dosel del conjunto de datos `rxwaveform`, donde las porciones más densas del dosel se ven en tonos más oscuros de verde."
      ]
    },
    {
      "cell_type": "markdown",
      "metadata": {
        "id": "Uu19wYo3pydR"
      },
      "source": [
        "![alt text](https://git.earthdata.nasa.gov/projects/LPDUR/repos/gedi-tutorials/raw/GEDI_L1B_Tutorial_5.png?at=refs%2Fheads%2Fmaster \"Full waveform amplitude plotted for a transect covering Redwood National Park, USA.\")"
      ]
    },
    {
      "cell_type": "code",
      "metadata": {
        "id": "3zsGVBQwtPRy"
      },
      "source": [
        "del waveform, waves, wfList, zStretch"
      ],
      "execution_count": null,
      "outputs": []
    },
    {
      "cell_type": "markdown",
      "metadata": {
        "id": "HNate5u2qDAx"
      },
      "source": [
        "# 7 Visión espacial\n",
        "\n",
        "La Sección 7 combina muchas de las técnicas aprendidas anteriormente, incluyendo cómo importar conjuntos de datos GEDI, realizar filtrado de calidad, subconjuntos espaciales y visualización."
      ]
    },
    {
      "cell_type": "markdown",
      "metadata": {
        "id": "DE5KaQc7qMdO"
      },
      "source": [
        "## 7.1 Importación, subconjunto y filtro de calidad de todas las haz"
      ]
    },
    {
      "cell_type": "markdown",
      "metadata": {
        "id": "CexdcoXuqi0B"
      },
      "source": [
        "A continuación, vuelva a abrir la observación GEDI L1B, pero esta vez, recorra e importe los datos de los 8 haz GEDI."
      ]
    },
    {
      "cell_type": "code",
      "metadata": {
        "id": "_-0yCyvatPOE"
      },
      "source": [
        "beamNames = [g for g in gediL1B.keys() if g.startswith('BEAM')]"
      ],
      "execution_count": null,
      "outputs": []
    },
    {
      "cell_type": "code",
      "metadata": {
        "id": "I9L64dxvTWzq",
        "outputId": "4ffb2418-9649-46ee-827c-ddf0a345a022",
        "colab": {
          "base_uri": "https://localhost:8080/"
        }
      },
      "source": [
        "beamNames"
      ],
      "execution_count": null,
      "outputs": [
        {
          "output_type": "execute_result",
          "data": {
            "text/plain": [
              "['BEAM0000',\n",
              " 'BEAM0001',\n",
              " 'BEAM0010',\n",
              " 'BEAM0011',\n",
              " 'BEAM0101',\n",
              " 'BEAM0110',\n",
              " 'BEAM1000',\n",
              " 'BEAM1011']"
            ]
          },
          "metadata": {
            "tags": []
          },
          "execution_count": 83
        }
      ]
    },
    {
      "cell_type": "markdown",
      "metadata": {
        "id": "QZPjmTIUq3No"
      },
      "source": [
        "Recorra cada uno de los conjuntos de datos deseados (SDS) para cada haz, añádalos a las listas y transfórmese en un DataFrame de `pandas`."
      ]
    },
    {
      "cell_type": "code",
      "metadata": {
        "id": "32e6Ug5NqtFI"
      },
      "source": [
        "# Set up lists to store data\n",
        "shotNum, dem, zElevation, zHigh, zLat, zLon, srf, degrade, beamI, rxCount, rxStart = ([] for i in range(11))"
      ],
      "execution_count": null,
      "outputs": []
    },
    {
      "cell_type": "code",
      "metadata": {
        "id": "MqqUn9QKqtO7"
      },
      "source": [
        "# Loop through each beam and open the SDS needed\n",
        "for b in beamNames:\n",
        "    [shotNum.append(h) for h in gediL1B[[g for g in gediSDS if g.endswith('/shot_number') and b in g][0]][()]]\n",
        "    [dem.append(h) for h in gediL1B[[g for g in gediSDS if g.endswith('/digital_elevation_model') and b in g][0]][()]]\n",
        "    [zElevation.append(h) for h in gediL1B[[g for g in gediSDS if g.endswith('/elevation_bin0') and b in g][0]][()]]  \n",
        "    [zHigh.append(h) for h in gediL1B[[g for g in gediSDS if g.endswith('/elevation_lastbin') and b in g][0]][()]]  \n",
        "    [zLat.append(h) for h in gediL1B[[g for g in gediSDS if g.endswith('/latitude_bin0') and b in g][0]][()]]  \n",
        "    [zLon.append(h) for h in gediL1B[[g for g in gediSDS if g.endswith('/longitude_bin0') and b in g][0]][()]]  \n",
        "    [srf.append(h) for h in gediL1B[[g for g in gediSDS if g.endswith('/stale_return_flag') and b in g][0]][()]]  \n",
        "    [degrade.append(h) for h in gediL1B[[g for g in gediSDS if g.endswith('/degrade') and b in g][0]][()]]  \n",
        "    [rxCount.append(h) for h in gediL1B[[g for g in gediSDS if g.endswith('/rx_sample_count') and b in g][0]][()]]  \n",
        "    [rxStart.append(h) for h in gediL1B[[g for g in gediSDS if g.endswith('/rx_sample_start_index') and b in g][0]][()]]  \n",
        "    [beamI.append(h) for h in [b] * len(gediL1B[[g for g in gediSDS if g.endswith('/shot_number') and b in g][0]][()])]  "
      ],
      "execution_count": null,
      "outputs": []
    },
    {
      "cell_type": "markdown",
      "metadata": {
        "id": "tIiu7Be_rDAN"
      },
      "source": [
        "Tenga en cuenta que no importamos el conjunto de datos `rxwaveform`; debido al gran tamaño de ese conjunto de datos, esperaremos hasta después del subconjunto espacial para importar las formas de onda."
      ]
    },
    {
      "cell_type": "code",
      "metadata": {
        "id": "7Xw5u27qqtMd"
      },
      "source": [
        "# Convert lists to Pandas dataframe\n",
        "allDF = pd.DataFrame({\n",
        "    'Shot Number': shotNum, 'Beam': beamI, 'Latitude': zLat, 'Longitude': zLon,\n",
        "    'Tandem-X DEM': dem, 'Elevation bin 0 (m)': zElevation,\n",
        "    'Elevation last bin (m)': zHigh, 'Stale Return Flag': srf,\n",
        "    'Degrade Flag': degrade, 'rx Start Index': rxStart, 'rx Sample Count': rxCount\n",
        "})"
      ],
      "execution_count": null,
      "outputs": []
    },
    {
      "cell_type": "code",
      "metadata": {
        "id": "jWWFrUbFqtKA"
      },
      "source": [
        "del shotNum, dem, zElevation, zHigh, zLat, zLon, srf, degrade, beamI"
      ],
      "execution_count": null,
      "outputs": []
    },
    {
      "cell_type": "markdown",
      "metadata": {
        "id": "0rlrfemLrS9w"
      },
      "source": [
        "## 7.2 Subconjunto espacial"
      ]
    },
    {
      "cell_type": "markdown",
      "metadata": {
        "id": "iRFxufdSrW5W"
      },
      "source": [
        "A continuación, realice un subconjunto del marco de datos de pandas utilizando una región de interés del cuadro delimitador simple. Si está interesado en recortar espacialmente tomas GEDI a una región geojson de interés, asegúrese de consultar el script de Python GEDI-Subsetter disponible en: https://git.earthdata.nasa.gov/projects/LPDUR/repos/gedi-subsetter/browse"
      ]
    },
    {
      "cell_type": "code",
      "metadata": {
        "id": "fVxP-lqkqtCu",
        "outputId": "c9dfc1cf-64f2-4355-b6e3-bef1e6090b99",
        "colab": {
          "base_uri": "https://localhost:8080/"
        }
      },
      "source": [
        "len(allDF)"
      ],
      "execution_count": null,
      "outputs": [
        {
          "output_type": "execute_result",
          "data": {
            "text/plain": [
              "3547051"
            ]
          },
          "metadata": {
            "tags": []
          },
          "execution_count": 88
        }
      ]
    },
    {
      "cell_type": "markdown",
      "metadata": {
        "id": "zHIduFWorm5Q"
      },
      "source": [
        "¡Más de 3.5 millones de disparos están contenidos en esta única órbita GEDI! A continuación, subconjunto hasta solo las tomas que caen dentro de este pequeño cuadro delimitador que abarca el Parque Nacional Redwood. RedwoodNP nuestro geodataframe de geopandas se puede llamar para el \"sobre\" o cuadro delimitador más pequeño que abarca toda la región de interés. Aquí, utilícelo como cuadro delimitador para subconjuntos de las tomas GEDI."
      ]
    },
    {
      "cell_type": "code",
      "metadata": {
        "id": "1gIh8TidrSpC",
        "outputId": "b0bbf9b0-2f38-4a57-b21e-e6c0549bd7b6",
        "colab": {
          "base_uri": "https://localhost:8080/"
        }
      },
      "source": [
        "redwoodNP.envelope[0].bounds"
      ],
      "execution_count": null,
      "outputs": [
        {
          "output_type": "execute_result",
          "data": {
            "text/plain": [
              "(-124.16015705494489,\n",
              " 41.080601363502545,\n",
              " -123.84950230520286,\n",
              " 41.83981133687605)"
            ]
          },
          "metadata": {
            "tags": []
          },
          "execution_count": 89
        }
      ]
    },
    {
      "cell_type": "code",
      "metadata": {
        "id": "wkJgarA0rStF"
      },
      "source": [
        "minLon, minLat, maxLon, maxLat = redwoodNP.envelope[0].bounds  # Define the min/max lat/lon from the bounds of Redwood NP"
      ],
      "execution_count": null,
      "outputs": []
    },
    {
      "cell_type": "markdown",
      "metadata": {
        "id": "Im-XyzGpr6bg"
      },
      "source": [
        "Filtre por el cuadro delimitador, que se hace de manera similar al filtrado por calidad en la sección 5 anterior."
      ]
    },
    {
      "cell_type": "code",
      "metadata": {
        "id": "Ag6sTNomrSmy"
      },
      "source": [
        "allDF = allDF.where(allDF['Latitude'] > minLat)\n",
        "allDF = allDF.where(allDF['Latitude'] < maxLat)\n",
        "allDF = allDF.where(allDF['Longitude'] > minLon)\n",
        "allDF = allDF.where(allDF['Longitude'] < maxLon)"
      ],
      "execution_count": null,
      "outputs": []
    },
    {
      "cell_type": "code",
      "metadata": {
        "id": "FmDUtjdrr7Gv"
      },
      "source": [
        "allDF = allDF.dropna()  # Drop shots outside of the ROI"
      ],
      "execution_count": null,
      "outputs": []
    },
    {
      "cell_type": "code",
      "metadata": {
        "id": "9bPqmV_wr7PT",
        "outputId": "175f6c20-11fc-4895-a10f-402227491fc1",
        "colab": {
          "base_uri": "https://localhost:8080/"
        }
      },
      "source": [
        "len(allDF)"
      ],
      "execution_count": null,
      "outputs": [
        {
          "output_type": "execute_result",
          "data": {
            "text/plain": [
              "4477"
            ]
          },
          "metadata": {
            "tags": []
          },
          "execution_count": 93
        }
      ]
    },
    {
      "cell_type": "markdown",
      "metadata": {
        "id": "et7sUqFfsVax"
      },
      "source": [
        "Observe que ha reducido drásticamente la cantidad de tomas con las que está trabajando (lo que mejorará en gran medida su experiencia al trazarlas a continuación). Pero primero, elimine las tomas de mala calidad que existan dentro del ROI."
      ]
    },
    {
      "cell_type": "code",
      "metadata": {
        "id": "_iB7MKo-r7T1",
        "outputId": "f6da58de-57e3-44df-952d-e97695227f29",
        "colab": {
          "base_uri": "https://localhost:8080/"
        }
      },
      "source": [
        "# Set any poor quality returns to NaN\n",
        "allDF = allDF.where(allDF['Stale Return Flag'].ne(1))\n",
        "allDF = allDF.where(allDF['Degrade Flag'].ne(1))\n",
        "allDF = allDF.dropna()\n",
        "len(allDF)"
      ],
      "execution_count": null,
      "outputs": [
        {
          "output_type": "execute_result",
          "data": {
            "text/plain": [
              "4475"
            ]
          },
          "metadata": {
            "tags": []
          },
          "execution_count": 94
        }
      ]
    },
    {
      "cell_type": "markdown",
      "metadata": {
        "id": "MW6FW1Yish_8"
      },
      "source": [
        "A continuación, cree un punto `Shapely` de cada plano e insértelo como columna de geometría en data frame (que luego será GeoDataFrame)."
      ]
    },
    {
      "cell_type": "code",
      "metadata": {
        "id": "9eEAUvrEr7M0"
      },
      "source": [
        "# Take the lat/lon dataframe and convert each lat/lon to a shapely point\n",
        "allDF['geometry'] = allDF.apply(lambda row: Point(row.Longitude, row.Latitude), axis=1)"
      ],
      "execution_count": null,
      "outputs": []
    },
    {
      "cell_type": "code",
      "metadata": {
        "id": "ULy7rWLMs5fr"
      },
      "source": [
        "# Convert to geodataframe\n",
        "allDF = gp.GeoDataFrame(allDF)\n",
        "allDF = allDF.drop(columns=['Latitude','Longitude'])"
      ],
      "execution_count": null,
      "outputs": []
    },
    {
      "cell_type": "markdown",
      "metadata": {
        "id": "PDq1-sWss-ZD"
      },
      "source": [
        "## 7.3 Visualizar todas los haz: elevación"
      ]
    },
    {
      "cell_type": "markdown",
      "metadata": {
        "id": "iT50CzlYtb-V"
      },
      "source": [
        "Ahora, usando la función `pointVisual` definida en la sección 3.2, trace el GeoDataFrame de `geopandas` usando `geoviews`."
      ]
    },
    {
      "cell_type": "code",
      "metadata": {
        "id": "Y1v0qCPTs5jY"
      },
      "source": [
        "# Necesario para mostrarlo en Google Colab\n",
        "hv.extension('bokeh')\n",
        "output_notebook()\n",
        "\n",
        "allDF['Shot Number'] = allDF['Shot Number'].astype(str)  # Convert shot number to string\n",
        "\n",
        "vdims = []\n",
        "for f in allDF:\n",
        "    if f not in ['geometry']:\n",
        "        vdims.append(f)\n",
        "\n",
        "visual = pointVisual(allDF, vdims = vdims)\n",
        "visual * gv.Polygons(redwoodNP).opts(line_color='red', color=None)"
      ],
      "execution_count": null,
      "outputs": []
    },
    {
      "cell_type": "markdown",
      "metadata": {
        "id": "Tk4OTN4Mt6o2"
      },
      "source": [
        "Siéntase libre de desplazarse y acercarse a las tomas GEDI en amarillo."
      ]
    },
    {
      "cell_type": "markdown",
      "metadata": {
        "id": "hwVKTLpcuIXi"
      },
      "source": [
        "Ahora no solo tracemos los puntos en el GeoDataFrame, sino que también agreguemos un mapa de colores para Elevation bin0 (m)."
      ]
    },
    {
      "cell_type": "code",
      "metadata": {
        "id": "plLvkHuss5do"
      },
      "source": [
        "# Necesario para mostrarlo en Google Colab\n",
        "hv.extension('bokeh')\n",
        "output_notebook()\n",
        "\n",
        "(\n",
        "    gvts.EsriImagery * gv.Points(allDF, vdims=vdims).options(\n",
        "        color='Elevation bin 0 (m)',cmap='terrain', size=3, tools=['hover'],\n",
        "        clim=(min(allDF['Elevation bin 0 (m)']), max(allDF['Elevation bin 0 (m)'])),\n",
        "        colorbar=True, clabel='Meters', title='GEDI Elevation bin0 over Redwood National Park: June 19, 2019',\n",
        "        fontsize={'xticks': 10, 'yticks': 10, 'xlabel':16, 'clabel':12,'cticks':10,'title':16,'ylabel':16}\n",
        "    )\n",
        ").options(height=500,width=900)"
      ],
      "execution_count": null,
      "outputs": []
    },
    {
      "cell_type": "markdown",
      "metadata": {
        "id": "7Y7_hgQEvVt8"
      },
      "source": [
        "# 8 Exportar subconjuntos como archivos GeoJSON"
      ]
    },
    {
      "cell_type": "markdown",
      "metadata": {
        "id": "2uO5Oa6gvZnp"
      },
      "source": [
        "En esta sección, exporte el GeoDataFrame como un archivo .geojson que se puede abrir fácilmente en su software favorito de teledetección y / o GIS e incluirá una tabla de atributos con todas las tomas / valores para cada una de las capas SDS en el marco de datos."
      ]
    },
    {
      "cell_type": "code",
      "metadata": {
        "id": "ka2CUDStr7KK"
      },
      "source": [
        "waves = []  # List to store each list of waveform values\n",
        "\n",
        "# Loop through each row (shot) in the data frame, extract waveform values, append to list of lists\n",
        "for _, shot in allDF.iterrows():\n",
        "    starts = int(shot['rx Start Index'])\n",
        "    wave = gediL1B[f\"{shot['Beam']}/rxwaveform\"][starts: starts + int(shot['rx Sample Count'])]\n",
        "    \n",
        "    # In order to export as geojson, the type needs to be converted from a numpy array to a single comma separated string\n",
        "    waves.append(','.join([str(q) for q in wave]))\n",
        "    \n",
        "# Add to data frame\n",
        "allDF['rx Waveform'] = waves"
      ],
      "execution_count": null,
      "outputs": []
    },
    {
      "cell_type": "code",
      "metadata": {
        "id": "UwIKxnuIvbl1",
        "outputId": "ebe8f308-f8b8-45b9-ccf1-bc4b7f3f707a",
        "colab": {
          "base_uri": "https://localhost:8080/",
          "height": 35
        }
      },
      "source": [
        "gediL1B.filename  # L1B Filename"
      ],
      "execution_count": null,
      "outputs": [
        {
          "output_type": "execute_result",
          "data": {
            "application/vnd.google.colaboratory.intrinsic+json": {
              "type": "string"
            },
            "text/plain": [
              "'input/GEDI01_B_2019170155833_O02932_T02267_02_003_01.h5'"
            ]
          },
          "metadata": {
            "tags": []
          },
          "execution_count": 101
        }
      ]
    },
    {
      "cell_type": "code",
      "metadata": {
        "id": "_itldDXavbsc",
        "outputId": "0a02225e-c3af-4309-9387-85485681d1fd",
        "colab": {
          "base_uri": "https://localhost:8080/",
          "height": 35
        }
      },
      "source": [
        "outName = gediL1B.filename.replace('.h5', '.json')  # Create an output file name using the input file name\n",
        "outName"
      ],
      "execution_count": null,
      "outputs": [
        {
          "output_type": "execute_result",
          "data": {
            "application/vnd.google.colaboratory.intrinsic+json": {
              "type": "string"
            },
            "text/plain": [
              "'input/GEDI01_B_2019170155833_O02932_T02267_02_003_01.json'"
            ]
          },
          "metadata": {
            "tags": []
          },
          "execution_count": 102
        }
      ]
    },
    {
      "cell_type": "code",
      "metadata": {
        "id": "yC4ndMV6vbjZ"
      },
      "source": [
        "allDF.to_file(outName, driver='GeoJSON')  # Export to GeoJSON"
      ],
      "execution_count": null,
      "outputs": []
    },
    {
      "cell_type": "code",
      "metadata": {
        "id": "Bjo_WqRK6ih1"
      },
      "source": [
        "del allDF, waves"
      ],
      "execution_count": null,
      "outputs": []
    },
    {
      "cell_type": "markdown",
      "metadata": {
        "id": "RpxyE8cAwSV1"
      },
      "source": [
        "¡Éxito! Ahora ha aprendido cómo comenzar a trabajar con archivos GEDI L1B en Python (en el entorno de Google Colab), así como algunas estrategias interesantes para visualizar esos datos a fin de comprender mejor su región específica de interés. Al usar este cuaderno jupyter como flujo de trabajo, ahora debería poder cambiar a archivos GEDI en su región específica de interés y volver a ejecutar el cuaderno. ¡Buena suerte!"
      ]
    }
  ]
}