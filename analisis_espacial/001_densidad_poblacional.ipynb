{
  "nbformat": 4,
  "nbformat_minor": 0,
  "metadata": {
    "colab": {
      "name": "001_densidad_poblacional.ipynb",
      "provenance": [],
      "collapsed_sections": [],
      "toc_visible": true,
      "authorship_tag": "ABX9TyM9pYwa3aRLFDI24GCS2zCy",
      "include_colab_link": true
    },
    "kernelspec": {
      "name": "python3",
      "display_name": "Python 3"
    }
  },
  "cells": [
    {
      "cell_type": "markdown",
      "metadata": {
        "id": "view-in-github",
        "colab_type": "text"
      },
      "source": [
        "<a href=\"https://colab.research.google.com/github/ErikSeras/usos_r_python/blob/main/analisis_espacial/001_densidad_poblacional.ipynb\" target=\"_parent\"><img src=\"https://colab.research.google.com/assets/colab-badge.svg\" alt=\"Open In Colab\"/></a>"
      ]
    },
    {
      "cell_type": "markdown",
      "metadata": {
        "id": "1R9-OlHQBnCJ"
      },
      "source": [
        "# Hacer un mapa de densidad poblacional de Nepal con Geopandas\n",
        "\n",
        "Elaborado por: __Erik Seras__"
      ]
    },
    {
      "cell_type": "markdown",
      "metadata": {
        "id": "Hy2qFTRLByDD"
      },
      "source": [
        "# 1 Instalaciones previas"
      ]
    },
    {
      "cell_type": "markdown",
      "metadata": {
        "id": "SJ1_jO5rB20v"
      },
      "source": [
        "## 1.1 Instalación de archivos de linux para análisis espacial."
      ]
    },
    {
      "cell_type": "markdown",
      "metadata": {
        "id": "2mQ89G3nngAW"
      },
      "source": [
        "Presionar la tecla `Enter` luego de hacer clic en el campo que sale al ejecutar la siguiente celda para que se pueda instalar."
      ]
    },
    {
      "cell_type": "code",
      "metadata": {
        "id": "PoL8vFdW_mCa"
      },
      "source": [
        "! sudo add-apt-repository ppa:ubuntugis/ubuntugis-unstable\n",
        "! sudo apt-get update\n",
        "! sudo apt-get install libudunits2-dev libgdal-dev libgeos-dev libproj-dev\n",
        "! sudo apt-get install libprotobuf-dev protobuf-compiler libv8-dev libjq-dev"
      ],
      "execution_count": null,
      "outputs": []
    },
    {
      "cell_type": "markdown",
      "metadata": {
        "id": "lctPI6uRB-NH"
      },
      "source": [
        "## 1.2 Instalación de geopandas"
      ]
    },
    {
      "cell_type": "code",
      "metadata": {
        "id": "8okD_FlKBfLl"
      },
      "source": [
        "! pip install geopandas"
      ],
      "execution_count": null,
      "outputs": []
    },
    {
      "cell_type": "markdown",
      "metadata": {
        "id": "2F0VQReeBmhY"
      },
      "source": [
        "# 2 Elaboración del mapa de densidad poblacional"
      ]
    },
    {
      "cell_type": "markdown",
      "metadata": {
        "id": "Oupe4PefDO04"
      },
      "source": [
        "Tutoriales que ayudaron a desarrollar este ejercicio:\n",
        "- https://www.youtube.com/watch?v=Qc-EPKucq0w\n",
        "- https://www.youtube.com/watch?v=Ws968wOdgAA\n",
        "\n",
        "Estadísticas de población de Nepal: https://www.citypopulation.de/php/nepal-mun-admin.php\n",
        "\n",
        "Data DIVA-GIS (obtención de shapefiles en formato zip): https://www.diva-gis.org/gdata"
      ]
    },
    {
      "cell_type": "markdown",
      "metadata": {
        "id": "hXEplrr9EPun"
      },
      "source": [
        "## 2.1 Librerías necesarias"
      ]
    },
    {
      "cell_type": "code",
      "metadata": {
        "id": "3UUYzn_MCNDg"
      },
      "source": [
        "import pandas as pd\n",
        "import geopandas as gpd\n",
        "import matplotlib.pyplot as plt\n",
        "%matplotlib inline"
      ],
      "execution_count": 75,
      "outputs": []
    },
    {
      "cell_type": "markdown",
      "metadata": {
        "id": "rnRVRyKbHgwo"
      },
      "source": [
        "## 2.2 Lectura de la data"
      ]
    },
    {
      "cell_type": "code",
      "metadata": {
        "id": "3UE83EWMDqg7"
      },
      "source": [
        "# Leer la data directamente de un link de internet\n",
        "data = pd.read_html(io = 'https://www.citypopulation.de/php/nepal-mun-admin.php')"
      ],
      "execution_count": 4,
      "outputs": []
    },
    {
      "cell_type": "code",
      "metadata": {
        "id": "5J6UPHSKDqm1",
        "outputId": "81f5807d-266d-47f6-beff-f57d3ecf0ce7",
        "colab": {
          "base_uri": "https://localhost:8080/"
        }
      },
      "source": [
        "# Obtener la data en un dataframe\n",
        "for population_data in data:\n",
        "    print(population_data)"
      ],
      "execution_count": 5,
      "outputs": [
        {
          "output_type": "stream",
          "text": [
            "                    Name         Native  ... PopulationCensus2011-06-22 Unnamed: 5\n",
            "0         Achām [Achham]           अछाम  ...                     257477          →\n",
            "1    Bannigadhi Jayagadh  बान्नीगडीजैगड  ...                      17426          →\n",
            "2              Chaurpati        चौरपाटी  ...                      25215          →\n",
            "3                Dhakari          धकारी  ...                      21570          →\n",
            "4             Kamalbazar        कमलबजार  ...                      23770          →\n",
            "..                   ...            ...  ...                        ...        ...\n",
            "846             Sunkoshi        सुनकोशी  ...                      11992          →\n",
            "847                Tapli         ताप्ली  ...                      14567          →\n",
            "848              Triyuga       त्रियुगा  ...                      88967          →\n",
            "849        Udayapurgadhi      उदयपुरगढी  ...                      30780          →\n",
            "850        Nepāl [Nepal]          नेपाल  ...                   26494504        NaN\n",
            "\n",
            "[851 rows x 6 columns]\n"
          ],
          "name": "stdout"
        }
      ]
    },
    {
      "cell_type": "code",
      "metadata": {
        "id": "PspGLiTvF9Ck",
        "outputId": "bd87548c-dc0e-4906-b373-0ef87be8ecde",
        "colab": {
          "base_uri": "https://localhost:8080/",
          "height": 204
        }
      },
      "source": [
        "population_data.head()"
      ],
      "execution_count": 6,
      "outputs": [
        {
          "output_type": "execute_result",
          "data": {
            "text/html": [
              "<div>\n",
              "<style scoped>\n",
              "    .dataframe tbody tr th:only-of-type {\n",
              "        vertical-align: middle;\n",
              "    }\n",
              "\n",
              "    .dataframe tbody tr th {\n",
              "        vertical-align: top;\n",
              "    }\n",
              "\n",
              "    .dataframe thead th {\n",
              "        text-align: right;\n",
              "    }\n",
              "</style>\n",
              "<table border=\"1\" class=\"dataframe\">\n",
              "  <thead>\n",
              "    <tr style=\"text-align: right;\">\n",
              "      <th></th>\n",
              "      <th>Name</th>\n",
              "      <th>Native</th>\n",
              "      <th>Status</th>\n",
              "      <th>PopulationCensus2001-05-28</th>\n",
              "      <th>PopulationCensus2011-06-22</th>\n",
              "      <th>Unnamed: 5</th>\n",
              "    </tr>\n",
              "  </thead>\n",
              "  <tbody>\n",
              "    <tr>\n",
              "      <th>0</th>\n",
              "      <td>Achām [Achham]</td>\n",
              "      <td>अछाम</td>\n",
              "      <td>District</td>\n",
              "      <td>231285</td>\n",
              "      <td>257477</td>\n",
              "      <td>→</td>\n",
              "    </tr>\n",
              "    <tr>\n",
              "      <th>1</th>\n",
              "      <td>Bannigadhi Jayagadh</td>\n",
              "      <td>बान्नीगडीजैगड</td>\n",
              "      <td>Rural Municipality</td>\n",
              "      <td>17102</td>\n",
              "      <td>17426</td>\n",
              "      <td>→</td>\n",
              "    </tr>\n",
              "    <tr>\n",
              "      <th>2</th>\n",
              "      <td>Chaurpati</td>\n",
              "      <td>चौरपाटी</td>\n",
              "      <td>Rural Municipality</td>\n",
              "      <td>23323</td>\n",
              "      <td>25215</td>\n",
              "      <td>→</td>\n",
              "    </tr>\n",
              "    <tr>\n",
              "      <th>3</th>\n",
              "      <td>Dhakari</td>\n",
              "      <td>धकारी</td>\n",
              "      <td>Rural Municipality</td>\n",
              "      <td>...</td>\n",
              "      <td>21570</td>\n",
              "      <td>→</td>\n",
              "    </tr>\n",
              "    <tr>\n",
              "      <th>4</th>\n",
              "      <td>Kamalbazar</td>\n",
              "      <td>कमलबजार</td>\n",
              "      <td>Municipality</td>\n",
              "      <td>...</td>\n",
              "      <td>23770</td>\n",
              "      <td>→</td>\n",
              "    </tr>\n",
              "  </tbody>\n",
              "</table>\n",
              "</div>"
            ],
            "text/plain": [
              "                  Name         Native  ... PopulationCensus2011-06-22 Unnamed: 5\n",
              "0       Achām [Achham]           अछाम  ...                     257477          →\n",
              "1  Bannigadhi Jayagadh  बान्नीगडीजैगड  ...                      17426          →\n",
              "2            Chaurpati        चौरपाटी  ...                      25215          →\n",
              "3              Dhakari          धकारी  ...                      21570          →\n",
              "4           Kamalbazar        कमलबजार  ...                      23770          →\n",
              "\n",
              "[5 rows x 6 columns]"
            ]
          },
          "metadata": {
            "tags": []
          },
          "execution_count": 6
        }
      ]
    },
    {
      "cell_type": "markdown",
      "metadata": {
        "id": "VBMQ1hu4Heue"
      },
      "source": [
        "## 2.3 Guardar la data en excel"
      ]
    },
    {
      "cell_type": "code",
      "metadata": {
        "id": "KGCA3yVcF9Fk"
      },
      "source": [
        "population_data.to_excel(r'pop.xlsx')"
      ],
      "execution_count": 7,
      "outputs": []
    },
    {
      "cell_type": "markdown",
      "metadata": {
        "id": "nOoI8r8XIwIk"
      },
      "source": [
        "## 2.4 Leer los datos del excel"
      ]
    },
    {
      "cell_type": "code",
      "metadata": {
        "id": "i-WFLLVtF9IN"
      },
      "source": [
        "population_data = pd.read_excel(r'pop.xlsx')"
      ],
      "execution_count": 8,
      "outputs": []
    },
    {
      "cell_type": "code",
      "metadata": {
        "id": "Lyrs9rJyI2UL",
        "outputId": "df2e0555-dde0-4a40-cf1b-2dd8f2ca64bf",
        "colab": {
          "base_uri": "https://localhost:8080/",
          "height": 272
        }
      },
      "source": [
        "population_data.head()"
      ],
      "execution_count": 9,
      "outputs": [
        {
          "output_type": "execute_result",
          "data": {
            "text/html": [
              "<div>\n",
              "<style scoped>\n",
              "    .dataframe tbody tr th:only-of-type {\n",
              "        vertical-align: middle;\n",
              "    }\n",
              "\n",
              "    .dataframe tbody tr th {\n",
              "        vertical-align: top;\n",
              "    }\n",
              "\n",
              "    .dataframe thead th {\n",
              "        text-align: right;\n",
              "    }\n",
              "</style>\n",
              "<table border=\"1\" class=\"dataframe\">\n",
              "  <thead>\n",
              "    <tr style=\"text-align: right;\">\n",
              "      <th></th>\n",
              "      <th>Unnamed: 0</th>\n",
              "      <th>Name</th>\n",
              "      <th>Native</th>\n",
              "      <th>Status</th>\n",
              "      <th>PopulationCensus2001-05-28</th>\n",
              "      <th>PopulationCensus2011-06-22</th>\n",
              "      <th>Unnamed: 5</th>\n",
              "    </tr>\n",
              "  </thead>\n",
              "  <tbody>\n",
              "    <tr>\n",
              "      <th>0</th>\n",
              "      <td>0</td>\n",
              "      <td>Achām [Achham]</td>\n",
              "      <td>अछाम</td>\n",
              "      <td>District</td>\n",
              "      <td>231285</td>\n",
              "      <td>257477</td>\n",
              "      <td>→</td>\n",
              "    </tr>\n",
              "    <tr>\n",
              "      <th>1</th>\n",
              "      <td>1</td>\n",
              "      <td>Bannigadhi Jayagadh</td>\n",
              "      <td>बान्नीगडीजैगड</td>\n",
              "      <td>Rural Municipality</td>\n",
              "      <td>17102</td>\n",
              "      <td>17426</td>\n",
              "      <td>→</td>\n",
              "    </tr>\n",
              "    <tr>\n",
              "      <th>2</th>\n",
              "      <td>2</td>\n",
              "      <td>Chaurpati</td>\n",
              "      <td>चौरपाटी</td>\n",
              "      <td>Rural Municipality</td>\n",
              "      <td>23323</td>\n",
              "      <td>25215</td>\n",
              "      <td>→</td>\n",
              "    </tr>\n",
              "    <tr>\n",
              "      <th>3</th>\n",
              "      <td>3</td>\n",
              "      <td>Dhakari</td>\n",
              "      <td>धकारी</td>\n",
              "      <td>Rural Municipality</td>\n",
              "      <td>...</td>\n",
              "      <td>21570</td>\n",
              "      <td>→</td>\n",
              "    </tr>\n",
              "    <tr>\n",
              "      <th>4</th>\n",
              "      <td>4</td>\n",
              "      <td>Kamalbazar</td>\n",
              "      <td>कमलबजार</td>\n",
              "      <td>Municipality</td>\n",
              "      <td>...</td>\n",
              "      <td>23770</td>\n",
              "      <td>→</td>\n",
              "    </tr>\n",
              "  </tbody>\n",
              "</table>\n",
              "</div>"
            ],
            "text/plain": [
              "   Unnamed: 0                 Name  ... PopulationCensus2011-06-22 Unnamed: 5\n",
              "0           0       Achām [Achham]  ...                     257477          →\n",
              "1           1  Bannigadhi Jayagadh  ...                      17426          →\n",
              "2           2            Chaurpati  ...                      25215          →\n",
              "3           3              Dhakari  ...                      21570          →\n",
              "4           4           Kamalbazar  ...                      23770          →\n",
              "\n",
              "[5 rows x 7 columns]"
            ]
          },
          "metadata": {
            "tags": []
          },
          "execution_count": 9
        }
      ]
    },
    {
      "cell_type": "markdown",
      "metadata": {
        "id": "kQiR99QoJXTc"
      },
      "source": [
        "Columnas del data frame"
      ]
    },
    {
      "cell_type": "code",
      "metadata": {
        "id": "97axP4LxI2W1",
        "outputId": "6caf8f7b-df17-4125-feef-f767a2800af4",
        "colab": {
          "base_uri": "https://localhost:8080/"
        }
      },
      "source": [
        "population_data.columns"
      ],
      "execution_count": 10,
      "outputs": [
        {
          "output_type": "execute_result",
          "data": {
            "text/plain": [
              "Index(['Unnamed: 0', 'Name', 'Native', 'Status', 'PopulationCensus2001-05-28',\n",
              "       'PopulationCensus2011-06-22', 'Unnamed: 5'],\n",
              "      dtype='object')"
            ]
          },
          "metadata": {
            "tags": []
          },
          "execution_count": 10
        }
      ]
    },
    {
      "cell_type": "markdown",
      "metadata": {
        "id": "VgbAW2TLQLZZ"
      },
      "source": [
        "## 2.5 Procesar la data"
      ]
    },
    {
      "cell_type": "markdown",
      "metadata": {
        "id": "44XKDxqyJZsL"
      },
      "source": [
        "Solo se requieren 3 columnas para el ejemplo."
      ]
    },
    {
      "cell_type": "code",
      "metadata": {
        "id": "GUXD8p6eJJdM"
      },
      "source": [
        "population_data = population_data[['Name', 'Status', 'PopulationCensus2011-06-22']]"
      ],
      "execution_count": 11,
      "outputs": []
    },
    {
      "cell_type": "code",
      "metadata": {
        "id": "YO8RbJe-JJft",
        "outputId": "c1574df2-0136-48f9-ce9d-421a6bf0a046",
        "colab": {
          "base_uri": "https://localhost:8080/",
          "height": 204
        }
      },
      "source": [
        "population_data.head()"
      ],
      "execution_count": 12,
      "outputs": [
        {
          "output_type": "execute_result",
          "data": {
            "text/html": [
              "<div>\n",
              "<style scoped>\n",
              "    .dataframe tbody tr th:only-of-type {\n",
              "        vertical-align: middle;\n",
              "    }\n",
              "\n",
              "    .dataframe tbody tr th {\n",
              "        vertical-align: top;\n",
              "    }\n",
              "\n",
              "    .dataframe thead th {\n",
              "        text-align: right;\n",
              "    }\n",
              "</style>\n",
              "<table border=\"1\" class=\"dataframe\">\n",
              "  <thead>\n",
              "    <tr style=\"text-align: right;\">\n",
              "      <th></th>\n",
              "      <th>Name</th>\n",
              "      <th>Status</th>\n",
              "      <th>PopulationCensus2011-06-22</th>\n",
              "    </tr>\n",
              "  </thead>\n",
              "  <tbody>\n",
              "    <tr>\n",
              "      <th>0</th>\n",
              "      <td>Achām [Achham]</td>\n",
              "      <td>District</td>\n",
              "      <td>257477</td>\n",
              "    </tr>\n",
              "    <tr>\n",
              "      <th>1</th>\n",
              "      <td>Bannigadhi Jayagadh</td>\n",
              "      <td>Rural Municipality</td>\n",
              "      <td>17426</td>\n",
              "    </tr>\n",
              "    <tr>\n",
              "      <th>2</th>\n",
              "      <td>Chaurpati</td>\n",
              "      <td>Rural Municipality</td>\n",
              "      <td>25215</td>\n",
              "    </tr>\n",
              "    <tr>\n",
              "      <th>3</th>\n",
              "      <td>Dhakari</td>\n",
              "      <td>Rural Municipality</td>\n",
              "      <td>21570</td>\n",
              "    </tr>\n",
              "    <tr>\n",
              "      <th>4</th>\n",
              "      <td>Kamalbazar</td>\n",
              "      <td>Municipality</td>\n",
              "      <td>23770</td>\n",
              "    </tr>\n",
              "  </tbody>\n",
              "</table>\n",
              "</div>"
            ],
            "text/plain": [
              "                  Name              Status  PopulationCensus2011-06-22\n",
              "0       Achām [Achham]            District                      257477\n",
              "1  Bannigadhi Jayagadh  Rural Municipality                       17426\n",
              "2            Chaurpati  Rural Municipality                       25215\n",
              "3              Dhakari  Rural Municipality                       21570\n",
              "4           Kamalbazar        Municipality                       23770"
            ]
          },
          "metadata": {
            "tags": []
          },
          "execution_count": 12
        }
      ]
    },
    {
      "cell_type": "markdown",
      "metadata": {
        "id": "p8ip1X-nKHk6"
      },
      "source": [
        "Renombras las variables."
      ]
    },
    {
      "cell_type": "code",
      "metadata": {
        "id": "otIzdHOEJJjg"
      },
      "source": [
        "population_data.rename(\n",
        "    columns = {\n",
        "        'PopulationCensus2011-06-22' : 'Population'\n",
        "    },\n",
        "    inplace = True\n",
        ")"
      ],
      "execution_count": 13,
      "outputs": []
    },
    {
      "cell_type": "code",
      "metadata": {
        "id": "1huDZ7tfJJah",
        "outputId": "9da44cb0-1dd9-4949-ef94-993a9f854e24",
        "colab": {
          "base_uri": "https://localhost:8080/",
          "height": 204
        }
      },
      "source": [
        "population_data.head()"
      ],
      "execution_count": 14,
      "outputs": [
        {
          "output_type": "execute_result",
          "data": {
            "text/html": [
              "<div>\n",
              "<style scoped>\n",
              "    .dataframe tbody tr th:only-of-type {\n",
              "        vertical-align: middle;\n",
              "    }\n",
              "\n",
              "    .dataframe tbody tr th {\n",
              "        vertical-align: top;\n",
              "    }\n",
              "\n",
              "    .dataframe thead th {\n",
              "        text-align: right;\n",
              "    }\n",
              "</style>\n",
              "<table border=\"1\" class=\"dataframe\">\n",
              "  <thead>\n",
              "    <tr style=\"text-align: right;\">\n",
              "      <th></th>\n",
              "      <th>Name</th>\n",
              "      <th>Status</th>\n",
              "      <th>Population</th>\n",
              "    </tr>\n",
              "  </thead>\n",
              "  <tbody>\n",
              "    <tr>\n",
              "      <th>0</th>\n",
              "      <td>Achām [Achham]</td>\n",
              "      <td>District</td>\n",
              "      <td>257477</td>\n",
              "    </tr>\n",
              "    <tr>\n",
              "      <th>1</th>\n",
              "      <td>Bannigadhi Jayagadh</td>\n",
              "      <td>Rural Municipality</td>\n",
              "      <td>17426</td>\n",
              "    </tr>\n",
              "    <tr>\n",
              "      <th>2</th>\n",
              "      <td>Chaurpati</td>\n",
              "      <td>Rural Municipality</td>\n",
              "      <td>25215</td>\n",
              "    </tr>\n",
              "    <tr>\n",
              "      <th>3</th>\n",
              "      <td>Dhakari</td>\n",
              "      <td>Rural Municipality</td>\n",
              "      <td>21570</td>\n",
              "    </tr>\n",
              "    <tr>\n",
              "      <th>4</th>\n",
              "      <td>Kamalbazar</td>\n",
              "      <td>Municipality</td>\n",
              "      <td>23770</td>\n",
              "    </tr>\n",
              "  </tbody>\n",
              "</table>\n",
              "</div>"
            ],
            "text/plain": [
              "                  Name              Status  Population\n",
              "0       Achām [Achham]            District      257477\n",
              "1  Bannigadhi Jayagadh  Rural Municipality       17426\n",
              "2            Chaurpati  Rural Municipality       25215\n",
              "3              Dhakari  Rural Municipality       21570\n",
              "4           Kamalbazar        Municipality       23770"
            ]
          },
          "metadata": {
            "tags": []
          },
          "execution_count": 14
        }
      ]
    },
    {
      "cell_type": "markdown",
      "metadata": {
        "id": "O0CAegjQK6ZG"
      },
      "source": [
        "Obtener filas con `Status = 'District'`"
      ]
    },
    {
      "cell_type": "code",
      "metadata": {
        "id": "7AHixwF7I2aX"
      },
      "source": [
        "population_data = population_data.loc[population_data['Status'] == 'District']"
      ],
      "execution_count": 15,
      "outputs": []
    },
    {
      "cell_type": "code",
      "metadata": {
        "id": "-B-eonw9Kqhb",
        "outputId": "8d633b1f-8f54-4103-d8bd-b97ce503327a",
        "colab": {
          "base_uri": "https://localhost:8080/",
          "height": 204
        }
      },
      "source": [
        "population_data.head()"
      ],
      "execution_count": 16,
      "outputs": [
        {
          "output_type": "execute_result",
          "data": {
            "text/html": [
              "<div>\n",
              "<style scoped>\n",
              "    .dataframe tbody tr th:only-of-type {\n",
              "        vertical-align: middle;\n",
              "    }\n",
              "\n",
              "    .dataframe tbody tr th {\n",
              "        vertical-align: top;\n",
              "    }\n",
              "\n",
              "    .dataframe thead th {\n",
              "        text-align: right;\n",
              "    }\n",
              "</style>\n",
              "<table border=\"1\" class=\"dataframe\">\n",
              "  <thead>\n",
              "    <tr style=\"text-align: right;\">\n",
              "      <th></th>\n",
              "      <th>Name</th>\n",
              "      <th>Status</th>\n",
              "      <th>Population</th>\n",
              "    </tr>\n",
              "  </thead>\n",
              "  <tbody>\n",
              "    <tr>\n",
              "      <th>0</th>\n",
              "      <td>Achām [Achham]</td>\n",
              "      <td>District</td>\n",
              "      <td>257477</td>\n",
              "    </tr>\n",
              "    <tr>\n",
              "      <th>12</th>\n",
              "      <td>Arghākhāncī [Arghakhanchi]</td>\n",
              "      <td>District</td>\n",
              "      <td>197632</td>\n",
              "    </tr>\n",
              "    <tr>\n",
              "      <th>19</th>\n",
              "      <td>Bāgluṅ [Baglung]</td>\n",
              "      <td>District</td>\n",
              "      <td>268613</td>\n",
              "    </tr>\n",
              "    <tr>\n",
              "      <th>31</th>\n",
              "      <td>Baitaḍī [Baitadi]</td>\n",
              "      <td>District</td>\n",
              "      <td>250898</td>\n",
              "    </tr>\n",
              "    <tr>\n",
              "      <th>42</th>\n",
              "      <td>Bajhāṅ [Bajhang]</td>\n",
              "      <td>District</td>\n",
              "      <td>195159</td>\n",
              "    </tr>\n",
              "  </tbody>\n",
              "</table>\n",
              "</div>"
            ],
            "text/plain": [
              "                          Name    Status  Population\n",
              "0               Achām [Achham]  District      257477\n",
              "12  Arghākhāncī [Arghakhanchi]  District      197632\n",
              "19            Bāgluṅ [Baglung]  District      268613\n",
              "31           Baitaḍī [Baitadi]  District      250898\n",
              "42            Bajhāṅ [Bajhang]  District      195159"
            ]
          },
          "metadata": {
            "tags": []
          },
          "execution_count": 16
        }
      ]
    },
    {
      "cell_type": "markdown",
      "metadata": {
        "id": "lpqYPSHSL0ob"
      },
      "source": [
        "Crear una columna vacía para poder extraer los nombres de los distritos que se encuentran entre corchetes en los valores de `Name`."
      ]
    },
    {
      "cell_type": "code",
      "metadata": {
        "id": "P1YNIAOOKqtl"
      },
      "source": [
        "population_data['Districts2'] = ''"
      ],
      "execution_count": 17,
      "outputs": []
    },
    {
      "cell_type": "code",
      "metadata": {
        "id": "v6-Jd6QwLm9C",
        "outputId": "ef344a55-5572-452f-ef27-1c10b63081bf",
        "colab": {
          "base_uri": "https://localhost:8080/",
          "height": 204
        }
      },
      "source": [
        "population_data.head()"
      ],
      "execution_count": 18,
      "outputs": [
        {
          "output_type": "execute_result",
          "data": {
            "text/html": [
              "<div>\n",
              "<style scoped>\n",
              "    .dataframe tbody tr th:only-of-type {\n",
              "        vertical-align: middle;\n",
              "    }\n",
              "\n",
              "    .dataframe tbody tr th {\n",
              "        vertical-align: top;\n",
              "    }\n",
              "\n",
              "    .dataframe thead th {\n",
              "        text-align: right;\n",
              "    }\n",
              "</style>\n",
              "<table border=\"1\" class=\"dataframe\">\n",
              "  <thead>\n",
              "    <tr style=\"text-align: right;\">\n",
              "      <th></th>\n",
              "      <th>Name</th>\n",
              "      <th>Status</th>\n",
              "      <th>Population</th>\n",
              "      <th>Districts2</th>\n",
              "    </tr>\n",
              "  </thead>\n",
              "  <tbody>\n",
              "    <tr>\n",
              "      <th>0</th>\n",
              "      <td>Achām [Achham]</td>\n",
              "      <td>District</td>\n",
              "      <td>257477</td>\n",
              "      <td></td>\n",
              "    </tr>\n",
              "    <tr>\n",
              "      <th>12</th>\n",
              "      <td>Arghākhāncī [Arghakhanchi]</td>\n",
              "      <td>District</td>\n",
              "      <td>197632</td>\n",
              "      <td></td>\n",
              "    </tr>\n",
              "    <tr>\n",
              "      <th>19</th>\n",
              "      <td>Bāgluṅ [Baglung]</td>\n",
              "      <td>District</td>\n",
              "      <td>268613</td>\n",
              "      <td></td>\n",
              "    </tr>\n",
              "    <tr>\n",
              "      <th>31</th>\n",
              "      <td>Baitaḍī [Baitadi]</td>\n",
              "      <td>District</td>\n",
              "      <td>250898</td>\n",
              "      <td></td>\n",
              "    </tr>\n",
              "    <tr>\n",
              "      <th>42</th>\n",
              "      <td>Bajhāṅ [Bajhang]</td>\n",
              "      <td>District</td>\n",
              "      <td>195159</td>\n",
              "      <td></td>\n",
              "    </tr>\n",
              "  </tbody>\n",
              "</table>\n",
              "</div>"
            ],
            "text/plain": [
              "                          Name    Status  Population Districts2\n",
              "0               Achām [Achham]  District      257477           \n",
              "12  Arghākhāncī [Arghakhanchi]  District      197632           \n",
              "19            Bāgluṅ [Baglung]  District      268613           \n",
              "31           Baitaḍī [Baitadi]  District      250898           \n",
              "42            Bajhāṅ [Bajhang]  District      195159           "
            ]
          },
          "metadata": {
            "tags": []
          },
          "execution_count": 18
        }
      ]
    },
    {
      "cell_type": "markdown",
      "metadata": {
        "id": "ZilaL1x_MzdA"
      },
      "source": [
        "Bucle para extraer los nombres en inglés de los distritos de la variable `Name`."
      ]
    },
    {
      "cell_type": "code",
      "metadata": {
        "id": "258W3afKL-sf"
      },
      "source": [
        "for index, row in population_data.iterrows():\n",
        "    if '[' and ']' in row['Name'] :\n",
        "        start_index = row['Name'].find('[')\n",
        "        end_index = row['Name'].find(']')\n",
        "        population_data.loc[index, 'Districts2'] = population_data.loc[index]['Name'][start_index + 1:end_index]\n",
        "    else:\n",
        "        population_data.loc[index, 'Districts2'] = population_data.loc[index]['Name']"
      ],
      "execution_count": 19,
      "outputs": []
    },
    {
      "cell_type": "code",
      "metadata": {
        "id": "i8H9AgLJPKg1",
        "outputId": "841a4b5e-ab73-44ca-ee11-f3fb965f0c83",
        "colab": {
          "base_uri": "https://localhost:8080/",
          "height": 204
        }
      },
      "source": [
        "population_data.head()"
      ],
      "execution_count": 20,
      "outputs": [
        {
          "output_type": "execute_result",
          "data": {
            "text/html": [
              "<div>\n",
              "<style scoped>\n",
              "    .dataframe tbody tr th:only-of-type {\n",
              "        vertical-align: middle;\n",
              "    }\n",
              "\n",
              "    .dataframe tbody tr th {\n",
              "        vertical-align: top;\n",
              "    }\n",
              "\n",
              "    .dataframe thead th {\n",
              "        text-align: right;\n",
              "    }\n",
              "</style>\n",
              "<table border=\"1\" class=\"dataframe\">\n",
              "  <thead>\n",
              "    <tr style=\"text-align: right;\">\n",
              "      <th></th>\n",
              "      <th>Name</th>\n",
              "      <th>Status</th>\n",
              "      <th>Population</th>\n",
              "      <th>Districts2</th>\n",
              "    </tr>\n",
              "  </thead>\n",
              "  <tbody>\n",
              "    <tr>\n",
              "      <th>0</th>\n",
              "      <td>Achām [Achham]</td>\n",
              "      <td>District</td>\n",
              "      <td>257477</td>\n",
              "      <td>Achham</td>\n",
              "    </tr>\n",
              "    <tr>\n",
              "      <th>12</th>\n",
              "      <td>Arghākhāncī [Arghakhanchi]</td>\n",
              "      <td>District</td>\n",
              "      <td>197632</td>\n",
              "      <td>Arghakhanchi</td>\n",
              "    </tr>\n",
              "    <tr>\n",
              "      <th>19</th>\n",
              "      <td>Bāgluṅ [Baglung]</td>\n",
              "      <td>District</td>\n",
              "      <td>268613</td>\n",
              "      <td>Baglung</td>\n",
              "    </tr>\n",
              "    <tr>\n",
              "      <th>31</th>\n",
              "      <td>Baitaḍī [Baitadi]</td>\n",
              "      <td>District</td>\n",
              "      <td>250898</td>\n",
              "      <td>Baitadi</td>\n",
              "    </tr>\n",
              "    <tr>\n",
              "      <th>42</th>\n",
              "      <td>Bajhāṅ [Bajhang]</td>\n",
              "      <td>District</td>\n",
              "      <td>195159</td>\n",
              "      <td>Bajhang</td>\n",
              "    </tr>\n",
              "  </tbody>\n",
              "</table>\n",
              "</div>"
            ],
            "text/plain": [
              "                          Name    Status  Population    Districts2\n",
              "0               Achām [Achham]  District      257477        Achham\n",
              "12  Arghākhāncī [Arghakhanchi]  District      197632  Arghakhanchi\n",
              "19            Bāgluṅ [Baglung]  District      268613       Baglung\n",
              "31           Baitaḍī [Baitadi]  District      250898       Baitadi\n",
              "42            Bajhāṅ [Bajhang]  District      195159       Bajhang"
            ]
          },
          "metadata": {
            "tags": []
          },
          "execution_count": 20
        }
      ]
    },
    {
      "cell_type": "markdown",
      "metadata": {
        "id": "MXR_HIMIPZyp"
      },
      "source": [
        "Del resultado generado solo es necesario la variable `Population` y `Districts2`."
      ]
    },
    {
      "cell_type": "code",
      "metadata": {
        "id": "iymN2ABPPL9n"
      },
      "source": [
        "# Extraer las variables que se requiere\n",
        "population_data = population_data[['Population', 'Districts2']]\n",
        "# Renombras las variables\n",
        "population_data.rename(\n",
        "    columns = {\n",
        "        'Districts2' : 'District'\n",
        "    },\n",
        "    inplace = True\n",
        ")"
      ],
      "execution_count": 21,
      "outputs": []
    },
    {
      "cell_type": "code",
      "metadata": {
        "id": "9vKxklkuPwhq",
        "outputId": "d4e25ba9-3815-4419-cfc7-54e174c8c456",
        "colab": {
          "base_uri": "https://localhost:8080/",
          "height": 419
        }
      },
      "source": [
        "population_data"
      ],
      "execution_count": 22,
      "outputs": [
        {
          "output_type": "execute_result",
          "data": {
            "text/html": [
              "<div>\n",
              "<style scoped>\n",
              "    .dataframe tbody tr th:only-of-type {\n",
              "        vertical-align: middle;\n",
              "    }\n",
              "\n",
              "    .dataframe tbody tr th {\n",
              "        vertical-align: top;\n",
              "    }\n",
              "\n",
              "    .dataframe thead th {\n",
              "        text-align: right;\n",
              "    }\n",
              "</style>\n",
              "<table border=\"1\" class=\"dataframe\">\n",
              "  <thead>\n",
              "    <tr style=\"text-align: right;\">\n",
              "      <th></th>\n",
              "      <th>Population</th>\n",
              "      <th>District</th>\n",
              "    </tr>\n",
              "  </thead>\n",
              "  <tbody>\n",
              "    <tr>\n",
              "      <th>0</th>\n",
              "      <td>257477</td>\n",
              "      <td>Achham</td>\n",
              "    </tr>\n",
              "    <tr>\n",
              "      <th>12</th>\n",
              "      <td>197632</td>\n",
              "      <td>Arghakhanchi</td>\n",
              "    </tr>\n",
              "    <tr>\n",
              "      <th>19</th>\n",
              "      <td>268613</td>\n",
              "      <td>Baglung</td>\n",
              "    </tr>\n",
              "    <tr>\n",
              "      <th>31</th>\n",
              "      <td>250898</td>\n",
              "      <td>Baitadi</td>\n",
              "    </tr>\n",
              "    <tr>\n",
              "      <th>42</th>\n",
              "      <td>195159</td>\n",
              "      <td>Bajhang</td>\n",
              "    </tr>\n",
              "    <tr>\n",
              "      <th>...</th>\n",
              "      <td>...</td>\n",
              "      <td>...</td>\n",
              "    </tr>\n",
              "    <tr>\n",
              "      <th>800</th>\n",
              "      <td>289148</td>\n",
              "      <td>Syangja</td>\n",
              "    </tr>\n",
              "    <tr>\n",
              "      <th>812</th>\n",
              "      <td>323288</td>\n",
              "      <td>Tanahun</td>\n",
              "    </tr>\n",
              "    <tr>\n",
              "      <th>823</th>\n",
              "      <td>127461</td>\n",
              "      <td>Taplejung</td>\n",
              "    </tr>\n",
              "    <tr>\n",
              "      <th>833</th>\n",
              "      <td>101577</td>\n",
              "      <td>Tehrathum</td>\n",
              "    </tr>\n",
              "    <tr>\n",
              "      <th>840</th>\n",
              "      <td>317532</td>\n",
              "      <td>Udayapur</td>\n",
              "    </tr>\n",
              "  </tbody>\n",
              "</table>\n",
              "<p>77 rows × 2 columns</p>\n",
              "</div>"
            ],
            "text/plain": [
              "     Population      District\n",
              "0        257477        Achham\n",
              "12       197632  Arghakhanchi\n",
              "19       268613       Baglung\n",
              "31       250898       Baitadi\n",
              "42       195159       Bajhang\n",
              "..          ...           ...\n",
              "800      289148       Syangja\n",
              "812      323288       Tanahun\n",
              "823      127461     Taplejung\n",
              "833      101577     Tehrathum\n",
              "840      317532      Udayapur\n",
              "\n",
              "[77 rows x 2 columns]"
            ]
          },
          "metadata": {
            "tags": []
          },
          "execution_count": 22
        }
      ]
    },
    {
      "cell_type": "markdown",
      "metadata": {
        "id": "j8_jFDOxUNli"
      },
      "source": [
        "## 2.6 Obtener los shapefile necesarios"
      ]
    },
    {
      "cell_type": "markdown",
      "metadata": {
        "id": "RiuhtjlZU4Nd"
      },
      "source": [
        "Descagar los shapefiles directamente."
      ]
    },
    {
      "cell_type": "code",
      "metadata": {
        "id": "tYuihdB_Pwkp"
      },
      "source": [
        "# Directorio donde se almacenará los shapefiles\n",
        "! mkdir data/"
      ],
      "execution_count": 23,
      "outputs": []
    },
    {
      "cell_type": "markdown",
      "metadata": {
        "id": "xrHVeToCVn5O"
      },
      "source": [
        "¿Cómo descargar archivos de un zip desde una url?\n",
        "\n",
        "https://stackoverflow.com/questions/9419162/download-returned-zip-file-from-url"
      ]
    },
    {
      "cell_type": "code",
      "metadata": {
        "id": "J71rPUSdQZ-D"
      },
      "source": [
        "import requests, zipfile, io\n",
        "r = requests.get(\"http://biogeo.ucdavis.edu/data/diva/adm/NPL_adm.zip\")\n",
        "z = zipfile.ZipFile(io.BytesIO(r.content))\n",
        "z.extractall(\"data\")"
      ],
      "execution_count": 24,
      "outputs": []
    },
    {
      "cell_type": "markdown",
      "metadata": {
        "id": "qpyWvPFVVuS4"
      },
      "source": [
        "## 2.7 Leer los shapefiles"
      ]
    },
    {
      "cell_type": "code",
      "metadata": {
        "id": "MYRuot2RQaBI"
      },
      "source": [
        "# Shapefile de los distritos de Nepal\n",
        "nep_districts = gpd.read_file(r'data/NPL_adm3.shp')"
      ],
      "execution_count": 25,
      "outputs": []
    },
    {
      "cell_type": "code",
      "metadata": {
        "id": "XupFlrV4X1WF",
        "outputId": "5242edbe-97e6-4be2-a652-fe5964ad6513",
        "colab": {
          "base_uri": "https://localhost:8080/",
          "height": 1000
        }
      },
      "source": [
        "nep_districts"
      ],
      "execution_count": 26,
      "outputs": [
        {
          "output_type": "execute_result",
          "data": {
            "text/html": [
              "<div>\n",
              "<style scoped>\n",
              "    .dataframe tbody tr th:only-of-type {\n",
              "        vertical-align: middle;\n",
              "    }\n",
              "\n",
              "    .dataframe tbody tr th {\n",
              "        vertical-align: top;\n",
              "    }\n",
              "\n",
              "    .dataframe thead th {\n",
              "        text-align: right;\n",
              "    }\n",
              "</style>\n",
              "<table border=\"1\" class=\"dataframe\">\n",
              "  <thead>\n",
              "    <tr style=\"text-align: right;\">\n",
              "      <th></th>\n",
              "      <th>ID_0</th>\n",
              "      <th>ISO</th>\n",
              "      <th>NAME_0</th>\n",
              "      <th>ID_1</th>\n",
              "      <th>NAME_1</th>\n",
              "      <th>ID_2</th>\n",
              "      <th>NAME_2</th>\n",
              "      <th>ID_3</th>\n",
              "      <th>NAME_3</th>\n",
              "      <th>TYPE_3</th>\n",
              "      <th>ENGTYPE_3</th>\n",
              "      <th>NL_NAME_3</th>\n",
              "      <th>VARNAME_3</th>\n",
              "      <th>geometry</th>\n",
              "    </tr>\n",
              "  </thead>\n",
              "  <tbody>\n",
              "    <tr>\n",
              "      <th>0</th>\n",
              "      <td>157</td>\n",
              "      <td>NPL</td>\n",
              "      <td>Nepal</td>\n",
              "      <td>1</td>\n",
              "      <td>Central</td>\n",
              "      <td>1</td>\n",
              "      <td>Bagmati</td>\n",
              "      <td>1</td>\n",
              "      <td>Bhaktapur</td>\n",
              "      <td>Jilla</td>\n",
              "      <td>District</td>\n",
              "      <td>None</td>\n",
              "      <td>Bhadgaon| Khwopa|Bhaktapur Jilla</td>\n",
              "      <td>POLYGON ((85.52173 27.71822, 85.52359 27.71375...</td>\n",
              "    </tr>\n",
              "    <tr>\n",
              "      <th>1</th>\n",
              "      <td>157</td>\n",
              "      <td>NPL</td>\n",
              "      <td>Nepal</td>\n",
              "      <td>1</td>\n",
              "      <td>Central</td>\n",
              "      <td>1</td>\n",
              "      <td>Bagmati</td>\n",
              "      <td>2</td>\n",
              "      <td>Dhading</td>\n",
              "      <td>Jilla</td>\n",
              "      <td>District</td>\n",
              "      <td>None</td>\n",
              "      <td>None</td>\n",
              "      <td>POLYGON ((85.11038 28.34680, 85.11222 28.34392...</td>\n",
              "    </tr>\n",
              "    <tr>\n",
              "      <th>2</th>\n",
              "      <td>157</td>\n",
              "      <td>NPL</td>\n",
              "      <td>Nepal</td>\n",
              "      <td>1</td>\n",
              "      <td>Central</td>\n",
              "      <td>1</td>\n",
              "      <td>Bagmati</td>\n",
              "      <td>3</td>\n",
              "      <td>Kathmandu</td>\n",
              "      <td>Jilla</td>\n",
              "      <td>District</td>\n",
              "      <td>None</td>\n",
              "      <td>KTM</td>\n",
              "      <td>POLYGON ((85.45375 27.81118, 85.45537 27.80906...</td>\n",
              "    </tr>\n",
              "    <tr>\n",
              "      <th>3</th>\n",
              "      <td>157</td>\n",
              "      <td>NPL</td>\n",
              "      <td>Nepal</td>\n",
              "      <td>1</td>\n",
              "      <td>Central</td>\n",
              "      <td>1</td>\n",
              "      <td>Bagmati</td>\n",
              "      <td>4</td>\n",
              "      <td>Kavrepalanchok</td>\n",
              "      <td>Jilla</td>\n",
              "      <td>District</td>\n",
              "      <td>None</td>\n",
              "      <td>Kavrepalanchowk, Kavreplanchok</td>\n",
              "      <td>POLYGON ((85.55230 27.75662, 85.55180 27.75426...</td>\n",
              "    </tr>\n",
              "    <tr>\n",
              "      <th>4</th>\n",
              "      <td>157</td>\n",
              "      <td>NPL</td>\n",
              "      <td>Nepal</td>\n",
              "      <td>1</td>\n",
              "      <td>Central</td>\n",
              "      <td>1</td>\n",
              "      <td>Bagmati</td>\n",
              "      <td>5</td>\n",
              "      <td>Lalitpur</td>\n",
              "      <td>Jilla</td>\n",
              "      <td>District</td>\n",
              "      <td>None</td>\n",
              "      <td>Patan</td>\n",
              "      <td>POLYGON ((85.34588 27.67149, 85.35433 27.66776...</td>\n",
              "    </tr>\n",
              "    <tr>\n",
              "      <th>...</th>\n",
              "      <td>...</td>\n",
              "      <td>...</td>\n",
              "      <td>...</td>\n",
              "      <td>...</td>\n",
              "      <td>...</td>\n",
              "      <td>...</td>\n",
              "      <td>...</td>\n",
              "      <td>...</td>\n",
              "      <td>...</td>\n",
              "      <td>...</td>\n",
              "      <td>...</td>\n",
              "      <td>...</td>\n",
              "      <td>...</td>\n",
              "      <td>...</td>\n",
              "    </tr>\n",
              "    <tr>\n",
              "      <th>70</th>\n",
              "      <td>157</td>\n",
              "      <td>NPL</td>\n",
              "      <td>Nepal</td>\n",
              "      <td>5</td>\n",
              "      <td>West</td>\n",
              "      <td>14</td>\n",
              "      <td>Lumbini</td>\n",
              "      <td>71</td>\n",
              "      <td>Gulmi</td>\n",
              "      <td>Jilla</td>\n",
              "      <td>District</td>\n",
              "      <td>None</td>\n",
              "      <td>None</td>\n",
              "      <td>POLYGON ((83.19185 28.26453, 83.20638 28.25558...</td>\n",
              "    </tr>\n",
              "    <tr>\n",
              "      <th>71</th>\n",
              "      <td>157</td>\n",
              "      <td>NPL</td>\n",
              "      <td>Nepal</td>\n",
              "      <td>5</td>\n",
              "      <td>West</td>\n",
              "      <td>14</td>\n",
              "      <td>Lumbini</td>\n",
              "      <td>72</td>\n",
              "      <td>Kapilbastu</td>\n",
              "      <td>None</td>\n",
              "      <td>None</td>\n",
              "      <td>None</td>\n",
              "      <td>None</td>\n",
              "      <td>POLYGON ((83.03501 27.79316, 83.03489 27.78359...</td>\n",
              "    </tr>\n",
              "    <tr>\n",
              "      <th>72</th>\n",
              "      <td>157</td>\n",
              "      <td>NPL</td>\n",
              "      <td>Nepal</td>\n",
              "      <td>5</td>\n",
              "      <td>West</td>\n",
              "      <td>14</td>\n",
              "      <td>Lumbini</td>\n",
              "      <td>73</td>\n",
              "      <td>Nawalparasi</td>\n",
              "      <td>Jilla</td>\n",
              "      <td>District</td>\n",
              "      <td>None</td>\n",
              "      <td>None</td>\n",
              "      <td>POLYGON ((84.10302 27.86387, 84.09755 27.85927...</td>\n",
              "    </tr>\n",
              "    <tr>\n",
              "      <th>73</th>\n",
              "      <td>157</td>\n",
              "      <td>NPL</td>\n",
              "      <td>Nepal</td>\n",
              "      <td>5</td>\n",
              "      <td>West</td>\n",
              "      <td>14</td>\n",
              "      <td>Lumbini</td>\n",
              "      <td>74</td>\n",
              "      <td>Palpa</td>\n",
              "      <td>Jilla</td>\n",
              "      <td>District</td>\n",
              "      <td>None</td>\n",
              "      <td>None</td>\n",
              "      <td>POLYGON ((83.37988 27.95869, 83.37875 27.95583...</td>\n",
              "    </tr>\n",
              "    <tr>\n",
              "      <th>74</th>\n",
              "      <td>157</td>\n",
              "      <td>NPL</td>\n",
              "      <td>Nepal</td>\n",
              "      <td>5</td>\n",
              "      <td>West</td>\n",
              "      <td>14</td>\n",
              "      <td>Lumbini</td>\n",
              "      <td>75</td>\n",
              "      <td>Rupandehi</td>\n",
              "      <td>Jilla</td>\n",
              "      <td>District</td>\n",
              "      <td>None</td>\n",
              "      <td>None</td>\n",
              "      <td>POLYGON ((83.30704 27.76594, 83.31587 27.76234...</td>\n",
              "    </tr>\n",
              "  </tbody>\n",
              "</table>\n",
              "<p>75 rows × 14 columns</p>\n",
              "</div>"
            ],
            "text/plain": [
              "    ID_0  ...                                           geometry\n",
              "0    157  ...  POLYGON ((85.52173 27.71822, 85.52359 27.71375...\n",
              "1    157  ...  POLYGON ((85.11038 28.34680, 85.11222 28.34392...\n",
              "2    157  ...  POLYGON ((85.45375 27.81118, 85.45537 27.80906...\n",
              "3    157  ...  POLYGON ((85.55230 27.75662, 85.55180 27.75426...\n",
              "4    157  ...  POLYGON ((85.34588 27.67149, 85.35433 27.66776...\n",
              "..   ...  ...                                                ...\n",
              "70   157  ...  POLYGON ((83.19185 28.26453, 83.20638 28.25558...\n",
              "71   157  ...  POLYGON ((83.03501 27.79316, 83.03489 27.78359...\n",
              "72   157  ...  POLYGON ((84.10302 27.86387, 84.09755 27.85927...\n",
              "73   157  ...  POLYGON ((83.37988 27.95869, 83.37875 27.95583...\n",
              "74   157  ...  POLYGON ((83.30704 27.76594, 83.31587 27.76234...\n",
              "\n",
              "[75 rows x 14 columns]"
            ]
          },
          "metadata": {
            "tags": []
          },
          "execution_count": 26
        }
      ]
    },
    {
      "cell_type": "code",
      "metadata": {
        "id": "SAVr-IgDQaIg",
        "outputId": "7ce2aa8b-3298-4d5b-adbc-ed873095b474",
        "colab": {
          "base_uri": "https://localhost:8080/",
          "height": 500
        }
      },
      "source": [
        "# Visualización del shapefile\n",
        "nep_districts.plot(\n",
        "    # Cambiar el tamaño del gráfico\n",
        "    figsize = (16,8)\n",
        ")"
      ],
      "execution_count": 27,
      "outputs": [
        {
          "output_type": "execute_result",
          "data": {
            "text/plain": [
              "<matplotlib.axes._subplots.AxesSubplot at 0x7f012f8dff98>"
            ]
          },
          "metadata": {
            "tags": []
          },
          "execution_count": 27
        },
        {
          "output_type": "display_data",
          "data": {
            "image/png": "[encoded data removed]",
            "text/plain": [
              "<Figure size 1152x576 with 1 Axes>"
            ]
          },
          "metadata": {
            "tags": [],
            "needs_background": "light"
          }
        }
      ]
    },
    {
      "cell_type": "markdown",
      "metadata": {
        "id": "hE2cf_DPYC9D"
      },
      "source": [
        "## 2.8 Procesar los shapefiles"
      ]
    },
    {
      "cell_type": "markdown",
      "metadata": {
        "id": "UeWiOlSvYLi2"
      },
      "source": [
        "De las variables del shapefile, se requieren principalmente de `NAME_3` y `geometry`. El primero para relacionarlo con la variable que guarda los valores de población por distrito; el segundo, tiene los polígonos de los distrito de Nepal."
      ]
    },
    {
      "cell_type": "code",
      "metadata": {
        "id": "ZLjiqARdWZfI"
      },
      "source": [
        "nep_districts = nep_districts[['NAME_3', 'geometry']]"
      ],
      "execution_count": 28,
      "outputs": []
    },
    {
      "cell_type": "code",
      "metadata": {
        "id": "Pajd8DJkWZlA",
        "outputId": "b59e5f46-bf59-416b-b97e-15a0c707e547",
        "colab": {
          "base_uri": "https://localhost:8080/",
          "height": 419
        }
      },
      "source": [
        "nep_districts"
      ],
      "execution_count": 29,
      "outputs": [
        {
          "output_type": "execute_result",
          "data": {
            "text/html": [
              "<div>\n",
              "<style scoped>\n",
              "    .dataframe tbody tr th:only-of-type {\n",
              "        vertical-align: middle;\n",
              "    }\n",
              "\n",
              "    .dataframe tbody tr th {\n",
              "        vertical-align: top;\n",
              "    }\n",
              "\n",
              "    .dataframe thead th {\n",
              "        text-align: right;\n",
              "    }\n",
              "</style>\n",
              "<table border=\"1\" class=\"dataframe\">\n",
              "  <thead>\n",
              "    <tr style=\"text-align: right;\">\n",
              "      <th></th>\n",
              "      <th>NAME_3</th>\n",
              "      <th>geometry</th>\n",
              "    </tr>\n",
              "  </thead>\n",
              "  <tbody>\n",
              "    <tr>\n",
              "      <th>0</th>\n",
              "      <td>Bhaktapur</td>\n",
              "      <td>POLYGON ((85.52173 27.71822, 85.52359 27.71375...</td>\n",
              "    </tr>\n",
              "    <tr>\n",
              "      <th>1</th>\n",
              "      <td>Dhading</td>\n",
              "      <td>POLYGON ((85.11038 28.34680, 85.11222 28.34392...</td>\n",
              "    </tr>\n",
              "    <tr>\n",
              "      <th>2</th>\n",
              "      <td>Kathmandu</td>\n",
              "      <td>POLYGON ((85.45375 27.81118, 85.45537 27.80906...</td>\n",
              "    </tr>\n",
              "    <tr>\n",
              "      <th>3</th>\n",
              "      <td>Kavrepalanchok</td>\n",
              "      <td>POLYGON ((85.55230 27.75662, 85.55180 27.75426...</td>\n",
              "    </tr>\n",
              "    <tr>\n",
              "      <th>4</th>\n",
              "      <td>Lalitpur</td>\n",
              "      <td>POLYGON ((85.34588 27.67149, 85.35433 27.66776...</td>\n",
              "    </tr>\n",
              "    <tr>\n",
              "      <th>...</th>\n",
              "      <td>...</td>\n",
              "      <td>...</td>\n",
              "    </tr>\n",
              "    <tr>\n",
              "      <th>70</th>\n",
              "      <td>Gulmi</td>\n",
              "      <td>POLYGON ((83.19185 28.26453, 83.20638 28.25558...</td>\n",
              "    </tr>\n",
              "    <tr>\n",
              "      <th>71</th>\n",
              "      <td>Kapilbastu</td>\n",
              "      <td>POLYGON ((83.03501 27.79316, 83.03489 27.78359...</td>\n",
              "    </tr>\n",
              "    <tr>\n",
              "      <th>72</th>\n",
              "      <td>Nawalparasi</td>\n",
              "      <td>POLYGON ((84.10302 27.86387, 84.09755 27.85927...</td>\n",
              "    </tr>\n",
              "    <tr>\n",
              "      <th>73</th>\n",
              "      <td>Palpa</td>\n",
              "      <td>POLYGON ((83.37988 27.95869, 83.37875 27.95583...</td>\n",
              "    </tr>\n",
              "    <tr>\n",
              "      <th>74</th>\n",
              "      <td>Rupandehi</td>\n",
              "      <td>POLYGON ((83.30704 27.76594, 83.31587 27.76234...</td>\n",
              "    </tr>\n",
              "  </tbody>\n",
              "</table>\n",
              "<p>75 rows × 2 columns</p>\n",
              "</div>"
            ],
            "text/plain": [
              "            NAME_3                                           geometry\n",
              "0        Bhaktapur  POLYGON ((85.52173 27.71822, 85.52359 27.71375...\n",
              "1          Dhading  POLYGON ((85.11038 28.34680, 85.11222 28.34392...\n",
              "2        Kathmandu  POLYGON ((85.45375 27.81118, 85.45537 27.80906...\n",
              "3   Kavrepalanchok  POLYGON ((85.55230 27.75662, 85.55180 27.75426...\n",
              "4         Lalitpur  POLYGON ((85.34588 27.67149, 85.35433 27.66776...\n",
              "..             ...                                                ...\n",
              "70           Gulmi  POLYGON ((83.19185 28.26453, 83.20638 28.25558...\n",
              "71      Kapilbastu  POLYGON ((83.03501 27.79316, 83.03489 27.78359...\n",
              "72     Nawalparasi  POLYGON ((84.10302 27.86387, 84.09755 27.85927...\n",
              "73           Palpa  POLYGON ((83.37988 27.95869, 83.37875 27.95583...\n",
              "74       Rupandehi  POLYGON ((83.30704 27.76594, 83.31587 27.76234...\n",
              "\n",
              "[75 rows x 2 columns]"
            ]
          },
          "metadata": {
            "tags": []
          },
          "execution_count": 29
        }
      ]
    },
    {
      "cell_type": "markdown",
      "metadata": {
        "id": "Ry05jgkHZLOR"
      },
      "source": [
        "Renombras las variables."
      ]
    },
    {
      "cell_type": "code",
      "metadata": {
        "id": "odHsRfdiWZpi",
        "outputId": "ddff3813-c59e-45a3-d64b-3d61d2ef4b0b",
        "colab": {
          "base_uri": "https://localhost:8080/"
        }
      },
      "source": [
        "# Renombras las variables\n",
        "nep_districts.rename(\n",
        "    columns = {\n",
        "        'NAME_3' : 'District'\n",
        "    },\n",
        "    inplace = True\n",
        ")"
      ],
      "execution_count": 30,
      "outputs": [
        {
          "output_type": "stream",
          "text": [
            "/usr/local/lib/python3.6/dist-packages/pandas/core/frame.py:4304: SettingWithCopyWarning: \n",
            "A value is trying to be set on a copy of a slice from a DataFrame\n",
            "\n",
            "See the caveats in the documentation: https://pandas.pydata.org/pandas-docs/stable/user_guide/indexing.html#returning-a-view-versus-a-copy\n",
            "  errors=errors,\n"
          ],
          "name": "stderr"
        }
      ]
    },
    {
      "cell_type": "code",
      "metadata": {
        "id": "qO_M7minY-ih",
        "outputId": "4956f5f8-bf8b-497d-e046-a065ec8e60c0",
        "colab": {
          "base_uri": "https://localhost:8080/",
          "height": 419
        }
      },
      "source": [
        "nep_districts"
      ],
      "execution_count": 31,
      "outputs": [
        {
          "output_type": "execute_result",
          "data": {
            "text/html": [
              "<div>\n",
              "<style scoped>\n",
              "    .dataframe tbody tr th:only-of-type {\n",
              "        vertical-align: middle;\n",
              "    }\n",
              "\n",
              "    .dataframe tbody tr th {\n",
              "        vertical-align: top;\n",
              "    }\n",
              "\n",
              "    .dataframe thead th {\n",
              "        text-align: right;\n",
              "    }\n",
              "</style>\n",
              "<table border=\"1\" class=\"dataframe\">\n",
              "  <thead>\n",
              "    <tr style=\"text-align: right;\">\n",
              "      <th></th>\n",
              "      <th>District</th>\n",
              "      <th>geometry</th>\n",
              "    </tr>\n",
              "  </thead>\n",
              "  <tbody>\n",
              "    <tr>\n",
              "      <th>0</th>\n",
              "      <td>Bhaktapur</td>\n",
              "      <td>POLYGON ((85.52173 27.71822, 85.52359 27.71375...</td>\n",
              "    </tr>\n",
              "    <tr>\n",
              "      <th>1</th>\n",
              "      <td>Dhading</td>\n",
              "      <td>POLYGON ((85.11038 28.34680, 85.11222 28.34392...</td>\n",
              "    </tr>\n",
              "    <tr>\n",
              "      <th>2</th>\n",
              "      <td>Kathmandu</td>\n",
              "      <td>POLYGON ((85.45375 27.81118, 85.45537 27.80906...</td>\n",
              "    </tr>\n",
              "    <tr>\n",
              "      <th>3</th>\n",
              "      <td>Kavrepalanchok</td>\n",
              "      <td>POLYGON ((85.55230 27.75662, 85.55180 27.75426...</td>\n",
              "    </tr>\n",
              "    <tr>\n",
              "      <th>4</th>\n",
              "      <td>Lalitpur</td>\n",
              "      <td>POLYGON ((85.34588 27.67149, 85.35433 27.66776...</td>\n",
              "    </tr>\n",
              "    <tr>\n",
              "      <th>...</th>\n",
              "      <td>...</td>\n",
              "      <td>...</td>\n",
              "    </tr>\n",
              "    <tr>\n",
              "      <th>70</th>\n",
              "      <td>Gulmi</td>\n",
              "      <td>POLYGON ((83.19185 28.26453, 83.20638 28.25558...</td>\n",
              "    </tr>\n",
              "    <tr>\n",
              "      <th>71</th>\n",
              "      <td>Kapilbastu</td>\n",
              "      <td>POLYGON ((83.03501 27.79316, 83.03489 27.78359...</td>\n",
              "    </tr>\n",
              "    <tr>\n",
              "      <th>72</th>\n",
              "      <td>Nawalparasi</td>\n",
              "      <td>POLYGON ((84.10302 27.86387, 84.09755 27.85927...</td>\n",
              "    </tr>\n",
              "    <tr>\n",
              "      <th>73</th>\n",
              "      <td>Palpa</td>\n",
              "      <td>POLYGON ((83.37988 27.95869, 83.37875 27.95583...</td>\n",
              "    </tr>\n",
              "    <tr>\n",
              "      <th>74</th>\n",
              "      <td>Rupandehi</td>\n",
              "      <td>POLYGON ((83.30704 27.76594, 83.31587 27.76234...</td>\n",
              "    </tr>\n",
              "  </tbody>\n",
              "</table>\n",
              "<p>75 rows × 2 columns</p>\n",
              "</div>"
            ],
            "text/plain": [
              "          District                                           geometry\n",
              "0        Bhaktapur  POLYGON ((85.52173 27.71822, 85.52359 27.71375...\n",
              "1          Dhading  POLYGON ((85.11038 28.34680, 85.11222 28.34392...\n",
              "2        Kathmandu  POLYGON ((85.45375 27.81118, 85.45537 27.80906...\n",
              "3   Kavrepalanchok  POLYGON ((85.55230 27.75662, 85.55180 27.75426...\n",
              "4         Lalitpur  POLYGON ((85.34588 27.67149, 85.35433 27.66776...\n",
              "..             ...                                                ...\n",
              "70           Gulmi  POLYGON ((83.19185 28.26453, 83.20638 28.25558...\n",
              "71      Kapilbastu  POLYGON ((83.03501 27.79316, 83.03489 27.78359...\n",
              "72     Nawalparasi  POLYGON ((84.10302 27.86387, 84.09755 27.85927...\n",
              "73           Palpa  POLYGON ((83.37988 27.95869, 83.37875 27.95583...\n",
              "74       Rupandehi  POLYGON ((83.30704 27.76594, 83.31587 27.76234...\n",
              "\n",
              "[75 rows x 2 columns]"
            ]
          },
          "metadata": {
            "tags": []
          },
          "execution_count": 31
        }
      ]
    },
    {
      "cell_type": "markdown",
      "metadata": {
        "id": "qbHXbxg8ZZ9F"
      },
      "source": [
        "### 2.8.1 Reproyectar"
      ]
    },
    {
      "cell_type": "markdown",
      "metadata": {
        "id": "EcuSxSnpZi6y"
      },
      "source": [
        "Antes de reproyectar, se debe conocer en que Sistema de Referencia de Coordenadas (CRS) se encuentra la data."
      ]
    },
    {
      "cell_type": "code",
      "metadata": {
        "id": "oZqtz8muY-qs",
        "outputId": "46a61fdb-58db-4411-983c-63874d690cd1",
        "colab": {
          "base_uri": "https://localhost:8080/"
        }
      },
      "source": [
        "# Ver el CRS\n",
        "nep_districts.crs"
      ],
      "execution_count": 32,
      "outputs": [
        {
          "output_type": "execute_result",
          "data": {
            "text/plain": [
              "<Geographic 2D CRS: EPSG:4326>\n",
              "Name: WGS 84\n",
              "Axis Info [ellipsoidal]:\n",
              "- Lat[north]: Geodetic latitude (degree)\n",
              "- Lon[east]: Geodetic longitude (degree)\n",
              "Area of Use:\n",
              "- name: World\n",
              "- bounds: (-180.0, -90.0, 180.0, 90.0)\n",
              "Datum: World Geodetic System 1984\n",
              "- Ellipsoid: WGS 84\n",
              "- Prime Meridian: Greenwich"
            ]
          },
          "metadata": {
            "tags": []
          },
          "execution_count": 32
        }
      ]
    },
    {
      "cell_type": "markdown",
      "metadata": {
        "id": "s0udrschaRaG"
      },
      "source": [
        "Se debe buscar un CRS adecuado para la zona de Nepal. Uno de ellos es EPSG: 32645. https://epsg.io/32645"
      ]
    },
    {
      "cell_type": "code",
      "metadata": {
        "id": "yiH40-arY-on",
        "outputId": "1186c4b3-f2dc-48fd-d105-a876dcd448e7",
        "colab": {
          "base_uri": "https://localhost:8080/"
        }
      },
      "source": [
        "# Reproyectar con EPSG: 32645\n",
        "nep_districts.to_crs(epsg=32645, inplace = True)"
      ],
      "execution_count": 33,
      "outputs": [
        {
          "output_type": "stream",
          "text": [
            "/usr/local/lib/python3.6/dist-packages/geopandas/geodataframe.py:853: SettingWithCopyWarning: \n",
            "A value is trying to be set on a copy of a slice from a DataFrame.\n",
            "Try using .loc[row_indexer,col_indexer] = value instead\n",
            "\n",
            "See the caveats in the documentation: https://pandas.pydata.org/pandas-docs/stable/user_guide/indexing.html#returning-a-view-versus-a-copy\n",
            "  super(GeoDataFrame, self).__setitem__(key, value)\n"
          ],
          "name": "stderr"
        }
      ]
    },
    {
      "cell_type": "code",
      "metadata": {
        "id": "0asH7_puY-m2",
        "outputId": "31463c6d-002a-44f5-a5e5-f206ef37d324",
        "colab": {
          "base_uri": "https://localhost:8080/"
        }
      },
      "source": [
        "# Ver el CRS\n",
        "nep_districts.crs"
      ],
      "execution_count": 34,
      "outputs": [
        {
          "output_type": "execute_result",
          "data": {
            "text/plain": [
              "<Projected CRS: EPSG:32645>\n",
              "Name: WGS 84 / UTM zone 45N\n",
              "Axis Info [cartesian]:\n",
              "- E[east]: Easting (metre)\n",
              "- N[north]: Northing (metre)\n",
              "Area of Use:\n",
              "- name: World - N hemisphere - 84°E to 90°E - by country\n",
              "- bounds: (84.0, 0.0, 90.0, 84.0)\n",
              "Coordinate Operation:\n",
              "- name: UTM zone 45N\n",
              "- method: Transverse Mercator\n",
              "Datum: World Geodetic System 1984\n",
              "- Ellipsoid: WGS 84\n",
              "- Prime Meridian: Greenwich"
            ]
          },
          "metadata": {
            "tags": []
          },
          "execution_count": 34
        }
      ]
    },
    {
      "cell_type": "markdown",
      "metadata": {
        "id": "HFiVMNtqioBg"
      },
      "source": [
        "### 2.8.2 Arreglar los valores"
      ]
    },
    {
      "cell_type": "markdown",
      "metadata": {
        "id": "_-e0NVIsdGWR"
      },
      "source": [
        "Antes de unir la variable `population_data` con `nep_districts` se debe verificar que los nombres de los distritos coincidan."
      ]
    },
    {
      "cell_type": "code",
      "metadata": {
        "id": "g2AxLfFzaW7Q",
        "outputId": "83e59c02-b92d-44bd-f452-c3352ddda692",
        "colab": {
          "base_uri": "https://localhost:8080/"
        }
      },
      "source": [
        "for index, row in nep_districts['District'].iteritems():\n",
        "    if row in population_data['District'].tolist():\n",
        "        pass\n",
        "    else:\n",
        "        print('El distrito ', row , ' no está en variable District de population_data')"
      ],
      "execution_count": 35,
      "outputs": [
        {
          "output_type": "stream",
          "text": [
            "El distrito  Sindhupalchok  no está en variable District de population_data\n",
            "El distrito  Chitawan  no está en variable District de population_data\n",
            "El distrito  Terhathum  no está en variable District de population_data\n",
            "El distrito  Dang  no está en variable District de population_data\n",
            "El distrito  Tanahu  no está en variable District de population_data\n",
            "El distrito  Kapilbastu  no está en variable District de population_data\n"
          ],
          "name": "stdout"
        }
      ]
    },
    {
      "cell_type": "markdown",
      "metadata": {
        "id": "bwF4kp9Cfnrq"
      },
      "source": [
        "Arreglar los nombres de los distritos."
      ]
    },
    {
      "cell_type": "code",
      "metadata": {
        "id": "BOs_BvrmaW97"
      },
      "source": [
        "population_data.replace('Sindhupalchowk', 'Sindhupalchok', inplace = True)\n",
        "population_data.replace('Chitwan', 'Chitawan', inplace = True)\n",
        "population_data.replace('Tehrathum', 'Terhathum', inplace = True)\n",
        "population_data.replace('Dang Deukhuri', 'Dang', inplace = True)\n",
        "population_data.replace('Tanahun', 'Tanahu', inplace = True)\n",
        "population_data.replace('Kapilvastu', 'Kapilbastu', inplace = True)"
      ],
      "execution_count": 36,
      "outputs": []
    },
    {
      "cell_type": "markdown",
      "metadata": {
        "id": "22KATkMqggN5"
      },
      "source": [
        "Crear una nueva columna que almacene las áres de los distritos de Nepal."
      ]
    },
    {
      "cell_type": "code",
      "metadata": {
        "id": "2-VQjyn2fuwo",
        "outputId": "12cc82d7-20dc-4705-ce9b-a8916c69d6f8",
        "colab": {
          "base_uri": "https://localhost:8080/"
        }
      },
      "source": [
        "# Área en km^2\n",
        "nep_districts['area_km2'] = nep_districts.area/1000000"
      ],
      "execution_count": 37,
      "outputs": [
        {
          "output_type": "stream",
          "text": [
            "/usr/local/lib/python3.6/dist-packages/geopandas/geodataframe.py:853: SettingWithCopyWarning: \n",
            "A value is trying to be set on a copy of a slice from a DataFrame.\n",
            "Try using .loc[row_indexer,col_indexer] = value instead\n",
            "\n",
            "See the caveats in the documentation: https://pandas.pydata.org/pandas-docs/stable/user_guide/indexing.html#returning-a-view-versus-a-copy\n",
            "  super(GeoDataFrame, self).__setitem__(key, value)\n"
          ],
          "name": "stderr"
        }
      ]
    },
    {
      "cell_type": "code",
      "metadata": {
        "id": "0GEpoykNge9l",
        "outputId": "ea5c2850-8052-491f-e096-f331c74276b2",
        "colab": {
          "base_uri": "https://localhost:8080/",
          "height": 419
        }
      },
      "source": [
        "nep_districts"
      ],
      "execution_count": 38,
      "outputs": [
        {
          "output_type": "execute_result",
          "data": {
            "text/html": [
              "<div>\n",
              "<style scoped>\n",
              "    .dataframe tbody tr th:only-of-type {\n",
              "        vertical-align: middle;\n",
              "    }\n",
              "\n",
              "    .dataframe tbody tr th {\n",
              "        vertical-align: top;\n",
              "    }\n",
              "\n",
              "    .dataframe thead th {\n",
              "        text-align: right;\n",
              "    }\n",
              "</style>\n",
              "<table border=\"1\" class=\"dataframe\">\n",
              "  <thead>\n",
              "    <tr style=\"text-align: right;\">\n",
              "      <th></th>\n",
              "      <th>District</th>\n",
              "      <th>geometry</th>\n",
              "      <th>area_km2</th>\n",
              "    </tr>\n",
              "  </thead>\n",
              "  <tbody>\n",
              "    <tr>\n",
              "      <th>0</th>\n",
              "      <td>Bhaktapur</td>\n",
              "      <td>POLYGON ((354267.048 3066863.329, 354444.648 3...</td>\n",
              "      <td>122.781583</td>\n",
              "    </tr>\n",
              "    <tr>\n",
              "      <th>1</th>\n",
              "      <td>Dhading</td>\n",
              "      <td>POLYGON ((314787.633 3137070.191, 314962.895 3...</td>\n",
              "      <td>1885.579794</td>\n",
              "    </tr>\n",
              "    <tr>\n",
              "      <th>2</th>\n",
              "      <td>Kathmandu</td>\n",
              "      <td>POLYGON ((347694.158 3077244.689, 347850.554 3...</td>\n",
              "      <td>414.119566</td>\n",
              "    </tr>\n",
              "    <tr>\n",
              "      <th>3</th>\n",
              "      <td>Kavrepalanchok</td>\n",
              "      <td>POLYGON ((357331.250 3071081.974, 357279.293 3...</td>\n",
              "      <td>1391.380564</td>\n",
              "    </tr>\n",
              "    <tr>\n",
              "      <th>4</th>\n",
              "      <td>Lalitpur</td>\n",
              "      <td>POLYGON ((336859.084 3061906.723, 337687.434 3...</td>\n",
              "      <td>395.434344</td>\n",
              "    </tr>\n",
              "    <tr>\n",
              "      <th>...</th>\n",
              "      <td>...</td>\n",
              "      <td>...</td>\n",
              "      <td>...</td>\n",
              "    </tr>\n",
              "    <tr>\n",
              "      <th>70</th>\n",
              "      <td>Gulmi</td>\n",
              "      <td>POLYGON ((126338.517 3132391.766, 127734.618 3...</td>\n",
              "      <td>1110.909076</td>\n",
              "    </tr>\n",
              "    <tr>\n",
              "      <th>71</th>\n",
              "      <td>Kapilbastu</td>\n",
              "      <td>POLYGON ((109232.958 3080600.818, 109186.616 3...</td>\n",
              "      <td>1655.534564</td>\n",
              "    </tr>\n",
              "    <tr>\n",
              "      <th>72</th>\n",
              "      <td>Nawalparasi</td>\n",
              "      <td>POLYGON ((214735.504 3085494.995, 214184.508 3...</td>\n",
              "      <td>2155.336845</td>\n",
              "    </tr>\n",
              "    <tr>\n",
              "      <th>73</th>\n",
              "      <td>Palpa</td>\n",
              "      <td>POLYGON ((143790.806 3097906.565, 143670.968 3...</td>\n",
              "      <td>1465.395220</td>\n",
              "    </tr>\n",
              "    <tr>\n",
              "      <th>74</th>\n",
              "      <td>Rupandehi</td>\n",
              "      <td>POLYGON ((135974.179 3076745.126, 136832.997 3...</td>\n",
              "      <td>1307.723228</td>\n",
              "    </tr>\n",
              "  </tbody>\n",
              "</table>\n",
              "<p>75 rows × 3 columns</p>\n",
              "</div>"
            ],
            "text/plain": [
              "          District  ...     area_km2\n",
              "0        Bhaktapur  ...   122.781583\n",
              "1          Dhading  ...  1885.579794\n",
              "2        Kathmandu  ...   414.119566\n",
              "3   Kavrepalanchok  ...  1391.380564\n",
              "4         Lalitpur  ...   395.434344\n",
              "..             ...  ...          ...\n",
              "70           Gulmi  ...  1110.909076\n",
              "71      Kapilbastu  ...  1655.534564\n",
              "72     Nawalparasi  ...  2155.336845\n",
              "73           Palpa  ...  1465.395220\n",
              "74       Rupandehi  ...  1307.723228\n",
              "\n",
              "[75 rows x 3 columns]"
            ]
          },
          "metadata": {
            "tags": []
          },
          "execution_count": 38
        }
      ]
    },
    {
      "cell_type": "markdown",
      "metadata": {
        "id": "agwmi-5dhGLp"
      },
      "source": [
        "Hacer una unión de `nep_districts` con `population_data` mediante la variable `District`."
      ]
    },
    {
      "cell_type": "code",
      "metadata": {
        "id": "Qimpjj5Kge7R"
      },
      "source": [
        "# Do an attributes join \n",
        "nep_districts = nep_districts.merge(population_data, on = 'District')"
      ],
      "execution_count": 39,
      "outputs": []
    },
    {
      "cell_type": "code",
      "metadata": {
        "id": "t4wrDp9Ege4h",
        "outputId": "f13c9dca-482e-478f-98c8-9b4588250188",
        "colab": {
          "base_uri": "https://localhost:8080/",
          "height": 419
        }
      },
      "source": [
        "nep_districts"
      ],
      "execution_count": 40,
      "outputs": [
        {
          "output_type": "execute_result",
          "data": {
            "text/html": [
              "<div>\n",
              "<style scoped>\n",
              "    .dataframe tbody tr th:only-of-type {\n",
              "        vertical-align: middle;\n",
              "    }\n",
              "\n",
              "    .dataframe tbody tr th {\n",
              "        vertical-align: top;\n",
              "    }\n",
              "\n",
              "    .dataframe thead th {\n",
              "        text-align: right;\n",
              "    }\n",
              "</style>\n",
              "<table border=\"1\" class=\"dataframe\">\n",
              "  <thead>\n",
              "    <tr style=\"text-align: right;\">\n",
              "      <th></th>\n",
              "      <th>District</th>\n",
              "      <th>geometry</th>\n",
              "      <th>area_km2</th>\n",
              "      <th>Population</th>\n",
              "    </tr>\n",
              "  </thead>\n",
              "  <tbody>\n",
              "    <tr>\n",
              "      <th>0</th>\n",
              "      <td>Bhaktapur</td>\n",
              "      <td>POLYGON ((354267.048 3066863.329, 354444.648 3...</td>\n",
              "      <td>122.781583</td>\n",
              "      <td>304651</td>\n",
              "    </tr>\n",
              "    <tr>\n",
              "      <th>1</th>\n",
              "      <td>Dhading</td>\n",
              "      <td>POLYGON ((314787.633 3137070.191, 314962.895 3...</td>\n",
              "      <td>1885.579794</td>\n",
              "      <td>336067</td>\n",
              "    </tr>\n",
              "    <tr>\n",
              "      <th>2</th>\n",
              "      <td>Kathmandu</td>\n",
              "      <td>POLYGON ((347694.158 3077244.689, 347850.554 3...</td>\n",
              "      <td>414.119566</td>\n",
              "      <td>1744240</td>\n",
              "    </tr>\n",
              "    <tr>\n",
              "      <th>3</th>\n",
              "      <td>Kavrepalanchok</td>\n",
              "      <td>POLYGON ((357331.250 3071081.974, 357279.293 3...</td>\n",
              "      <td>1391.380564</td>\n",
              "      <td>381937</td>\n",
              "    </tr>\n",
              "    <tr>\n",
              "      <th>4</th>\n",
              "      <td>Lalitpur</td>\n",
              "      <td>POLYGON ((336859.084 3061906.723, 337687.434 3...</td>\n",
              "      <td>395.434344</td>\n",
              "      <td>468132</td>\n",
              "    </tr>\n",
              "    <tr>\n",
              "      <th>...</th>\n",
              "      <td>...</td>\n",
              "      <td>...</td>\n",
              "      <td>...</td>\n",
              "      <td>...</td>\n",
              "    </tr>\n",
              "    <tr>\n",
              "      <th>72</th>\n",
              "      <td>Kapilbastu</td>\n",
              "      <td>POLYGON ((109232.958 3080600.818, 109186.616 3...</td>\n",
              "      <td>1655.534564</td>\n",
              "      <td>571936</td>\n",
              "    </tr>\n",
              "    <tr>\n",
              "      <th>73</th>\n",
              "      <td>Nawalparasi</td>\n",
              "      <td>POLYGON ((214735.504 3085494.995, 214184.508 3...</td>\n",
              "      <td>2155.336845</td>\n",
              "      <td>311604</td>\n",
              "    </tr>\n",
              "    <tr>\n",
              "      <th>74</th>\n",
              "      <td>Nawalparasi</td>\n",
              "      <td>POLYGON ((214735.504 3085494.995, 214184.508 3...</td>\n",
              "      <td>2155.336845</td>\n",
              "      <td>331904</td>\n",
              "    </tr>\n",
              "    <tr>\n",
              "      <th>75</th>\n",
              "      <td>Palpa</td>\n",
              "      <td>POLYGON ((143790.806 3097906.565, 143670.968 3...</td>\n",
              "      <td>1465.395220</td>\n",
              "      <td>261180</td>\n",
              "    </tr>\n",
              "    <tr>\n",
              "      <th>76</th>\n",
              "      <td>Rupandehi</td>\n",
              "      <td>POLYGON ((135974.179 3076745.126, 136832.997 3...</td>\n",
              "      <td>1307.723228</td>\n",
              "      <td>880196</td>\n",
              "    </tr>\n",
              "  </tbody>\n",
              "</table>\n",
              "<p>77 rows × 4 columns</p>\n",
              "</div>"
            ],
            "text/plain": [
              "          District  ... Population\n",
              "0        Bhaktapur  ...     304651\n",
              "1          Dhading  ...     336067\n",
              "2        Kathmandu  ...    1744240\n",
              "3   Kavrepalanchok  ...     381937\n",
              "4         Lalitpur  ...     468132\n",
              "..             ...  ...        ...\n",
              "72      Kapilbastu  ...     571936\n",
              "73     Nawalparasi  ...     311604\n",
              "74     Nawalparasi  ...     331904\n",
              "75           Palpa  ...     261180\n",
              "76       Rupandehi  ...     880196\n",
              "\n",
              "[77 rows x 4 columns]"
            ]
          },
          "metadata": {
            "tags": []
          },
          "execution_count": 40
        }
      ]
    },
    {
      "cell_type": "markdown",
      "metadata": {
        "id": "GXA5hMlBhrw9"
      },
      "source": [
        "Calcular la densidad población de cada distrito."
      ]
    },
    {
      "cell_type": "code",
      "metadata": {
        "id": "IjvY8lzyge2a"
      },
      "source": [
        "# Densidad de población: población/kilómtero cuadrado\n",
        "nep_districts['pop_den'] = nep_districts['Population']/nep_districts['area_km2']"
      ],
      "execution_count": 41,
      "outputs": []
    },
    {
      "cell_type": "code",
      "metadata": {
        "id": "KOgvKMAvb1Ka",
        "outputId": "ef63e8bb-a2fa-4a97-cce5-0da391e0f984",
        "colab": {
          "base_uri": "https://localhost:8080/",
          "height": 419
        }
      },
      "source": [
        "nep_districts"
      ],
      "execution_count": 43,
      "outputs": [
        {
          "output_type": "execute_result",
          "data": {
            "text/html": [
              "<div>\n",
              "<style scoped>\n",
              "    .dataframe tbody tr th:only-of-type {\n",
              "        vertical-align: middle;\n",
              "    }\n",
              "\n",
              "    .dataframe tbody tr th {\n",
              "        vertical-align: top;\n",
              "    }\n",
              "\n",
              "    .dataframe thead th {\n",
              "        text-align: right;\n",
              "    }\n",
              "</style>\n",
              "<table border=\"1\" class=\"dataframe\">\n",
              "  <thead>\n",
              "    <tr style=\"text-align: right;\">\n",
              "      <th></th>\n",
              "      <th>District</th>\n",
              "      <th>geometry</th>\n",
              "      <th>area_km2</th>\n",
              "      <th>Population</th>\n",
              "      <th>pop_den</th>\n",
              "    </tr>\n",
              "  </thead>\n",
              "  <tbody>\n",
              "    <tr>\n",
              "      <th>0</th>\n",
              "      <td>Bhaktapur</td>\n",
              "      <td>POLYGON ((354267.048 3066863.329, 354444.648 3...</td>\n",
              "      <td>122.781583</td>\n",
              "      <td>304651</td>\n",
              "      <td>2481.243466</td>\n",
              "    </tr>\n",
              "    <tr>\n",
              "      <th>1</th>\n",
              "      <td>Dhading</td>\n",
              "      <td>POLYGON ((314787.633 3137070.191, 314962.895 3...</td>\n",
              "      <td>1885.579794</td>\n",
              "      <td>336067</td>\n",
              "      <td>178.230060</td>\n",
              "    </tr>\n",
              "    <tr>\n",
              "      <th>2</th>\n",
              "      <td>Kathmandu</td>\n",
              "      <td>POLYGON ((347694.158 3077244.689, 347850.554 3...</td>\n",
              "      <td>414.119566</td>\n",
              "      <td>1744240</td>\n",
              "      <td>4211.923662</td>\n",
              "    </tr>\n",
              "    <tr>\n",
              "      <th>3</th>\n",
              "      <td>Kavrepalanchok</td>\n",
              "      <td>POLYGON ((357331.250 3071081.974, 357279.293 3...</td>\n",
              "      <td>1391.380564</td>\n",
              "      <td>381937</td>\n",
              "      <td>274.502181</td>\n",
              "    </tr>\n",
              "    <tr>\n",
              "      <th>4</th>\n",
              "      <td>Lalitpur</td>\n",
              "      <td>POLYGON ((336859.084 3061906.723, 337687.434 3...</td>\n",
              "      <td>395.434344</td>\n",
              "      <td>468132</td>\n",
              "      <td>1183.842544</td>\n",
              "    </tr>\n",
              "    <tr>\n",
              "      <th>...</th>\n",
              "      <td>...</td>\n",
              "      <td>...</td>\n",
              "      <td>...</td>\n",
              "      <td>...</td>\n",
              "      <td>...</td>\n",
              "    </tr>\n",
              "    <tr>\n",
              "      <th>72</th>\n",
              "      <td>Kapilbastu</td>\n",
              "      <td>POLYGON ((109232.958 3080600.818, 109186.616 3...</td>\n",
              "      <td>1655.534564</td>\n",
              "      <td>571936</td>\n",
              "      <td>345.469078</td>\n",
              "    </tr>\n",
              "    <tr>\n",
              "      <th>73</th>\n",
              "      <td>Nawalparasi</td>\n",
              "      <td>POLYGON ((214735.504 3085494.995, 214184.508 3...</td>\n",
              "      <td>2155.336845</td>\n",
              "      <td>311604</td>\n",
              "      <td>144.573226</td>\n",
              "    </tr>\n",
              "    <tr>\n",
              "      <th>74</th>\n",
              "      <td>Nawalparasi</td>\n",
              "      <td>POLYGON ((214735.504 3085494.995, 214184.508 3...</td>\n",
              "      <td>2155.336845</td>\n",
              "      <td>331904</td>\n",
              "      <td>153.991707</td>\n",
              "    </tr>\n",
              "    <tr>\n",
              "      <th>75</th>\n",
              "      <td>Palpa</td>\n",
              "      <td>POLYGON ((143790.806 3097906.565, 143670.968 3...</td>\n",
              "      <td>1465.395220</td>\n",
              "      <td>261180</td>\n",
              "      <td>178.231781</td>\n",
              "    </tr>\n",
              "    <tr>\n",
              "      <th>76</th>\n",
              "      <td>Rupandehi</td>\n",
              "      <td>POLYGON ((135974.179 3076745.126, 136832.997 3...</td>\n",
              "      <td>1307.723228</td>\n",
              "      <td>880196</td>\n",
              "      <td>673.075144</td>\n",
              "    </tr>\n",
              "  </tbody>\n",
              "</table>\n",
              "<p>77 rows × 5 columns</p>\n",
              "</div>"
            ],
            "text/plain": [
              "          District  ...      pop_den\n",
              "0        Bhaktapur  ...  2481.243466\n",
              "1          Dhading  ...   178.230060\n",
              "2        Kathmandu  ...  4211.923662\n",
              "3   Kavrepalanchok  ...   274.502181\n",
              "4         Lalitpur  ...  1183.842544\n",
              "..             ...  ...          ...\n",
              "72      Kapilbastu  ...   345.469078\n",
              "73     Nawalparasi  ...   144.573226\n",
              "74     Nawalparasi  ...   153.991707\n",
              "75           Palpa  ...   178.231781\n",
              "76       Rupandehi  ...   673.075144\n",
              "\n",
              "[77 rows x 5 columns]"
            ]
          },
          "metadata": {
            "tags": []
          },
          "execution_count": 43
        }
      ]
    },
    {
      "cell_type": "markdown",
      "metadata": {
        "id": "8GXfnAPGm_TK"
      },
      "source": [
        "## 2.9 Graficar un mapa"
      ]
    },
    {
      "cell_type": "code",
      "metadata": {
        "id": "7OXTS7AdhrA2",
        "outputId": "f0b194ee-e568-47b0-8852-8b39a4a4a150",
        "colab": {
          "base_uri": "https://localhost:8080/",
          "height": 506
        }
      },
      "source": [
        "# Establecer la letra a mostrar\n",
        "font = {\n",
        "    'family': 'serif',\n",
        "    'color':  '#101012',\n",
        "    'weight': 'normal',\n",
        "    'size': 16\n",
        "}\n",
        "\n",
        "# Crear figura y sus ejes\n",
        "fig, ax = plt.subplots(figsize = (16,8))\n",
        "\n",
        "# Establecer características de los ejes\n",
        "ax.ticklabel_format(\n",
        "    # Evitar la notación científica en los ejes\n",
        "    useOffset=False,\n",
        "    style='plain'\n",
        ")\n",
        "\n",
        "# Gráficar los valores de densidad poblacional\n",
        "nep_districts.plot(\n",
        "    column = 'pop_den', cmap = 'Spectral', legend = True,\n",
        "    ax=ax,\n",
        "    legend_kwds= {\n",
        "        'label': \"Pob/km$^{2}$\",'orientation': \"vertical\"\n",
        "    }\n",
        ")\n",
        "\n",
        "# Texto en el título\n",
        "plt.title(\n",
        "    label = 'Densidad poblacional de Nepal - 2011',\n",
        "    fontdict = font\n",
        ")\n",
        "# Texto en el eje y\n",
        "plt.ylabel(\n",
        "    ylabel = 'N',\n",
        "    fontdict = font\n",
        ")\n",
        "# Texto en el eje x\n",
        "plt.xlabel(\n",
        "    xlabel = 'E',\n",
        "    fontdict = font\n",
        ")\n",
        "\n",
        "# Añadir texto al gráfico\n",
        "plt.text(\n",
        "    x = -200000, y = 2920000, s = 'EPSG: 32645\\nElaborado por: Erik Seras',\n",
        "    fontdict= {\n",
        "        'family': 'serif',\n",
        "        'color':  '#101012',\n",
        "        'weight': 'normal',\n",
        "        'size': 10\n",
        "})\n",
        "\n",
        "\n",
        "# Guardar el gráfico generado\n",
        "plt.savefig(\n",
        "    fname = 'den_pob_nepal_2011.png', dpi=600,\n",
        "    bbox_inches='tight'\n",
        ")\n",
        "\n",
        "# Mostrar el gráfico\n",
        "plt.show()"
      ],
      "execution_count": 87,
      "outputs": [
        {
          "output_type": "display_data",
          "data": {
            "image/png": "[encoded data removed]",
            "text/plain": [
              "<Figure size 1152x576 with 2 Axes>"
            ]
          },
          "metadata": {
            "tags": [],
            "needs_background": "light"
          }
        }
      ]
    }
  ]
}