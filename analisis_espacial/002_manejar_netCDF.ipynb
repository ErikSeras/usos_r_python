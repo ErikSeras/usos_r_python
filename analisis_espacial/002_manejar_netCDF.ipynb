{
  "nbformat": 4,
  "nbformat_minor": 0,
  "metadata": {
    "colab": {
      "name": "002_manejar_netCDF.ipynb",
      "provenance": [],
      "authorship_tag": "ABX9TyMqF0AU3V6+9o8960ZaAoiA",
      "include_colab_link": true
    },
    "kernelspec": {
      "name": "python3",
      "display_name": "Python 3"
    }
  },
  "cells": [
    {
      "cell_type": "markdown",
      "metadata": {
        "id": "view-in-github",
        "colab_type": "text"
      },
      "source": [
        "<a href=\"https://colab.research.google.com/github/ErikSeras/usos_r_python/blob/main/analisis_espacial/002_manejar_netCDF.ipynb\" target=\"_parent\"><img src=\"https://colab.research.google.com/assets/colab-badge.svg\" alt=\"Open In Colab\"/></a>"
      ]
    },
    {
      "cell_type": "markdown",
      "metadata": {
        "id": "r8GhnlsOjqo6"
      },
      "source": [
        "# Manejo de archivos netCDF\n",
        "\n",
        "Elaborado por: __Erik Seras__\n",
        "\n",
        "Tutoriales que ayudaron a desarrollar el presente ejercicio:\n",
        "- https://www.youtube.com/watch?v=ue55Mxe4yVQ\n",
        "- https://www.youtube.com/watch?v=XGUS6DYZfCc\n",
        "- https://www.youtube.com/watch?v=hrm5RmsVXo0\n",
        "- https://www.youtube.com/watch?v=r5m_aU5V6oY&t=3s\n",
        "- https://www.youtube.com/watch?v=dSv3-obKv3M"
      ]
    },
    {
      "cell_type": "markdown",
      "metadata": {
        "id": "4gVDN7eF39dQ"
      },
      "source": [
        "# 1 Instalaciones previas"
      ]
    },
    {
      "cell_type": "markdown",
      "metadata": {
        "id": "zLVABBin0Ggo"
      },
      "source": [
        "Archivos que ayudan a procesar data espacial."
      ]
    },
    {
      "cell_type": "code",
      "metadata": {
        "id": "sQMsKB8hjg6q"
      },
      "source": [
        "! sudo add-apt-repository ppa:ubuntugis/ubuntugis-unstable\n",
        "! sudo apt-get update\n",
        "! sudo apt-get install libudunits2-dev libgdal-dev libgeos-dev libproj-dev\n",
        "! sudo apt-get install libprotobuf-dev protobuf-compiler libv8-dev libjq-dev"
      ],
      "execution_count": null,
      "outputs": []
    },
    {
      "cell_type": "markdown",
      "metadata": {
        "id": "wfUvqe_A5VrF"
      },
      "source": [
        "https://stackoverflow.com/questions/40374441/python-basemap-module-impossible-to-import"
      ]
    },
    {
      "cell_type": "code",
      "metadata": {
        "id": "mij-mwkAgsuw"
      },
      "source": [
        "# Instalar basemap\n",
        "! sudo apt-get install geos\n",
        "! sudo pip3 install https://github.com/matplotlib/basemap/archive/master.zip"
      ],
      "execution_count": null,
      "outputs": []
    },
    {
      "cell_type": "code",
      "metadata": {
        "id": "_mtJ4v55zoVj"
      },
      "source": [
        "# Necesario para extraer archivos de zip\n",
        "! pip install patool"
      ],
      "execution_count": null,
      "outputs": []
    },
    {
      "cell_type": "code",
      "metadata": {
        "id": "LuYdBBFf6BFv"
      },
      "source": [
        "# Necesario para trabajar con archivos netCDF\n",
        "! pip install netCDF4"
      ],
      "execution_count": null,
      "outputs": []
    },
    {
      "cell_type": "code",
      "metadata": {
        "id": "b_8ilGkSwFWK"
      },
      "source": [
        "# Necesario para hacer GIF\n",
        "! pip install Pillow"
      ],
      "execution_count": null,
      "outputs": []
    },
    {
      "cell_type": "markdown",
      "metadata": {
        "id": "VjeM3qJXjyRu"
      },
      "source": [
        "# 2 Descargar datos de precipitación y temperatura"
      ]
    },
    {
      "cell_type": "markdown",
      "metadata": {
        "id": "M-qyd893wAr2"
      },
      "source": [
        "Datos de temperatura para la región monzónica de Asia se puede encontrar en la plataforma [APHRODITE](http://aphrodite.st.hirosaki-u.ac.jp/index.html)."
      ]
    },
    {
      "cell_type": "markdown",
      "metadata": {
        "id": "p5FYF4TgwYS0"
      },
      "source": [
        "## 2.1 Descargar datos"
      ]
    },
    {
      "cell_type": "code",
      "metadata": {
        "id": "y_fkO-A-juOf"
      },
      "source": [
        "import requests \n",
        "import numpy as np"
      ],
      "execution_count": 6,
      "outputs": []
    },
    {
      "cell_type": "markdown",
      "metadata": {
        "id": "1tSvwkwq18Bf"
      },
      "source": [
        "Cree su cuenta en la plataforma de [APHRODITE-2](http://aphrodite.st.hirosaki-u.ac.jp/download/create/) par apoder acceder a los archivos."
      ]
    },
    {
      "cell_type": "code",
      "metadata": {
        "id": "lRffUeCFjuQx"
      },
      "source": [
        "# El usename y el password le llegará a su correo cuando se registre\n",
        "username = '...'\n",
        "password = '...'\n",
        "\n",
        "# Rango de años que desea descargar\n",
        "years = np.arange(1961,1967)"
      ],
      "execution_count": 7,
      "outputs": []
    },
    {
      "cell_type": "code",
      "metadata": {
        "id": "R5FJTFdVwbo-"
      },
      "source": [
        "# Loop que permite descargar los archivos\n",
        "for year in years:\n",
        "    url = 'http://aphrodite.st.hirosaki-u.ac.jp/product/APHRO_V1808_TEMP/APHRO_MA/025deg_nc/APHRO_MA_TAVE_025deg_V1808.'+ str(year)+ '.nc.gz'\n",
        "    r = requests.get(url, auth=(username,password), allow_redirects = True)\n",
        "    open(str(year)+'.gz', 'wb').write(r.content)"
      ],
      "execution_count": 8,
      "outputs": []
    },
    {
      "cell_type": "markdown",
      "metadata": {
        "id": "oxxZ8xk3zbKc"
      },
      "source": [
        "## 2.2 Extraer los archivos"
      ]
    },
    {
      "cell_type": "code",
      "metadata": {
        "id": "FMcsobA3zbys"
      },
      "source": [
        "import patoolib\n",
        "import os"
      ],
      "execution_count": 9,
      "outputs": []
    },
    {
      "cell_type": "code",
      "metadata": {
        "id": "Tut2_EJmwbri"
      },
      "source": [
        "# Loop para extraer los archivos .nc\n",
        "for zipfiles in os.listdir():\n",
        "    if zipfiles[-3: ] == '.gz':\n",
        "        patoolib.extract_archive(zipfiles, outdir = r'netCDF_Temparature')"
      ],
      "execution_count": null,
      "outputs": []
    },
    {
      "cell_type": "markdown",
      "metadata": {
        "id": "86RBfzXu6KiM"
      },
      "source": [
        "# 3 Manejar los datos netCDF"
      ]
    },
    {
      "cell_type": "code",
      "metadata": {
        "id": "eLB4283EjuTw"
      },
      "source": [
        "from netCDF4 import Dataset\n",
        "import numpy as np"
      ],
      "execution_count": 11,
      "outputs": []
    },
    {
      "cell_type": "markdown",
      "metadata": {
        "id": "Vcy3fGgz8tIb"
      },
      "source": [
        "## 3.1 Leer un archivo netCDF"
      ]
    },
    {
      "cell_type": "code",
      "metadata": {
        "id": "rpXkmpD76Mu3"
      },
      "source": [
        "# Leer un archivo netCDF\n",
        "data = Dataset(r'netCDF_Temparature/APHRO_MA_TAVE_025deg_V1808.1961.nc')"
      ],
      "execution_count": 12,
      "outputs": []
    },
    {
      "cell_type": "code",
      "metadata": {
        "id": "L4HQvS-h6MxZ",
        "outputId": "a10447fa-97c2-4362-ce14-e955e67bff8b",
        "colab": {
          "base_uri": "https://localhost:8080/"
        }
      },
      "source": [
        "print(data)"
      ],
      "execution_count": 13,
      "outputs": [
        {
          "output_type": "stream",
          "text": [
            "<class 'netCDF4._netCDF4.Dataset'>\n",
            "root group (NETCDF4 data model, file format HDF5):\n",
            "    title: APHRO_MA V1808 daily temperature with 0.25deg grids\n",
            "    dimensions(sizes): lon(360), lat(280), time(365)\n",
            "    variables(dimensions): float64 lon(lon), float64 lat(lat), float64 time(time), float32 tave(time, lat, lon), float32 rstn(time, lat, lon)\n",
            "    groups: \n"
          ],
          "name": "stdout"
        }
      ]
    },
    {
      "cell_type": "markdown",
      "metadata": {
        "id": "sq4xP14n8rqc"
      },
      "source": [
        "## 3.2 Visualizar el nombre de las variables"
      ]
    },
    {
      "cell_type": "code",
      "metadata": {
        "id": "47rEjB1Y8qaV",
        "outputId": "558da5d2-31ed-45e4-8238-ea377ef378e2",
        "colab": {
          "base_uri": "https://localhost:8080/"
        }
      },
      "source": [
        "lon = data.variables['lon']\n",
        "print(lon)"
      ],
      "execution_count": 14,
      "outputs": [
        {
          "output_type": "stream",
          "text": [
            "<class 'netCDF4._netCDF4.Variable'>\n",
            "float64 lon(lon)\n",
            "    units: degrees_east\n",
            "    long_name: Longitude\n",
            "unlimited dimensions: \n",
            "current shape = (360,)\n",
            "filling on, default _FillValue of 9.969209968386869e+36 used\n"
          ],
          "name": "stdout"
        }
      ]
    },
    {
      "cell_type": "code",
      "metadata": {
        "id": "5CL-WMV28qp_",
        "outputId": "d1b6a289-97ef-41a0-ebb5-ba66f2e4f2b1",
        "colab": {
          "base_uri": "https://localhost:8080/"
        }
      },
      "source": [
        "lat = data.variables['lat']\n",
        "print(lat)"
      ],
      "execution_count": 15,
      "outputs": [
        {
          "output_type": "stream",
          "text": [
            "<class 'netCDF4._netCDF4.Variable'>\n",
            "float64 lat(lat)\n",
            "    units: degrees_north\n",
            "    long_name: Latitude\n",
            "unlimited dimensions: \n",
            "current shape = (280,)\n",
            "filling on, default _FillValue of 9.969209968386869e+36 used\n"
          ],
          "name": "stdout"
        }
      ]
    },
    {
      "cell_type": "code",
      "metadata": {
        "id": "G--m0l4v8qgQ",
        "outputId": "4d2a3fef-aaf7-4744-9bd4-9680bce39b6a",
        "colab": {
          "base_uri": "https://localhost:8080/"
        }
      },
      "source": [
        "time = data.variables['time']\n",
        "print(time)"
      ],
      "execution_count": 16,
      "outputs": [
        {
          "output_type": "stream",
          "text": [
            "<class 'netCDF4._netCDF4.Variable'>\n",
            "float64 time(time)\n",
            "    long_name: Time\n",
            "    units: minutes since 1961-01-01 00:00\n",
            "unlimited dimensions: time\n",
            "current shape = (365,)\n",
            "filling on, default _FillValue of 9.969209968386869e+36 used\n"
          ],
          "name": "stdout"
        }
      ]
    },
    {
      "cell_type": "code",
      "metadata": {
        "id": "66ATCMG47Bg9",
        "outputId": "13700b74-ba36-41bb-f0d5-8ed98bd6c357",
        "colab": {
          "base_uri": "https://localhost:8080/"
        }
      },
      "source": [
        "tave = data.variables['tave']\n",
        "print(tave)"
      ],
      "execution_count": 17,
      "outputs": [
        {
          "output_type": "stream",
          "text": [
            "<class 'netCDF4._netCDF4.Variable'>\n",
            "float32 tave(time, lat, lon)\n",
            "    _FillValue: -99.9\n",
            "    units: degrees centigrade\n",
            "    long_name:  daily mean temperature analysis interpolated onto 0.25deg grids\n",
            "unlimited dimensions: time\n",
            "current shape = (365, 280, 360)\n",
            "filling on\n"
          ],
          "name": "stdout"
        }
      ]
    },
    {
      "cell_type": "markdown",
      "metadata": {
        "id": "rOIctePa9-qF"
      },
      "source": [
        "## 3.3 Acceder a la data de las variables"
      ]
    },
    {
      "cell_type": "code",
      "metadata": {
        "id": "hAe54wxN8-67",
        "outputId": "4b72377d-6674-42e2-f057-fc89133822aa",
        "colab": {
          "base_uri": "https://localhost:8080/"
        }
      },
      "source": [
        "# Los datos se encuentran en minutos\n",
        "time_data = data.variables['time'][:]\n",
        "print(time_data)"
      ],
      "execution_count": 18,
      "outputs": [
        {
          "output_type": "stream",
          "text": [
            "[     0.   1440.   2880.   4320.   5760.   7200.   8640.  10080.  11520.\n",
            "  12960.  14400.  15840.  17280.  18720.  20160.  21600.  23040.  24480.\n",
            "  25920.  27360.  28800.  30240.  31680.  33120.  34560.  36000.  37440.\n",
            "  38880.  40320.  41760.  43200.  44640.  46080.  47520.  48960.  50400.\n",
            "  51840.  53280.  54720.  56160.  57600.  59040.  60480.  61920.  63360.\n",
            "  64800.  66240.  67680.  69120.  70560.  72000.  73440.  74880.  76320.\n",
            "  77760.  79200.  80640.  82080.  83520.  84960.  86400.  87840.  89280.\n",
            "  90720.  92160.  93600.  95040.  96480.  97920.  99360. 100800. 102240.\n",
            " 103680. 105120. 106560. 108000. 109440. 110880. 112320. 113760. 115200.\n",
            " 116640. 118080. 119520. 120960. 122400. 123840. 125280. 126720. 128160.\n",
            " 129600. 131040. 132480. 133920. 135360. 136800. 138240. 139680. 141120.\n",
            " 142560. 144000. 145440. 146880. 148320. 149760. 151200. 152640. 154080.\n",
            " 155520. 156960. 158400. 159840. 161280. 162720. 164160. 165600. 167040.\n",
            " 168480. 169920. 171360. 172800. 174240. 175680. 177120. 178560. 180000.\n",
            " 181440. 182880. 184320. 185760. 187200. 188640. 190080. 191520. 192960.\n",
            " 194400. 195840. 197280. 198720. 200160. 201600. 203040. 204480. 205920.\n",
            " 207360. 208800. 210240. 211680. 213120. 214560. 216000. 217440. 218880.\n",
            " 220320. 221760. 223200. 224640. 226080. 227520. 228960. 230400. 231840.\n",
            " 233280. 234720. 236160. 237600. 239040. 240480. 241920. 243360. 244800.\n",
            " 246240. 247680. 249120. 250560. 252000. 253440. 254880. 256320. 257760.\n",
            " 259200. 260640. 262080. 263520. 264960. 266400. 267840. 269280. 270720.\n",
            " 272160. 273600. 275040. 276480. 277920. 279360. 280800. 282240. 283680.\n",
            " 285120. 286560. 288000. 289440. 290880. 292320. 293760. 295200. 296640.\n",
            " 298080. 299520. 300960. 302400. 303840. 305280. 306720. 308160. 309600.\n",
            " 311040. 312480. 313920. 315360. 316800. 318240. 319680. 321120. 322560.\n",
            " 324000. 325440. 326880. 328320. 329760. 331200. 332640. 334080. 335520.\n",
            " 336960. 338400. 339840. 341280. 342720. 344160. 345600. 347040. 348480.\n",
            " 349920. 351360. 352800. 354240. 355680. 357120. 358560. 360000. 361440.\n",
            " 362880. 364320. 365760. 367200. 368640. 370080. 371520. 372960. 374400.\n",
            " 375840. 377280. 378720. 380160. 381600. 383040. 384480. 385920. 387360.\n",
            " 388800. 390240. 391680. 393120. 394560. 396000. 397440. 398880. 400320.\n",
            " 401760. 403200. 404640. 406080. 407520. 408960. 410400. 411840. 413280.\n",
            " 414720. 416160. 417600. 419040. 420480. 421920. 423360. 424800. 426240.\n",
            " 427680. 429120. 430560. 432000. 433440. 434880. 436320. 437760. 439200.\n",
            " 440640. 442080. 443520. 444960. 446400. 447840. 449280. 450720. 452160.\n",
            " 453600. 455040. 456480. 457920. 459360. 460800. 462240. 463680. 465120.\n",
            " 466560. 468000. 469440. 470880. 472320. 473760. 475200. 476640. 478080.\n",
            " 479520. 480960. 482400. 483840. 485280. 486720. 488160. 489600. 491040.\n",
            " 492480. 493920. 495360. 496800. 498240. 499680. 501120. 502560. 504000.\n",
            " 505440. 506880. 508320. 509760. 511200. 512640. 514080. 515520. 516960.\n",
            " 518400. 519840. 521280. 522720. 524160.]\n"
          ],
          "name": "stdout"
        }
      ]
    },
    {
      "cell_type": "code",
      "metadata": {
        "id": "5uqke9Mr8-9u",
        "outputId": "3e67285f-c8ba-4825-804e-383e136288d2",
        "colab": {
          "base_uri": "https://localhost:8080/"
        }
      },
      "source": [
        "# Longitud en grados decimales\n",
        "lon_data = data.variables['lon'][:]\n",
        "print(lon_data)"
      ],
      "execution_count": 19,
      "outputs": [
        {
          "output_type": "stream",
          "text": [
            "[ 60.125  60.375  60.625  60.875  61.125  61.375  61.625  61.875  62.125\n",
            "  62.375  62.625  62.875  63.125  63.375  63.625  63.875  64.125  64.375\n",
            "  64.625  64.875  65.125  65.375  65.625  65.875  66.125  66.375  66.625\n",
            "  66.875  67.125  67.375  67.625  67.875  68.125  68.375  68.625  68.875\n",
            "  69.125  69.375  69.625  69.875  70.125  70.375  70.625  70.875  71.125\n",
            "  71.375  71.625  71.875  72.125  72.375  72.625  72.875  73.125  73.375\n",
            "  73.625  73.875  74.125  74.375  74.625  74.875  75.125  75.375  75.625\n",
            "  75.875  76.125  76.375  76.625  76.875  77.125  77.375  77.625  77.875\n",
            "  78.125  78.375  78.625  78.875  79.125  79.375  79.625  79.875  80.125\n",
            "  80.375  80.625  80.875  81.125  81.375  81.625  81.875  82.125  82.375\n",
            "  82.625  82.875  83.125  83.375  83.625  83.875  84.125  84.375  84.625\n",
            "  84.875  85.125  85.375  85.625  85.875  86.125  86.375  86.625  86.875\n",
            "  87.125  87.375  87.625  87.875  88.125  88.375  88.625  88.875  89.125\n",
            "  89.375  89.625  89.875  90.125  90.375  90.625  90.875  91.125  91.375\n",
            "  91.625  91.875  92.125  92.375  92.625  92.875  93.125  93.375  93.625\n",
            "  93.875  94.125  94.375  94.625  94.875  95.125  95.375  95.625  95.875\n",
            "  96.125  96.375  96.625  96.875  97.125  97.375  97.625  97.875  98.125\n",
            "  98.375  98.625  98.875  99.125  99.375  99.625  99.875 100.125 100.375\n",
            " 100.625 100.875 101.125 101.375 101.625 101.875 102.125 102.375 102.625\n",
            " 102.875 103.125 103.375 103.625 103.875 104.125 104.375 104.625 104.875\n",
            " 105.125 105.375 105.625 105.875 106.125 106.375 106.625 106.875 107.125\n",
            " 107.375 107.625 107.875 108.125 108.375 108.625 108.875 109.125 109.375\n",
            " 109.625 109.875 110.125 110.375 110.625 110.875 111.125 111.375 111.625\n",
            " 111.875 112.125 112.375 112.625 112.875 113.125 113.375 113.625 113.875\n",
            " 114.125 114.375 114.625 114.875 115.125 115.375 115.625 115.875 116.125\n",
            " 116.375 116.625 116.875 117.125 117.375 117.625 117.875 118.125 118.375\n",
            " 118.625 118.875 119.125 119.375 119.625 119.875 120.125 120.375 120.625\n",
            " 120.875 121.125 121.375 121.625 121.875 122.125 122.375 122.625 122.875\n",
            " 123.125 123.375 123.625 123.875 124.125 124.375 124.625 124.875 125.125\n",
            " 125.375 125.625 125.875 126.125 126.375 126.625 126.875 127.125 127.375\n",
            " 127.625 127.875 128.125 128.375 128.625 128.875 129.125 129.375 129.625\n",
            " 129.875 130.125 130.375 130.625 130.875 131.125 131.375 131.625 131.875\n",
            " 132.125 132.375 132.625 132.875 133.125 133.375 133.625 133.875 134.125\n",
            " 134.375 134.625 134.875 135.125 135.375 135.625 135.875 136.125 136.375\n",
            " 136.625 136.875 137.125 137.375 137.625 137.875 138.125 138.375 138.625\n",
            " 138.875 139.125 139.375 139.625 139.875 140.125 140.375 140.625 140.875\n",
            " 141.125 141.375 141.625 141.875 142.125 142.375 142.625 142.875 143.125\n",
            " 143.375 143.625 143.875 144.125 144.375 144.625 144.875 145.125 145.375\n",
            " 145.625 145.875 146.125 146.375 146.625 146.875 147.125 147.375 147.625\n",
            " 147.875 148.125 148.375 148.625 148.875 149.125 149.375 149.625 149.875]\n"
          ],
          "name": "stdout"
        }
      ]
    },
    {
      "cell_type": "markdown",
      "metadata": {
        "id": "_msExF9FE89A"
      },
      "source": [
        "# 4 Ejemplo de extracción cercana a una ubicación en específico"
      ]
    },
    {
      "cell_type": "code",
      "metadata": {
        "id": "Hk2mAlBi8_Cm"
      },
      "source": [
        "from netCDF4 import Dataset\n",
        "import numpy as np\n",
        "import pandas as pd"
      ],
      "execution_count": 20,
      "outputs": []
    },
    {
      "cell_type": "code",
      "metadata": {
        "id": "k_TVtrzr8_Aq"
      },
      "source": [
        "# Leer un archivo netCDF\n",
        "data = Dataset(r'netCDF_Temparature/APHRO_MA_TAVE_025deg_V1808.1961.nc')"
      ],
      "execution_count": 21,
      "outputs": []
    },
    {
      "cell_type": "code",
      "metadata": {
        "id": "cZwNrt5PI47a"
      },
      "source": [
        "# # Almacenamiento de los datos de latitud y longitud en variables\n",
        "lon = data.variables['lon'][:]\n",
        "lat = data.variables['lat'][:]"
      ],
      "execution_count": 22,
      "outputs": []
    },
    {
      "cell_type": "code",
      "metadata": {
        "id": "7IJXwlt5FKYG"
      },
      "source": [
        "# Almacenamiento de los datos de latitud y longitud de Katmandú, Nepal en variables\n",
        "lat_katmandu = 27.697817\n",
        "lon_katmandu = 85.329806"
      ],
      "execution_count": 23,
      "outputs": []
    },
    {
      "cell_type": "code",
      "metadata": {
        "id": "Uqz7t5UgIe49"
      },
      "source": [
        "# Diferencia al cuadrado de longitud y latitud\n",
        "sq_diff_lon = (lon - lon_katmandu)**2\n",
        "sq_diff_lat = (lat - lat_katmandu)**2"
      ],
      "execution_count": 24,
      "outputs": []
    },
    {
      "cell_type": "code",
      "metadata": {
        "id": "PmeP295IIe9T"
      },
      "source": [
        "# Identificar el índice del valor mínimo para longitud y latitud\n",
        "min_index_lon = sq_diff_lon.argmin()\n",
        "min_index_lat = sq_diff_lat.argmin()"
      ],
      "execution_count": 25,
      "outputs": []
    },
    {
      "cell_type": "code",
      "metadata": {
        "id": "0awKD692Ie7w"
      },
      "source": [
        "temp = data.variables['tave']"
      ],
      "execution_count": 26,
      "outputs": []
    },
    {
      "cell_type": "code",
      "metadata": {
        "id": "03vSFeWv7Bp3"
      },
      "source": [
        "# Crear un marco de datos de pandas vacío\n",
        "starting_date = data.variables['time'].units[14:24]\n",
        "ending_date = data.variables['time'].units[14:18] + '-12-31'\n",
        "date_range = pd.date_range(start = starting_date, end = ending_date)\n",
        "df = pd.DataFrame(0, columns = ['Temperature'], index = date_range)"
      ],
      "execution_count": 27,
      "outputs": []
    },
    {
      "cell_type": "code",
      "metadata": {
        "id": "FDB5lkcVK862"
      },
      "source": [
        "dt = np.arange(0, data.variables['time'].size)"
      ],
      "execution_count": 28,
      "outputs": []
    },
    {
      "cell_type": "code",
      "metadata": {
        "id": "Jm_sUtjnMWyS"
      },
      "source": [
        "# Obtener valores del archivo netCDF para la ubicación de Katmandú\n",
        "for time_index in dt:\n",
        "\tdf.iloc[time_index] = temp[time_index, min_index_lat, min_index_lon]"
      ],
      "execution_count": 29,
      "outputs": []
    },
    {
      "cell_type": "code",
      "metadata": {
        "id": "pBoza6wYMW36",
        "outputId": "1509c283-209e-4080-f854-dc48603fd974",
        "colab": {
          "base_uri": "https://localhost:8080/",
          "height": 204
        }
      },
      "source": [
        "df.head()"
      ],
      "execution_count": 30,
      "outputs": [
        {
          "output_type": "execute_result",
          "data": {
            "text/html": [
              "<div>\n",
              "<style scoped>\n",
              "    .dataframe tbody tr th:only-of-type {\n",
              "        vertical-align: middle;\n",
              "    }\n",
              "\n",
              "    .dataframe tbody tr th {\n",
              "        vertical-align: top;\n",
              "    }\n",
              "\n",
              "    .dataframe thead th {\n",
              "        text-align: right;\n",
              "    }\n",
              "</style>\n",
              "<table border=\"1\" class=\"dataframe\">\n",
              "  <thead>\n",
              "    <tr style=\"text-align: right;\">\n",
              "      <th></th>\n",
              "      <th>Temperature</th>\n",
              "    </tr>\n",
              "  </thead>\n",
              "  <tbody>\n",
              "    <tr>\n",
              "      <th>1961-01-01</th>\n",
              "      <td>13.143258</td>\n",
              "    </tr>\n",
              "    <tr>\n",
              "      <th>1961-01-02</th>\n",
              "      <td>11.123806</td>\n",
              "    </tr>\n",
              "    <tr>\n",
              "      <th>1961-01-03</th>\n",
              "      <td>10.084595</td>\n",
              "    </tr>\n",
              "    <tr>\n",
              "      <th>1961-01-04</th>\n",
              "      <td>10.658081</td>\n",
              "    </tr>\n",
              "    <tr>\n",
              "      <th>1961-01-05</th>\n",
              "      <td>9.927292</td>\n",
              "    </tr>\n",
              "  </tbody>\n",
              "</table>\n",
              "</div>"
            ],
            "text/plain": [
              "            Temperature\n",
              "1961-01-01    13.143258\n",
              "1961-01-02    11.123806\n",
              "1961-01-03    10.084595\n",
              "1961-01-04    10.658081\n",
              "1961-01-05     9.927292"
            ]
          },
          "metadata": {
            "tags": []
          },
          "execution_count": 30
        }
      ]
    },
    {
      "cell_type": "code",
      "metadata": {
        "id": "eACqm8iKMW7e"
      },
      "source": [
        "# Guardar en un csv\n",
        "df.to_csv('temperature_Katmandu.csv')"
      ],
      "execution_count": 31,
      "outputs": []
    },
    {
      "cell_type": "markdown",
      "metadata": {
        "id": "Mv20brjSarwn"
      },
      "source": [
        "# 5 Trazar datos netCDF en un mapa "
      ]
    },
    {
      "cell_type": "code",
      "metadata": {
        "id": "ShHb7qDXMW1w"
      },
      "source": [
        "import matplotlib.pyplot as plt\n",
        "from netCDF4 import Dataset\n",
        "import numpy as np\n",
        "from mpl_toolkits.basemap import Basemap"
      ],
      "execution_count": 32,
      "outputs": []
    },
    {
      "cell_type": "code",
      "metadata": {
        "id": "Ptd-uxRna3ui"
      },
      "source": [
        "# Leer el archivo netCDF\n",
        "data = Dataset(r'netCDF_Temparature/APHRO_MA_TAVE_025deg_V1808.1962.nc')"
      ],
      "execution_count": 33,
      "outputs": []
    },
    {
      "cell_type": "code",
      "metadata": {
        "id": "ucycz3_gK9Dk"
      },
      "source": [
        "# Obtener longitud\n",
        "lons = data.variables['lon'][:]\n",
        "# Obtener latutud\n",
        "lats = data.variables['lat'][:]\n",
        "# Obtener tiempo\n",
        "time = data.variables['time'][:]\n",
        "# Obtener temperatura\n",
        "tave = data.variables['tave'][:]"
      ],
      "execution_count": 34,
      "outputs": []
    },
    {
      "cell_type": "code",
      "metadata": {
        "id": "XcLt0dsDK8-E",
        "outputId": "ffcb644f-4db2-4d28-b8e4-dc2c90e5de94",
        "colab": {
          "base_uri": "https://localhost:8080/",
          "height": 461
        }
      },
      "source": [
        "# Modificar el tamaño del gráfico\n",
        "plt.figure(figsize=(12,8))\n",
        "\n",
        "# Delimitar la visualización del mapa\n",
        "mp = Basemap(\n",
        "    projection = 'merc',\n",
        "    llcrnrlon = 42.8,\n",
        "    llcrnrlat = -2,\n",
        "    urcrnrlon = 105.37,\n",
        "    urcrnrlat = 38.78,\n",
        "    resolution = 'i'\n",
        ")\n",
        "\n",
        "lon, lat = np.meshgrid(lons, lats)\n",
        "x, y = mp(lon, lat)\n",
        "\n",
        "\n",
        "# tave[0,:,:] siginifica los datos de temperatura promedio durante el 01-01-1962\n",
        "c_scheme = mp.pcolor(x, y, np.squeeze(tave[0,:,:]), cmap = 'jet')\n",
        "\n",
        "mp.drawcoastlines()\n",
        "mp.drawstates()\n",
        "mp.drawcountries()\n",
        "\n",
        "cbar = mp.colorbar(c_scheme, location = 'right', pad = '10%')\n",
        "\n",
        "plt.title('Temperatura promedio en 01-01-1962')\n",
        "\n",
        "plt.show()\n"
      ],
      "execution_count": 35,
      "outputs": [
        {
          "output_type": "display_data",
          "data": {
            "image/png": "[encoded data removed]",
            "text/plain": [
              "<Figure size 864x576 with 2 Axes>"
            ]
          },
          "metadata": {
            "tags": [],
            "needs_background": "light"
          }
        }
      ]
    },
    {
      "cell_type": "markdown",
      "metadata": {
        "id": "R_cnWoZjtUj7"
      },
      "source": [
        "# 6 Crear un lapso de tiempo animado de temperatura utilizando datos de cuadrícula netCDF"
      ]
    },
    {
      "cell_type": "markdown",
      "metadata": {
        "id": "2AboivADwRHH"
      },
      "source": [
        "## 6.1 Generación de imágenes de precipitación de cada día"
      ]
    },
    {
      "cell_type": "code",
      "metadata": {
        "id": "IUW9Imdovdoi"
      },
      "source": [
        "# Creacion de la carpeta que guardará los gráficos de cada día\n",
        "! mkdir animation/"
      ],
      "execution_count": 36,
      "outputs": []
    },
    {
      "cell_type": "code",
      "metadata": {
        "id": "oCDVoyjqnyQ4"
      },
      "source": [
        "import matplotlib.pyplot as plt\n",
        "from netCDF4 import Dataset\n",
        "import numpy as np\n",
        "from mpl_toolkits.basemap import Basemap\n",
        "\n",
        "# Leer el archivo netCDF\n",
        "data = Dataset(r'netCDF_Temparature/APHRO_MA_TAVE_025deg_V1808.1962.nc')\n",
        "\n",
        "# Obtener longitud\n",
        "lons = data.variables['lon'][:]\n",
        "# Obtener latutud\n",
        "lats = data.variables['lat'][:]\n",
        "# Obtener tiempo\n",
        "time = data.variables['time'][:]\n",
        "# Obtener temperatura\n",
        "tave = data.variables['tave'][:]\n",
        "\n",
        "# Modificar el tamaño del gráfico\n",
        "plt.figure(figsize=(12,8))\n",
        "\n",
        "# Delimitar la visualización del mapa\n",
        "mp = Basemap(\n",
        "    projection = 'merc',\n",
        "    llcrnrlon = 42.8,\n",
        "    llcrnrlat = -2,\n",
        "    urcrnrlon = 105.37,\n",
        "    urcrnrlat = 38.78,\n",
        "    resolution = 'i'\n",
        ")\n",
        "\n",
        "lon, lat = np.meshgrid(lons, lats)\n",
        "x, y = mp(lon, lat)\n",
        "\n",
        "\n",
        "\n",
        "# Crear los identificadores de los días del año\n",
        "days = np.arange(0, 365)\n",
        "\n",
        "# Crear gráficos de temperatura de cada día\n",
        "for i in days:\n",
        "    c_scheme = mp.pcolor(x, y, np.squeeze(tave[i,:,:]), cmap = 'jet')\n",
        "    mp.drawcoastlines()\n",
        "    mp.drawstates()\n",
        "    mp.drawcountries()\n",
        "\n",
        "    cbar = mp.colorbar(c_scheme, location = 'right', pad = '10%')\n",
        "\n",
        "    day = i + 1\n",
        "\n",
        "    plt.title('Temperatura promedio: Día ' + str(day) + ' del año 1962')\n",
        "    plt.clim(-40, 40)\n",
        "    plt.savefig(fname = r'animation/' + str(day) + '.jpg')\n",
        "    plt.clf()\n"
      ],
      "execution_count": null,
      "outputs": []
    },
    {
      "cell_type": "markdown",
      "metadata": {
        "id": "VlYTKWN7wWTB"
      },
      "source": [
        "## 6.2 Generación del GIF"
      ]
    },
    {
      "cell_type": "code",
      "metadata": {
        "id": "LHwBmt6hnyV4"
      },
      "source": [
        "import PIL\n",
        "import numpy as np\n",
        "\n",
        "# Lista donde se guardará las imágenes\n",
        "image_frames = []\n",
        "\n",
        "days = np.arange(1, 366)\n",
        "\n",
        "# Loop para guardar las imágenes en una sola variable\n",
        "for k in days:\n",
        "    new_frame = PIL.Image.open(r'animation/' + str(k) + '.jpg')\n",
        "    image_frames.append(new_frame)"
      ],
      "execution_count": 38,
      "outputs": []
    },
    {
      "cell_type": "code",
      "metadata": {
        "id": "r_6ios9Pnyb8"
      },
      "source": [
        "# Creación del GIF\n",
        "image_frames[0].save(\n",
        "    'temperatura_timelapse.gif',\n",
        "    format = 'GIF',\n",
        "    append_images = image_frames[1:],\n",
        "    save_all = True, duration = 200,\n",
        "    loop = 0\n",
        ")"
      ],
      "execution_count": 39,
      "outputs": []
    }
  ]
}